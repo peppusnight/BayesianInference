{
 "cells": [
  {
   "cell_type": "code",
   "execution_count": 1,
   "id": "numeric-clearance",
   "metadata": {},
   "outputs": [
    {
     "name": "stderr",
     "output_type": "stream",
     "text": [
      "Warning message:\n",
      "\"package 'cobalt' was built under R version 4.0.5\"\n",
      " cobalt (Version 4.3.1, Build Date: 2021-03-30 09:50:18 UTC)\n",
      "\n",
      "Warning message:\n",
      "\"package 'stringr' was built under R version 4.0.5\"\n",
      "Warning message:\n",
      "\"package 'MatchIt' was built under R version 4.0.5\"\n",
      "\n",
      "Attaching package: 'MatchIt'\n",
      "\n",
      "\n",
      "The following object is masked from 'package:cobalt':\n",
      "\n",
      "    lalonde\n",
      "\n",
      "\n"
     ]
    }
   ],
   "source": [
    "rm(list=ls())\n",
    "options(jupyter.plot_scale=1)\n",
    "library('cobalt')\n",
    "library('stringr')\n",
    "library(\"MatchIt\")\n",
    "library('grid')\n",
    "library('gridExtra')\n",
    "library('ggplot2')\n",
    "\n",
    "\n",
    "setwd(\"C:/Users/peppu/Documents/MyPythonProject/BayesianInference/Assignment_Mealli\")"
   ]
  },
  {
   "cell_type": "markdown",
   "id": "unnecessary-karaoke",
   "metadata": {},
   "source": [
    "# 1 - Project"
   ]
  },
  {
   "cell_type": "markdown",
   "id": "reported-individual",
   "metadata": {},
   "source": [
    "#### 1 - Load the dataset in R. Temporarily remove the outcome, OUTCOME, from the data set."
   ]
  },
  {
   "cell_type": "code",
   "execution_count": 2,
   "id": "traditional-chicken",
   "metadata": {},
   "outputs": [
    {
     "data": {
      "text/html": [
       "<table class=\"dataframe\">\n",
       "<caption>A data.frame: 6 × 24</caption>\n",
       "<thead>\n",
       "\t<tr><th></th><th scope=col>age</th><th scope=col>gender</th><th scope=col>married</th><th scope=col>natio1</th><th scope=col>natio2</th><th scope=col>natio3</th><th scope=col>natio4</th><th scope=col>natio5</th><th scope=col>educ1</th><th scope=col>educ2</th><th scope=col>...</th><th scope=col>EmployLevel4</th><th scope=col>EmployLevel5</th><th scope=col>skill</th><th scope=col>sector0</th><th scope=col>sector1</th><th scope=col>sector2</th><th scope=col>sector3</th><th scope=col>sector4</th><th scope=col>work_12</th><th scope=col>nb_mthbf_12</th></tr>\n",
       "\t<tr><th></th><th scope=col>&lt;int&gt;</th><th scope=col>&lt;int&gt;</th><th scope=col>&lt;int&gt;</th><th scope=col>&lt;int&gt;</th><th scope=col>&lt;int&gt;</th><th scope=col>&lt;int&gt;</th><th scope=col>&lt;int&gt;</th><th scope=col>&lt;int&gt;</th><th scope=col>&lt;int&gt;</th><th scope=col>&lt;int&gt;</th><th scope=col>...</th><th scope=col>&lt;int&gt;</th><th scope=col>&lt;int&gt;</th><th scope=col>&lt;int&gt;</th><th scope=col>&lt;int&gt;</th><th scope=col>&lt;int&gt;</th><th scope=col>&lt;int&gt;</th><th scope=col>&lt;int&gt;</th><th scope=col>&lt;int&gt;</th><th scope=col>&lt;int&gt;</th><th scope=col>&lt;int&gt;</th></tr>\n",
       "</thead>\n",
       "<tbody>\n",
       "\t<tr><th scope=row>2</th><td>60</td><td>1</td><td>0</td><td>0</td><td>0</td><td>1</td><td>0</td><td>0</td><td>0</td><td>1</td><td>...</td><td>0</td><td>0</td><td>1</td><td>0</td><td>1</td><td>0</td><td>0</td><td>0</td><td>1</td><td>12</td></tr>\n",
       "\t<tr><th scope=row>4</th><td>60</td><td>0</td><td>1</td><td>0</td><td>1</td><td>0</td><td>0</td><td>0</td><td>0</td><td>1</td><td>...</td><td>0</td><td>1</td><td>0</td><td>0</td><td>1</td><td>0</td><td>0</td><td>0</td><td>1</td><td>12</td></tr>\n",
       "\t<tr><th scope=row>8</th><td>63</td><td>1</td><td>1</td><td>0</td><td>0</td><td>1</td><td>0</td><td>0</td><td>1</td><td>0</td><td>...</td><td>0</td><td>0</td><td>1</td><td>0</td><td>0</td><td>0</td><td>1</td><td>0</td><td>1</td><td>12</td></tr>\n",
       "\t<tr><th scope=row>11</th><td>60</td><td>0</td><td>1</td><td>0</td><td>1</td><td>0</td><td>0</td><td>0</td><td>0</td><td>1</td><td>...</td><td>1</td><td>0</td><td>1</td><td>0</td><td>1</td><td>0</td><td>0</td><td>0</td><td>1</td><td>12</td></tr>\n",
       "\t<tr><th scope=row>13</th><td>59</td><td>0</td><td>1</td><td>0</td><td>0</td><td>0</td><td>1</td><td>0</td><td>0</td><td>0</td><td>...</td><td>0</td><td>0</td><td>1</td><td>1</td><td>0</td><td>0</td><td>0</td><td>0</td><td>0</td><td> 0</td></tr>\n",
       "\t<tr><th scope=row>16</th><td>60</td><td>1</td><td>0</td><td>0</td><td>0</td><td>1</td><td>0</td><td>0</td><td>0</td><td>1</td><td>...</td><td>0</td><td>0</td><td>1</td><td>1</td><td>0</td><td>0</td><td>0</td><td>0</td><td>0</td><td> 0</td></tr>\n",
       "</tbody>\n",
       "</table>\n"
      ],
      "text/latex": [
       "A data.frame: 6 × 24\n",
       "\\begin{tabular}{r|lllllllllllllllllllll}\n",
       "  & age & gender & married & natio1 & natio2 & natio3 & natio4 & natio5 & educ1 & educ2 & ... & EmployLevel4 & EmployLevel5 & skill & sector0 & sector1 & sector2 & sector3 & sector4 & work\\_12 & nb\\_mthbf\\_12\\\\\n",
       "  & <int> & <int> & <int> & <int> & <int> & <int> & <int> & <int> & <int> & <int> & ... & <int> & <int> & <int> & <int> & <int> & <int> & <int> & <int> & <int> & <int>\\\\\n",
       "\\hline\n",
       "\t2 & 60 & 1 & 0 & 0 & 0 & 1 & 0 & 0 & 0 & 1 & ... & 0 & 0 & 1 & 0 & 1 & 0 & 0 & 0 & 1 & 12\\\\\n",
       "\t4 & 60 & 0 & 1 & 0 & 1 & 0 & 0 & 0 & 0 & 1 & ... & 0 & 1 & 0 & 0 & 1 & 0 & 0 & 0 & 1 & 12\\\\\n",
       "\t8 & 63 & 1 & 1 & 0 & 0 & 1 & 0 & 0 & 1 & 0 & ... & 0 & 0 & 1 & 0 & 0 & 0 & 1 & 0 & 1 & 12\\\\\n",
       "\t11 & 60 & 0 & 1 & 0 & 1 & 0 & 0 & 0 & 0 & 1 & ... & 1 & 0 & 1 & 0 & 1 & 0 & 0 & 0 & 1 & 12\\\\\n",
       "\t13 & 59 & 0 & 1 & 0 & 0 & 0 & 1 & 0 & 0 & 0 & ... & 0 & 0 & 1 & 1 & 0 & 0 & 0 & 0 & 0 &  0\\\\\n",
       "\t16 & 60 & 1 & 0 & 0 & 0 & 1 & 0 & 0 & 0 & 1 & ... & 0 & 0 & 1 & 1 & 0 & 0 & 0 & 0 & 0 &  0\\\\\n",
       "\\end{tabular}\n"
      ],
      "text/markdown": [
       "\n",
       "A data.frame: 6 × 24\n",
       "\n",
       "| <!--/--> | age &lt;int&gt; | gender &lt;int&gt; | married &lt;int&gt; | natio1 &lt;int&gt; | natio2 &lt;int&gt; | natio3 &lt;int&gt; | natio4 &lt;int&gt; | natio5 &lt;int&gt; | educ1 &lt;int&gt; | educ2 &lt;int&gt; | ... ... | EmployLevel4 &lt;int&gt; | EmployLevel5 &lt;int&gt; | skill &lt;int&gt; | sector0 &lt;int&gt; | sector1 &lt;int&gt; | sector2 &lt;int&gt; | sector3 &lt;int&gt; | sector4 &lt;int&gt; | work_12 &lt;int&gt; | nb_mthbf_12 &lt;int&gt; |\n",
       "|---|---|---|---|---|---|---|---|---|---|---|---|---|---|---|---|---|---|---|---|---|---|\n",
       "| 2 | 60 | 1 | 0 | 0 | 0 | 1 | 0 | 0 | 0 | 1 | ... | 0 | 0 | 1 | 0 | 1 | 0 | 0 | 0 | 1 | 12 |\n",
       "| 4 | 60 | 0 | 1 | 0 | 1 | 0 | 0 | 0 | 0 | 1 | ... | 0 | 1 | 0 | 0 | 1 | 0 | 0 | 0 | 1 | 12 |\n",
       "| 8 | 63 | 1 | 1 | 0 | 0 | 1 | 0 | 0 | 1 | 0 | ... | 0 | 0 | 1 | 0 | 0 | 0 | 1 | 0 | 1 | 12 |\n",
       "| 11 | 60 | 0 | 1 | 0 | 1 | 0 | 0 | 0 | 0 | 1 | ... | 1 | 0 | 1 | 0 | 1 | 0 | 0 | 0 | 1 | 12 |\n",
       "| 13 | 59 | 0 | 1 | 0 | 0 | 0 | 1 | 0 | 0 | 0 | ... | 0 | 0 | 1 | 1 | 0 | 0 | 0 | 0 | 0 |  0 |\n",
       "| 16 | 60 | 1 | 0 | 0 | 0 | 1 | 0 | 0 | 0 | 1 | ... | 0 | 0 | 1 | 1 | 0 | 0 | 0 | 0 | 0 |  0 |\n",
       "\n"
      ],
      "text/plain": [
       "   age gender married natio1 natio2 natio3 natio4 natio5 educ1 educ2 ...\n",
       "2  60  1      0       0      0      1      0      0      0     1     ...\n",
       "4  60  0      1       0      1      0      0      0      0     1     ...\n",
       "8  63  1      1       0      0      1      0      0      1     0     ...\n",
       "11 60  0      1       0      1      0      0      0      0     1     ...\n",
       "13 59  0      1       0      0      0      1      0      0     0     ...\n",
       "16 60  1      0       0      0      1      0      0      0     1     ...\n",
       "   EmployLevel4 EmployLevel5 skill sector0 sector1 sector2 sector3 sector4\n",
       "2  0            0            1     0       1       0       0       0      \n",
       "4  0            1            0     0       1       0       0       0      \n",
       "8  0            0            1     0       0       0       1       0      \n",
       "11 1            0            1     0       1       0       0       0      \n",
       "13 0            0            1     1       0       0       0       0      \n",
       "16 0            0            1     1       0       0       0       0      \n",
       "   work_12 nb_mthbf_12\n",
       "2  1       12         \n",
       "4  1       12         \n",
       "8  1       12         \n",
       "11 1       12         \n",
       "13 0        0         \n",
       "16 0        0         "
      ]
     },
     "metadata": {},
     "output_type": "display_data"
    }
   ],
   "source": [
    "data = read.table(\"TrainingLux.txt\",header=TRUE)\n",
    "y = data$Outcome\n",
    "Z = data$TREAT\n",
    "X_treat = within(data, rm('Outcome'))\n",
    "X = within(X_treat, rm('TREAT'))\n",
    "head(X)\n",
    "\n",
    "# Correct specification for categorical variables. Not needed here because they are binaries\n",
    "# XXX = transform(X_TREAT, \n",
    "# gender = as.factor(gender),\n",
    "# married = as.factor(married),\n",
    "# natio1 = as.factor(natio1),\n",
    "# natio2 = as.factor(natio2),\n",
    "# natio3 = as.factor(natio3),\n",
    "# natio4 = as.factor(natio4),\n",
    "# natio5 = as.factor(natio5),\n",
    "# educ1 = as.factor(educ1),\n",
    "# educ2 = as.factor(educ2),\n",
    "# educ3 = as.factor(educ3),\n",
    "# EmployLevel1 = as.factor(EmployLevel1), \n",
    "# EmployLevel2 = as.factor(EmployLevel2), \n",
    "# EmployLevel3 = as.factor(EmployLevel3), \n",
    "# EmployLevel4 = as.factor(EmployLevel4), \n",
    "# EmployLevel5 = as.factor(EmployLevel5), \n",
    "# skill = as.factor(skill),\n",
    "# sector0 = as.factor(sector0),\n",
    "# sector1 = as.factor(sector1),\n",
    "# sector2 = as.factor(sector2),\n",
    "# sector3 = as.factor(sector3),\n",
    "# sector4 = as.factor(sector4),\n",
    "# work_12 = as.factor(work_12))"
   ]
  },
  {
   "cell_type": "markdown",
   "id": "demographic-ambassador",
   "metadata": {},
   "source": [
    "#### 2 - For each covariate, display the mean within each treatment group and the standardized difference in a table."
   ]
  },
  {
   "cell_type": "code",
   "execution_count": 3,
   "id": "knowing-induction",
   "metadata": {},
   "outputs": [
    {
     "data": {
      "text/html": [
       "<table class=\"dataframe\">\n",
       "<caption>A matrix: 24 × 6 of type dbl</caption>\n",
       "<thead>\n",
       "\t<tr><th></th><th scope=col>meanT</th><th scope=col>meanC</th><th scope=col>meandiff</th><th scope=col>StMeanDiff</th><th scope=col>StMeanDiffTtest</th><th scope=col>range_var</th></tr>\n",
       "</thead>\n",
       "<tbody>\n",
       "\t<tr><th scope=row>age</th><td>36.826</td><td>34.435</td><td> 2.391</td><td> 0.231</td><td>  8.469</td><td>54</td></tr>\n",
       "\t<tr><th scope=row>gender</th><td> 0.649</td><td> 0.471</td><td> 0.178</td><td> 0.364</td><td> 12.037</td><td> 1</td></tr>\n",
       "\t<tr><th scope=row>married</th><td> 0.556</td><td> 0.420</td><td> 0.136</td><td> 0.274</td><td>  8.852</td><td> 1</td></tr>\n",
       "\t<tr><th scope=row>natio1</th><td> 0.055</td><td> 0.308</td><td>-0.253</td><td>-0.693</td><td>-34.134</td><td> 1</td></tr>\n",
       "\t<tr><th scope=row>natio2</th><td> 0.270</td><td> 0.301</td><td>-0.031</td><td>-0.068</td><td> -2.247</td><td> 1</td></tr>\n",
       "\t<tr><th scope=row>natio3</th><td> 0.274</td><td> 0.194</td><td> 0.080</td><td> 0.189</td><td>  5.800</td><td> 1</td></tr>\n",
       "\t<tr><th scope=row>natio4</th><td> 0.187</td><td> 0.081</td><td> 0.106</td><td> 0.316</td><td>  8.906</td><td> 1</td></tr>\n",
       "\t<tr><th scope=row>natio5</th><td> 0.214</td><td> 0.116</td><td> 0.097</td><td> 0.265</td><td>  7.747</td><td> 1</td></tr>\n",
       "\t<tr><th scope=row>educ1</th><td> 0.277</td><td> 0.272</td><td> 0.005</td><td> 0.011</td><td>  0.363</td><td> 1</td></tr>\n",
       "\t<tr><th scope=row>educ2</th><td> 0.340</td><td> 0.495</td><td>-0.155</td><td>-0.318</td><td>-10.565</td><td> 1</td></tr>\n",
       "\t<tr><th scope=row>educ3</th><td> 0.382</td><td> 0.233</td><td> 0.150</td><td> 0.329</td><td> 10.022</td><td> 1</td></tr>\n",
       "\t<tr><th scope=row>EmployLevel1</th><td> 0.097</td><td> 0.175</td><td>-0.078</td><td>-0.230</td><td> -8.502</td><td> 1</td></tr>\n",
       "\t<tr><th scope=row>EmployLevel2</th><td> 0.438</td><td> 0.398</td><td> 0.040</td><td> 0.080</td><td>  2.584</td><td> 1</td></tr>\n",
       "\t<tr><th scope=row>EmployLevel3</th><td> 0.380</td><td> 0.333</td><td> 0.046</td><td> 0.097</td><td>  3.095</td><td> 1</td></tr>\n",
       "\t<tr><th scope=row>EmployLevel4</th><td> 0.075</td><td> 0.077</td><td>-0.003</td><td>-0.011</td><td> -0.344</td><td> 1</td></tr>\n",
       "\t<tr><th scope=row>EmployLevel5</th><td> 0.011</td><td> 0.016</td><td>-0.005</td><td>-0.041</td><td> -1.446</td><td> 1</td></tr>\n",
       "\t<tr><th scope=row>skill</th><td> 0.947</td><td> 0.952</td><td>-0.004</td><td>-0.020</td><td> -0.649</td><td> 1</td></tr>\n",
       "\t<tr><th scope=row>sector0</th><td> 0.150</td><td> 0.336</td><td>-0.185</td><td>-0.443</td><td>-16.603</td><td> 1</td></tr>\n",
       "\t<tr><th scope=row>sector1</th><td> 0.364</td><td> 0.297</td><td> 0.067</td><td> 0.143</td><td>  4.522</td><td> 1</td></tr>\n",
       "\t<tr><th scope=row>sector2</th><td> 0.174</td><td> 0.102</td><td> 0.072</td><td> 0.210</td><td>  6.196</td><td> 1</td></tr>\n",
       "\t<tr><th scope=row>sector3</th><td> 0.168</td><td> 0.139</td><td> 0.028</td><td> 0.079</td><td>  2.467</td><td> 1</td></tr>\n",
       "\t<tr><th scope=row>sector4</th><td> 0.144</td><td> 0.126</td><td> 0.018</td><td> 0.052</td><td>  1.640</td><td> 1</td></tr>\n",
       "\t<tr><th scope=row>work_12</th><td> 0.754</td><td> 0.639</td><td> 0.115</td><td> 0.251</td><td>  8.593</td><td> 1</td></tr>\n",
       "\t<tr><th scope=row>nb_mthbf_12</th><td> 4.971</td><td> 6.438</td><td>-1.467</td><td>-0.316</td><td>-12.829</td><td>12</td></tr>\n",
       "</tbody>\n",
       "</table>\n"
      ],
      "text/latex": [
       "A matrix: 24 × 6 of type dbl\n",
       "\\begin{tabular}{r|llllll}\n",
       "  & meanT & meanC & meandiff & StMeanDiff & StMeanDiffTtest & range\\_var\\\\\n",
       "\\hline\n",
       "\tage & 36.826 & 34.435 &  2.391 &  0.231 &   8.469 & 54\\\\\n",
       "\tgender &  0.649 &  0.471 &  0.178 &  0.364 &  12.037 &  1\\\\\n",
       "\tmarried &  0.556 &  0.420 &  0.136 &  0.274 &   8.852 &  1\\\\\n",
       "\tnatio1 &  0.055 &  0.308 & -0.253 & -0.693 & -34.134 &  1\\\\\n",
       "\tnatio2 &  0.270 &  0.301 & -0.031 & -0.068 &  -2.247 &  1\\\\\n",
       "\tnatio3 &  0.274 &  0.194 &  0.080 &  0.189 &   5.800 &  1\\\\\n",
       "\tnatio4 &  0.187 &  0.081 &  0.106 &  0.316 &   8.906 &  1\\\\\n",
       "\tnatio5 &  0.214 &  0.116 &  0.097 &  0.265 &   7.747 &  1\\\\\n",
       "\teduc1 &  0.277 &  0.272 &  0.005 &  0.011 &   0.363 &  1\\\\\n",
       "\teduc2 &  0.340 &  0.495 & -0.155 & -0.318 & -10.565 &  1\\\\\n",
       "\teduc3 &  0.382 &  0.233 &  0.150 &  0.329 &  10.022 &  1\\\\\n",
       "\tEmployLevel1 &  0.097 &  0.175 & -0.078 & -0.230 &  -8.502 &  1\\\\\n",
       "\tEmployLevel2 &  0.438 &  0.398 &  0.040 &  0.080 &   2.584 &  1\\\\\n",
       "\tEmployLevel3 &  0.380 &  0.333 &  0.046 &  0.097 &   3.095 &  1\\\\\n",
       "\tEmployLevel4 &  0.075 &  0.077 & -0.003 & -0.011 &  -0.344 &  1\\\\\n",
       "\tEmployLevel5 &  0.011 &  0.016 & -0.005 & -0.041 &  -1.446 &  1\\\\\n",
       "\tskill &  0.947 &  0.952 & -0.004 & -0.020 &  -0.649 &  1\\\\\n",
       "\tsector0 &  0.150 &  0.336 & -0.185 & -0.443 & -16.603 &  1\\\\\n",
       "\tsector1 &  0.364 &  0.297 &  0.067 &  0.143 &   4.522 &  1\\\\\n",
       "\tsector2 &  0.174 &  0.102 &  0.072 &  0.210 &   6.196 &  1\\\\\n",
       "\tsector3 &  0.168 &  0.139 &  0.028 &  0.079 &   2.467 &  1\\\\\n",
       "\tsector4 &  0.144 &  0.126 &  0.018 &  0.052 &   1.640 &  1\\\\\n",
       "\twork\\_12 &  0.754 &  0.639 &  0.115 &  0.251 &   8.593 &  1\\\\\n",
       "\tnb\\_mthbf\\_12 &  4.971 &  6.438 & -1.467 & -0.316 & -12.829 & 12\\\\\n",
       "\\end{tabular}\n"
      ],
      "text/markdown": [
       "\n",
       "A matrix: 24 × 6 of type dbl\n",
       "\n",
       "| <!--/--> | meanT | meanC | meandiff | StMeanDiff | StMeanDiffTtest | range_var |\n",
       "|---|---|---|---|---|---|---|\n",
       "| age | 36.826 | 34.435 |  2.391 |  0.231 |   8.469 | 54 |\n",
       "| gender |  0.649 |  0.471 |  0.178 |  0.364 |  12.037 |  1 |\n",
       "| married |  0.556 |  0.420 |  0.136 |  0.274 |   8.852 |  1 |\n",
       "| natio1 |  0.055 |  0.308 | -0.253 | -0.693 | -34.134 |  1 |\n",
       "| natio2 |  0.270 |  0.301 | -0.031 | -0.068 |  -2.247 |  1 |\n",
       "| natio3 |  0.274 |  0.194 |  0.080 |  0.189 |   5.800 |  1 |\n",
       "| natio4 |  0.187 |  0.081 |  0.106 |  0.316 |   8.906 |  1 |\n",
       "| natio5 |  0.214 |  0.116 |  0.097 |  0.265 |   7.747 |  1 |\n",
       "| educ1 |  0.277 |  0.272 |  0.005 |  0.011 |   0.363 |  1 |\n",
       "| educ2 |  0.340 |  0.495 | -0.155 | -0.318 | -10.565 |  1 |\n",
       "| educ3 |  0.382 |  0.233 |  0.150 |  0.329 |  10.022 |  1 |\n",
       "| EmployLevel1 |  0.097 |  0.175 | -0.078 | -0.230 |  -8.502 |  1 |\n",
       "| EmployLevel2 |  0.438 |  0.398 |  0.040 |  0.080 |   2.584 |  1 |\n",
       "| EmployLevel3 |  0.380 |  0.333 |  0.046 |  0.097 |   3.095 |  1 |\n",
       "| EmployLevel4 |  0.075 |  0.077 | -0.003 | -0.011 |  -0.344 |  1 |\n",
       "| EmployLevel5 |  0.011 |  0.016 | -0.005 | -0.041 |  -1.446 |  1 |\n",
       "| skill |  0.947 |  0.952 | -0.004 | -0.020 |  -0.649 |  1 |\n",
       "| sector0 |  0.150 |  0.336 | -0.185 | -0.443 | -16.603 |  1 |\n",
       "| sector1 |  0.364 |  0.297 |  0.067 |  0.143 |   4.522 |  1 |\n",
       "| sector2 |  0.174 |  0.102 |  0.072 |  0.210 |   6.196 |  1 |\n",
       "| sector3 |  0.168 |  0.139 |  0.028 |  0.079 |   2.467 |  1 |\n",
       "| sector4 |  0.144 |  0.126 |  0.018 |  0.052 |   1.640 |  1 |\n",
       "| work_12 |  0.754 |  0.639 |  0.115 |  0.251 |   8.593 |  1 |\n",
       "| nb_mthbf_12 |  4.971 |  6.438 | -1.467 | -0.316 | -12.829 | 12 |\n",
       "\n"
      ],
      "text/plain": [
       "             meanT  meanC  meandiff StMeanDiff StMeanDiffTtest range_var\n",
       "age          36.826 34.435  2.391    0.231       8.469         54       \n",
       "gender        0.649  0.471  0.178    0.364      12.037          1       \n",
       "married       0.556  0.420  0.136    0.274       8.852          1       \n",
       "natio1        0.055  0.308 -0.253   -0.693     -34.134          1       \n",
       "natio2        0.270  0.301 -0.031   -0.068      -2.247          1       \n",
       "natio3        0.274  0.194  0.080    0.189       5.800          1       \n",
       "natio4        0.187  0.081  0.106    0.316       8.906          1       \n",
       "natio5        0.214  0.116  0.097    0.265       7.747          1       \n",
       "educ1         0.277  0.272  0.005    0.011       0.363          1       \n",
       "educ2         0.340  0.495 -0.155   -0.318     -10.565          1       \n",
       "educ3         0.382  0.233  0.150    0.329      10.022          1       \n",
       "EmployLevel1  0.097  0.175 -0.078   -0.230      -8.502          1       \n",
       "EmployLevel2  0.438  0.398  0.040    0.080       2.584          1       \n",
       "EmployLevel3  0.380  0.333  0.046    0.097       3.095          1       \n",
       "EmployLevel4  0.075  0.077 -0.003   -0.011      -0.344          1       \n",
       "EmployLevel5  0.011  0.016 -0.005   -0.041      -1.446          1       \n",
       "skill         0.947  0.952 -0.004   -0.020      -0.649          1       \n",
       "sector0       0.150  0.336 -0.185   -0.443     -16.603          1       \n",
       "sector1       0.364  0.297  0.067    0.143       4.522          1       \n",
       "sector2       0.174  0.102  0.072    0.210       6.196          1       \n",
       "sector3       0.168  0.139  0.028    0.079       2.467          1       \n",
       "sector4       0.144  0.126  0.018    0.052       1.640          1       \n",
       "work_12       0.754  0.639  0.115    0.251       8.593          1       \n",
       "nb_mthbf_12   4.971  6.438 -1.467   -0.316     -12.829         12       "
      ]
     },
     "metadata": {},
     "output_type": "display_data"
    }
   ],
   "source": [
    "meanT = apply(X[Z==1,],2,mean) # Average of the treated\n",
    "meanC = apply(X[Z==0,],2,mean) # Average of the controls\n",
    "varT = apply(X[Z==1,],2,var) # Variance of the treated\n",
    "varC = apply(X[Z==0,],2,var) # Variance of the controls\n",
    "\n",
    "meandiff = meanT - meanC\n",
    "StMeanDiff = meandiff/ sqrt((varT+varC)/2) # STANDARDIZED DIFFERENCE BETWEEN MEANS\n",
    "StMeanDiffTtest = meandiff/sqrt(varT/sum(Z==1) + varC/sum(Z==0)) # STANDARDIZED DIFFERENCE BETWEEN MEANS (t-test)\n",
    "range_var = apply(X,2,max)-apply(X,2,min) # Range of the variable\n",
    "\n",
    "round(cbind(meanT, meanC, meandiff, StMeanDiff,StMeanDiffTtest,range_var),3)"
   ]
  },
  {
   "cell_type": "markdown",
   "id": "packed-congo",
   "metadata": {},
   "source": [
    "#### 3 - Estimate a propensity score for each unit in the observational study using the fitted values from a logistic regression with main effects for all of the covariates contained in the data set (leave out transformations and interactions here, but we would generally want to explore these other terms). Compare graphically the distributions of estimated propensity scores within the treatment groups and explain what you see."
   ]
  },
  {
   "cell_type": "code",
   "execution_count": 4,
   "id": "based-mount",
   "metadata": {},
   "outputs": [
    {
     "data": {
      "text/html": [
       "1.47183017293818"
      ],
      "text/latex": [
       "1.47183017293818"
      ],
      "text/markdown": [
       "1.47183017293818"
      ],
      "text/plain": [
       "[1] 1.47183"
      ]
     },
     "metadata": {},
     "output_type": "display_data"
    }
   ],
   "source": [
    "model_ps = glm(TREAT~., data=X_treat, family=binomial(link=logit)) # Propensity score estimation\n",
    "log_ps = predict.glm(model_ps) # equalt to log(pscores/(1-pscores)) \n",
    "pscore = model_ps$fitted # Propensity score\n",
    "# summary(model_ps)\n",
    "\n",
    "Mlp.c<-mean(log_ps[Z==0]) # Mean log ps of the controls\n",
    "Mlp.t<-mean(log_ps[Z==1]) # Mean log ps of the treated\n",
    "Vlp.c<-var(log_ps[Z==0]) # Var log ps of the controls\n",
    "Vlp.t<-var(log_ps[Z==1]) # Var log ps of the tread \n",
    " \n",
    "StandDiff_log_ps = (Mlp.t-Mlp.c)/sqrt((Vlp.t+Vlp.c)/2)\n",
    "StandDiff_log_ps # Standard difference in LOG_PS"
   ]
  },
  {
   "cell_type": "code",
   "execution_count": 5,
   "id": "imposed-motorcycle",
   "metadata": {
    "scrolled": false
   },
   "outputs": [
    {
     "data": {
      "image/png": "[encoded data removed]",
      "text/plain": [
       "Plot with title \"Log PS\""
      ]
     },
     "metadata": {
      "image/png": {
       "height": 840,
       "width": 840
      }
     },
     "output_type": "display_data"
    },
    {
     "data": {
      "image/png": "[encoded data removed]",
      "text/plain": [
       "Plot with title \"PS\""
      ]
     },
     "metadata": {
      "image/png": {
       "height": 840,
       "width": 840
      }
     },
     "output_type": "display_data"
    },
    {
     "data": {
      "image/png": "[encoded data removed]",
      "text/plain": [
       "plot without title"
      ]
     },
     "metadata": {
      "image/png": {
       "height": 840,
       "width": 840
      }
     },
     "output_type": "display_data"
    }
   ],
   "source": [
    "x_low_lim = min(log_ps) - 1 # Set the minimum for the breakpoints\n",
    "x_up_lim = max(log_ps) + 1 # Set the maximum for the breakpoints\n",
    "\n",
    "par(mfcol=c(1,1))\n",
    "hist(log_ps[Z==1], freq=FALSE, main=\"Log PS\",xlab=\"\",ylab=\"\",breaks=50,\n",
    "     xlim=c(x_low_lim,x_up_lim), col=rgb(1,0,0,0.5))\n",
    "hist(log_ps[Z==0], freq=FALSE, breaks=50,\n",
    "     xlim=c(x_low_lim,x_up_lim), add=TRUE, lwd=2, \n",
    "      col=rgb(0,0,1,0.5), lty=2,)\n",
    "par(xpd=TRUE)\n",
    "legend(\"topright\",\n",
    "       legend = c(\"Treated\", \"Controls\"),\n",
    "       lty = c(1, 2),\n",
    "       col = c(\"red\", \"blue\"),\n",
    "       cex = 1)\n",
    "par(xpd=FALSE)\n",
    "\n",
    "x_low_lim = min(pscore) - 0.001 # Set the minimum for the breakpoints\n",
    "x_up_lim = max(pscore) + 0.001 # Set the maximum for the breakpoints\n",
    "\n",
    "hist(pscore[Z==1], freq=FALSE, main=\"PS\",xlab=\"\",ylab=\"\",breaks=50,\n",
    "     xlim=c(x_low_lim,x_up_lim), col=rgb(1,0,0,0.5))\n",
    "hist(pscore[Z==0], freq=FALSE, breaks=50,\n",
    "     xlim=c(x_low_lim,x_up_lim), add=TRUE, lwd=2, col=rgb(0,0,1,0.5), lty=2,)\n",
    "\n",
    "boxplot(pscore~Z, ylab=\"Propensity Score\",\n",
    "        names=c(\"Control group\",\n",
    "                \"Treatment group\"), xlab=\"\")"
   ]
  },
  {
   "cell_type": "markdown",
   "id": "distant-celebrity",
   "metadata": {},
   "source": [
    "The mean of the propensity score is different between the two groups and this is an indication of plausible fit of the propensity score. It is necessary to note that even for treated group the propensity score is not close to 1 (value I expected); this could be probably due to very high number of controls vs treated. This behavior of the fitted PS should not be a problem since PS is used to create groups and not for predictiont task. <br>\n",
    "In the 1st and 3rd subplot it is clear that there is an high overlap of PS between treated and untreated."
   ]
  },
  {
   "cell_type": "markdown",
   "id": "given-algorithm",
   "metadata": {},
   "source": [
    "#### 4. What are the implications of the fact that the propensity score is a balancing score?\n",
    "The propensity score balances the distribution of all X between the treatment groups; this means that the following holds true:"
   ]
  },
  {
   "cell_type": "markdown",
   "id": "quantitative-roulette",
   "metadata": {},
   "source": [
    "<img src=\"figures/bal_score.png\">"
   ]
  },
  {
   "cell_type": "markdown",
   "id": "handy-brake",
   "metadata": {},
   "source": [
    "# TRIMMING AND SUBCLASSIFICATION ON PROPENSITY SCORE\n",
    "Now assess balance and create balanced groups."
   ]
  },
  {
   "cell_type": "markdown",
   "id": "affecting-honduras",
   "metadata": {},
   "source": [
    "#### 5 - In order to do so, first discard control units with estimated propensity scores lower than the minimum of the active treated units' estimated propensity scores or higher than the maximum of the active treatment units' estimated propensity scores.\n",
    "#### How many units did you discard? Why is is important to discarding these units?"
   ]
  },
  {
   "cell_type": "code",
   "execution_count": 6,
   "id": "competent-breathing",
   "metadata": {},
   "outputs": [
    {
     "name": "stdout",
     "output_type": "stream",
     "text": [
      "[1] \"Number of filtered points\"\n"
     ]
    },
    {
     "data": {
      "text/html": [
       "370"
      ],
      "text/latex": [
       "370"
      ],
      "text/markdown": [
       "370"
      ],
      "text/plain": [
       "[1] 370"
      ]
     },
     "metadata": {},
     "output_type": "display_data"
    }
   ],
   "source": [
    "trim_bool = (log_ps>=min(log_ps[Z==1])) & (log_ps<=max(log_ps[Z==1]))\n",
    "X_treat_trim = X_treat[trim_bool,] # Trimmed data\n",
    "X_trim = X[trim_bool,] # Trimmed covariates\n",
    "y_trim = y[trim_bool]\n",
    "Z_trim = X_treat_trim$TREAT # Trimmed treatment\n",
    "print('Number of filtered points')\n",
    "dim(X_treat)[1]- dim(X_treat_trim)[1]"
   ]
  },
  {
   "cell_type": "markdown",
   "id": "miniature-cooper",
   "metadata": {},
   "source": [
    "It is important to discard these values because these values \"do not overlap\"; basically there are no treated units with that propensity score, meaning that the covariates are very different and no comparison is allowed."
   ]
  },
  {
   "cell_type": "code",
   "execution_count": 7,
   "id": "victorian-richards",
   "metadata": {},
   "outputs": [
    {
     "data": {
      "text/html": [
       "<table class=\"dataframe\">\n",
       "<caption>A matrix: 24 × 7 of type dbl</caption>\n",
       "<thead>\n",
       "\t<tr><th></th><th scope=col>meanT_trim</th><th scope=col>meanC_trim</th><th scope=col>meandiff_trim</th><th scope=col>StMeanDiff_trim</th><th scope=col>StMeanDiffTtest_trim</th><th scope=col>max_var_trim</th><th scope=col>min_var_trim</th></tr>\n",
       "</thead>\n",
       "<tbody>\n",
       "\t<tr><th scope=row>age</th><td>36.826</td><td>34.597</td><td> 2.229</td><td> 0.216</td><td>  7.894</td><td>69</td><td>15</td></tr>\n",
       "\t<tr><th scope=row>gender</th><td> 0.649</td><td> 0.476</td><td> 0.173</td><td> 0.353</td><td> 11.687</td><td> 1</td><td> 0</td></tr>\n",
       "\t<tr><th scope=row>married</th><td> 0.556</td><td> 0.425</td><td> 0.131</td><td> 0.265</td><td>  8.552</td><td> 1</td><td> 0</td></tr>\n",
       "\t<tr><th scope=row>natio1</th><td> 0.055</td><td> 0.300</td><td>-0.245</td><td>-0.676</td><td>-33.088</td><td> 1</td><td> 0</td></tr>\n",
       "\t<tr><th scope=row>natio2</th><td> 0.270</td><td> 0.304</td><td>-0.034</td><td>-0.076</td><td> -2.498</td><td> 1</td><td> 0</td></tr>\n",
       "\t<tr><th scope=row>natio3</th><td> 0.274</td><td> 0.196</td><td> 0.077</td><td> 0.183</td><td>  5.636</td><td> 1</td><td> 0</td></tr>\n",
       "\t<tr><th scope=row>natio4</th><td> 0.187</td><td> 0.082</td><td> 0.106</td><td> 0.313</td><td>  8.834</td><td> 1</td><td> 0</td></tr>\n",
       "\t<tr><th scope=row>natio5</th><td> 0.214</td><td> 0.118</td><td> 0.096</td><td> 0.261</td><td>  7.644</td><td> 1</td><td> 0</td></tr>\n",
       "\t<tr><th scope=row>educ1</th><td> 0.277</td><td> 0.275</td><td> 0.002</td><td> 0.005</td><td>  0.168</td><td> 1</td><td> 0</td></tr>\n",
       "\t<tr><th scope=row>educ2</th><td> 0.340</td><td> 0.490</td><td>-0.150</td><td>-0.307</td><td>-10.207</td><td> 1</td><td> 0</td></tr>\n",
       "\t<tr><th scope=row>educ3</th><td> 0.382</td><td> 0.235</td><td> 0.147</td><td> 0.323</td><td>  9.852</td><td> 1</td><td> 0</td></tr>\n",
       "\t<tr><th scope=row>EmployLevel1</th><td> 0.097</td><td> 0.173</td><td>-0.076</td><td>-0.224</td><td> -8.249</td><td> 1</td><td> 0</td></tr>\n",
       "\t<tr><th scope=row>EmployLevel2</th><td> 0.438</td><td> 0.398</td><td> 0.039</td><td> 0.080</td><td>  2.569</td><td> 1</td><td> 0</td></tr>\n",
       "\t<tr><th scope=row>EmployLevel3</th><td> 0.380</td><td> 0.334</td><td> 0.045</td><td> 0.095</td><td>  3.026</td><td> 1</td><td> 0</td></tr>\n",
       "\t<tr><th scope=row>EmployLevel4</th><td> 0.075</td><td> 0.078</td><td>-0.004</td><td>-0.014</td><td> -0.453</td><td> 1</td><td> 0</td></tr>\n",
       "\t<tr><th scope=row>EmployLevel5</th><td> 0.011</td><td> 0.016</td><td>-0.005</td><td>-0.042</td><td> -1.500</td><td> 1</td><td> 0</td></tr>\n",
       "\t<tr><th scope=row>skill</th><td> 0.947</td><td> 0.952</td><td>-0.004</td><td>-0.019</td><td> -0.591</td><td> 1</td><td> 0</td></tr>\n",
       "\t<tr><th scope=row>sector0</th><td> 0.150</td><td> 0.330</td><td>-0.180</td><td>-0.431</td><td>-16.121</td><td> 1</td><td> 0</td></tr>\n",
       "\t<tr><th scope=row>sector1</th><td> 0.364</td><td> 0.300</td><td> 0.064</td><td> 0.136</td><td>  4.310</td><td> 1</td><td> 0</td></tr>\n",
       "\t<tr><th scope=row>sector2</th><td> 0.174</td><td> 0.103</td><td> 0.071</td><td> 0.206</td><td>  6.094</td><td> 1</td><td> 0</td></tr>\n",
       "\t<tr><th scope=row>sector3</th><td> 0.168</td><td> 0.139</td><td> 0.028</td><td> 0.079</td><td>  2.460</td><td> 1</td><td> 0</td></tr>\n",
       "\t<tr><th scope=row>sector4</th><td> 0.144</td><td> 0.127</td><td> 0.017</td><td> 0.049</td><td>  1.549</td><td> 1</td><td> 0</td></tr>\n",
       "\t<tr><th scope=row>work_12</th><td> 0.754</td><td> 0.644</td><td> 0.110</td><td> 0.241</td><td>  8.212</td><td> 1</td><td> 0</td></tr>\n",
       "\t<tr><th scope=row>nb_mthbf_12</th><td> 4.971</td><td> 6.486</td><td>-1.516</td><td>-0.327</td><td>-13.250</td><td>12</td><td> 0</td></tr>\n",
       "</tbody>\n",
       "</table>\n"
      ],
      "text/latex": [
       "A matrix: 24 × 7 of type dbl\n",
       "\\begin{tabular}{r|lllllll}\n",
       "  & meanT\\_trim & meanC\\_trim & meandiff\\_trim & StMeanDiff\\_trim & StMeanDiffTtest\\_trim & max\\_var\\_trim & min\\_var\\_trim\\\\\n",
       "\\hline\n",
       "\tage & 36.826 & 34.597 &  2.229 &  0.216 &   7.894 & 69 & 15\\\\\n",
       "\tgender &  0.649 &  0.476 &  0.173 &  0.353 &  11.687 &  1 &  0\\\\\n",
       "\tmarried &  0.556 &  0.425 &  0.131 &  0.265 &   8.552 &  1 &  0\\\\\n",
       "\tnatio1 &  0.055 &  0.300 & -0.245 & -0.676 & -33.088 &  1 &  0\\\\\n",
       "\tnatio2 &  0.270 &  0.304 & -0.034 & -0.076 &  -2.498 &  1 &  0\\\\\n",
       "\tnatio3 &  0.274 &  0.196 &  0.077 &  0.183 &   5.636 &  1 &  0\\\\\n",
       "\tnatio4 &  0.187 &  0.082 &  0.106 &  0.313 &   8.834 &  1 &  0\\\\\n",
       "\tnatio5 &  0.214 &  0.118 &  0.096 &  0.261 &   7.644 &  1 &  0\\\\\n",
       "\teduc1 &  0.277 &  0.275 &  0.002 &  0.005 &   0.168 &  1 &  0\\\\\n",
       "\teduc2 &  0.340 &  0.490 & -0.150 & -0.307 & -10.207 &  1 &  0\\\\\n",
       "\teduc3 &  0.382 &  0.235 &  0.147 &  0.323 &   9.852 &  1 &  0\\\\\n",
       "\tEmployLevel1 &  0.097 &  0.173 & -0.076 & -0.224 &  -8.249 &  1 &  0\\\\\n",
       "\tEmployLevel2 &  0.438 &  0.398 &  0.039 &  0.080 &   2.569 &  1 &  0\\\\\n",
       "\tEmployLevel3 &  0.380 &  0.334 &  0.045 &  0.095 &   3.026 &  1 &  0\\\\\n",
       "\tEmployLevel4 &  0.075 &  0.078 & -0.004 & -0.014 &  -0.453 &  1 &  0\\\\\n",
       "\tEmployLevel5 &  0.011 &  0.016 & -0.005 & -0.042 &  -1.500 &  1 &  0\\\\\n",
       "\tskill &  0.947 &  0.952 & -0.004 & -0.019 &  -0.591 &  1 &  0\\\\\n",
       "\tsector0 &  0.150 &  0.330 & -0.180 & -0.431 & -16.121 &  1 &  0\\\\\n",
       "\tsector1 &  0.364 &  0.300 &  0.064 &  0.136 &   4.310 &  1 &  0\\\\\n",
       "\tsector2 &  0.174 &  0.103 &  0.071 &  0.206 &   6.094 &  1 &  0\\\\\n",
       "\tsector3 &  0.168 &  0.139 &  0.028 &  0.079 &   2.460 &  1 &  0\\\\\n",
       "\tsector4 &  0.144 &  0.127 &  0.017 &  0.049 &   1.549 &  1 &  0\\\\\n",
       "\twork\\_12 &  0.754 &  0.644 &  0.110 &  0.241 &   8.212 &  1 &  0\\\\\n",
       "\tnb\\_mthbf\\_12 &  4.971 &  6.486 & -1.516 & -0.327 & -13.250 & 12 &  0\\\\\n",
       "\\end{tabular}\n"
      ],
      "text/markdown": [
       "\n",
       "A matrix: 24 × 7 of type dbl\n",
       "\n",
       "| <!--/--> | meanT_trim | meanC_trim | meandiff_trim | StMeanDiff_trim | StMeanDiffTtest_trim | max_var_trim | min_var_trim |\n",
       "|---|---|---|---|---|---|---|---|\n",
       "| age | 36.826 | 34.597 |  2.229 |  0.216 |   7.894 | 69 | 15 |\n",
       "| gender |  0.649 |  0.476 |  0.173 |  0.353 |  11.687 |  1 |  0 |\n",
       "| married |  0.556 |  0.425 |  0.131 |  0.265 |   8.552 |  1 |  0 |\n",
       "| natio1 |  0.055 |  0.300 | -0.245 | -0.676 | -33.088 |  1 |  0 |\n",
       "| natio2 |  0.270 |  0.304 | -0.034 | -0.076 |  -2.498 |  1 |  0 |\n",
       "| natio3 |  0.274 |  0.196 |  0.077 |  0.183 |   5.636 |  1 |  0 |\n",
       "| natio4 |  0.187 |  0.082 |  0.106 |  0.313 |   8.834 |  1 |  0 |\n",
       "| natio5 |  0.214 |  0.118 |  0.096 |  0.261 |   7.644 |  1 |  0 |\n",
       "| educ1 |  0.277 |  0.275 |  0.002 |  0.005 |   0.168 |  1 |  0 |\n",
       "| educ2 |  0.340 |  0.490 | -0.150 | -0.307 | -10.207 |  1 |  0 |\n",
       "| educ3 |  0.382 |  0.235 |  0.147 |  0.323 |   9.852 |  1 |  0 |\n",
       "| EmployLevel1 |  0.097 |  0.173 | -0.076 | -0.224 |  -8.249 |  1 |  0 |\n",
       "| EmployLevel2 |  0.438 |  0.398 |  0.039 |  0.080 |   2.569 |  1 |  0 |\n",
       "| EmployLevel3 |  0.380 |  0.334 |  0.045 |  0.095 |   3.026 |  1 |  0 |\n",
       "| EmployLevel4 |  0.075 |  0.078 | -0.004 | -0.014 |  -0.453 |  1 |  0 |\n",
       "| EmployLevel5 |  0.011 |  0.016 | -0.005 | -0.042 |  -1.500 |  1 |  0 |\n",
       "| skill |  0.947 |  0.952 | -0.004 | -0.019 |  -0.591 |  1 |  0 |\n",
       "| sector0 |  0.150 |  0.330 | -0.180 | -0.431 | -16.121 |  1 |  0 |\n",
       "| sector1 |  0.364 |  0.300 |  0.064 |  0.136 |   4.310 |  1 |  0 |\n",
       "| sector2 |  0.174 |  0.103 |  0.071 |  0.206 |   6.094 |  1 |  0 |\n",
       "| sector3 |  0.168 |  0.139 |  0.028 |  0.079 |   2.460 |  1 |  0 |\n",
       "| sector4 |  0.144 |  0.127 |  0.017 |  0.049 |   1.549 |  1 |  0 |\n",
       "| work_12 |  0.754 |  0.644 |  0.110 |  0.241 |   8.212 |  1 |  0 |\n",
       "| nb_mthbf_12 |  4.971 |  6.486 | -1.516 | -0.327 | -13.250 | 12 |  0 |\n",
       "\n"
      ],
      "text/plain": [
       "             meanT_trim meanC_trim meandiff_trim StMeanDiff_trim\n",
       "age          36.826     34.597      2.229         0.216         \n",
       "gender        0.649      0.476      0.173         0.353         \n",
       "married       0.556      0.425      0.131         0.265         \n",
       "natio1        0.055      0.300     -0.245        -0.676         \n",
       "natio2        0.270      0.304     -0.034        -0.076         \n",
       "natio3        0.274      0.196      0.077         0.183         \n",
       "natio4        0.187      0.082      0.106         0.313         \n",
       "natio5        0.214      0.118      0.096         0.261         \n",
       "educ1         0.277      0.275      0.002         0.005         \n",
       "educ2         0.340      0.490     -0.150        -0.307         \n",
       "educ3         0.382      0.235      0.147         0.323         \n",
       "EmployLevel1  0.097      0.173     -0.076        -0.224         \n",
       "EmployLevel2  0.438      0.398      0.039         0.080         \n",
       "EmployLevel3  0.380      0.334      0.045         0.095         \n",
       "EmployLevel4  0.075      0.078     -0.004        -0.014         \n",
       "EmployLevel5  0.011      0.016     -0.005        -0.042         \n",
       "skill         0.947      0.952     -0.004        -0.019         \n",
       "sector0       0.150      0.330     -0.180        -0.431         \n",
       "sector1       0.364      0.300      0.064         0.136         \n",
       "sector2       0.174      0.103      0.071         0.206         \n",
       "sector3       0.168      0.139      0.028         0.079         \n",
       "sector4       0.144      0.127      0.017         0.049         \n",
       "work_12       0.754      0.644      0.110         0.241         \n",
       "nb_mthbf_12   4.971      6.486     -1.516        -0.327         \n",
       "             StMeanDiffTtest_trim max_var_trim min_var_trim\n",
       "age            7.894              69           15          \n",
       "gender        11.687               1            0          \n",
       "married        8.552               1            0          \n",
       "natio1       -33.088               1            0          \n",
       "natio2        -2.498               1            0          \n",
       "natio3         5.636               1            0          \n",
       "natio4         8.834               1            0          \n",
       "natio5         7.644               1            0          \n",
       "educ1          0.168               1            0          \n",
       "educ2        -10.207               1            0          \n",
       "educ3          9.852               1            0          \n",
       "EmployLevel1  -8.249               1            0          \n",
       "EmployLevel2   2.569               1            0          \n",
       "EmployLevel3   3.026               1            0          \n",
       "EmployLevel4  -0.453               1            0          \n",
       "EmployLevel5  -1.500               1            0          \n",
       "skill         -0.591               1            0          \n",
       "sector0      -16.121               1            0          \n",
       "sector1        4.310               1            0          \n",
       "sector2        6.094               1            0          \n",
       "sector3        2.460               1            0          \n",
       "sector4        1.549               1            0          \n",
       "work_12        8.212               1            0          \n",
       "nb_mthbf_12  -13.250              12            0          "
      ]
     },
     "metadata": {},
     "output_type": "display_data"
    }
   ],
   "source": [
    "meanT_trim = apply(X_trim[Z_trim==1,],2,mean) # Average of the treated\n",
    "meanC_trim = apply(X_trim[Z_trim==0,],2,mean) # Average of the controls\n",
    "varT_trim = apply(X_trim[Z_trim==1,],2,var) # Variance of the treated\n",
    "varC_trim = apply(X_trim[Z_trim==0,],2,var) # Variance of the controls\n",
    "\n",
    "meandiff_trim = meanT_trim - meanC_trim # Difference in mean\n",
    "StMeanDiff_trim = meandiff_trim/ sqrt((varT_trim+varC_trim)/2) # STANDARDIZED DIFFERENCE BETWEEN MEANS\n",
    "StMeanDiffTtest_trim = meandiff_trim/sqrt(varT_trim/sum(Z_trim==1) + varC_trim/sum(Z_trim==0)) # STANDARDIZED DIFFERENCE BETWEEN MEANS (t-test)\n",
    "range_var_trim = apply(X_trim,2,max)-apply(X_trim,2,min)\n",
    "max_var_trim = apply(X_trim,2,max)\n",
    "min_var_trim = apply(X_trim,2,min)\n",
    "\n",
    "\n",
    "round(cbind(meanT_trim, meanC_trim, meandiff_trim, StMeanDiff_trim,StMeanDiffTtest_trim,max_var_trim,min_var_trim),3)"
   ]
  },
  {
   "cell_type": "markdown",
   "id": "blessed-student",
   "metadata": {},
   "source": [
    "#### 6 - Using the units remaining after 5, create five subclasses based on the estimated propensity score. You are allowed to choose size and bounds of the subclasses. You are supposed to create the best subclasses based on your own reasoning. Create a table showing the number of treated and control units within each of the five subclasses. Briefly comment and explain your choice."
   ]
  },
  {
   "cell_type": "code",
   "execution_count": 8,
   "id": "public-butterfly",
   "metadata": {},
   "outputs": [
    {
     "data": {
      "text/plain": [
       "    Z_trim\n",
       "bins     0     1\n",
       "   1 23790   209\n",
       "   2  4461   208\n",
       "   3  1943   221\n",
       "   4  1292   208\n",
       "   5   761   239"
      ]
     },
     "metadata": {},
     "output_type": "display_data"
    },
    {
     "data": {
      "text/plain": [
       "bins\n",
       "    1     2     3     4     5 \n",
       "23999  4669  2164  1500  1000 "
      ]
     },
     "metadata": {},
     "output_type": "display_data"
    }
   ],
   "source": [
    "model_ps_trim = glm(TREAT~., data=X_treat_trim, family=binomial(link=logit)) # Estimate a new propensity score\n",
    "log_ps_trim = predict.glm(model_ps_trim)\n",
    "pscore_trim = model_ps_trim$fitted\n",
    "\n",
    "# This function retrieve the groups and statistics given an array of \"breaks\"\n",
    "ps_table_results = function(breaks, log_ps_trim, X_trim,  Z_trim, min_in_breaks = FALSE, max_in_breaks = FALSE){\n",
    "    bins = rep(NA,nrow(X_trim))\n",
    "    \n",
    "    if (min_in_breaks==TRUE){\n",
    "        prev_i = breaks[1]\n",
    "        breaks = breaks[2:length(breaks)]\n",
    "    }\n",
    "    else{\n",
    "        prev_i = min(log_ps_trim)-0.000001\n",
    "    }\n",
    "    \n",
    "    if (max_in_breaks==TRUE){\n",
    "        new_breaks = breaks\n",
    "    }\n",
    "    else{\n",
    "        new_breaks = c(breaks,max(log_ps_trim)+0.000001)\n",
    "    }\n",
    "    \n",
    "    j = 1\n",
    "    for (i in new_breaks){\n",
    "        sel_bin = (log_ps_trim>prev_i & log_ps_trim<=i)\n",
    "        bins[sel_bin] = j\n",
    "\n",
    "        sel_bin_treat = Z_trim==1 & sel_bin\n",
    "        sel_bin_control = Z_trim==0 & sel_bin\n",
    "\n",
    "        meanT_trim = apply(X_trim[sel_bin_treat,],2,mean)\n",
    "        meanC_trim = apply(X_trim[sel_bin_control,],2,mean)\n",
    "        varT_trim = apply(X_trim[sel_bin_treat,],2,var)\n",
    "        varC_trim = apply(X_trim[sel_bin_control,],2,var)\n",
    "        meandiff_trim = meanT_trim - meanC_trim\n",
    "        if (j==1){\n",
    "            mean_df = data.frame(mean_t_1=meanT_trim, mean_c_1 = meanC_trim)\n",
    "            var_df = data.frame(var_t_1=varT_trim, var_c_1 = varC_trim)\n",
    "            std_diff_df = data.frame(std_diff_1=meandiff_trim/ sqrt((varT_trim+varC_trim)/2))\n",
    "            std_diff_ttest_df = data.frame(std_diff_t_1=meandiff_trim/sqrt(varT_trim/sum(Z_trim==1) + varC_trim/sum(Z_trim==0)))\n",
    "        }\n",
    "        else{\n",
    "            std_diff_df$temp = meandiff_trim/ sqrt((varT_trim+varC_trim)/2)  # STANDARDIZED DIFFERENCE BETWEEN MEANS\n",
    "            colnames(std_diff_df)[length(colnames(std_diff_df))] = paste('std_diff', j, sep=\"_\")\n",
    "            std_diff_ttest_df$temp = meandiff_trim/sqrt(varT_trim/sum(Z_trim==1) + varC_trim/sum(Z_trim==0)) # STANDARDIZED DIFFERENCE BETWEEN MEANS (t-test)\n",
    "            colnames(std_diff_ttest_df)[length(colnames(std_diff_ttest_df))] = paste('std_diff_t', j, sep=\"_\")\n",
    "            mean_df$temp = meanT_trim # \n",
    "            colnames(mean_df)[length(colnames(mean_df))] = paste('mean_t', j, sep=\"_\")\n",
    "            mean_df$temp = meanC_trim #\n",
    "            colnames(mean_df)[length(colnames(mean_df))] = paste('mean_c', j, sep=\"_\")\n",
    "            var_df$temp = varT_trim # \n",
    "            colnames(var_df)[length(colnames(var_df))] = paste('var_t', j, sep=\"_\")\n",
    "            var_df$temp = varC_trim #\n",
    "            colnames(var_df)[length(colnames(var_df))] = paste('var_c', j, sep=\"_\")\n",
    "        }\n",
    "\n",
    "        j = j+1\n",
    "        prev_i = i\n",
    "    }\n",
    "    \n",
    "    return(list(mean_df=mean_df, var_df=var_df,std_diff_df=std_diff_df, std_diff_ttest_df=std_diff_ttest_df, bins=bins))\n",
    "    }\n",
    "\n",
    "breaks = quantile(log_ps_trim, c(0.72, 0.86, 0.925, 0.97))\n",
    "ps_res = ps_table_results(breaks, log_ps_trim, X_trim,  Z_trim, min_in_breaks=FALSE, max_in_breaks=FALSE)\n",
    "std_diff_df = ps_res$std_diff_df\n",
    "bins = ps_res$bins\n",
    "table(bins, Z_trim)\n",
    "table(bins)"
   ]
  },
  {
   "cell_type": "markdown",
   "id": "automatic-bahamas",
   "metadata": {},
   "source": [
    "I modified the quantile values to obtain 5 groups with the same number of treated units. The goal is to have 5 groups with different propensity score (so different covariates) but equally balanced."
   ]
  },
  {
   "cell_type": "markdown",
   "id": "incomplete-softball",
   "metadata": {},
   "source": [
    "#### 7. Separately for each subclass created in 6, calculate the mean within each treatment group for each covariate. Present the results in a table. Briefly describe what you see."
   ]
  },
  {
   "cell_type": "code",
   "execution_count": 9,
   "id": "responsible-helping",
   "metadata": {
    "scrolled": false
   },
   "outputs": [
    {
     "data": {
      "text/html": [
       "<table class=\"dataframe\">\n",
       "<caption>A data.frame: 24 × 10</caption>\n",
       "<thead>\n",
       "\t<tr><th></th><th scope=col>mean_t_1</th><th scope=col>mean_c_1</th><th scope=col>mean_t_2</th><th scope=col>mean_c_2</th><th scope=col>mean_t_3</th><th scope=col>mean_c_3</th><th scope=col>mean_t_4</th><th scope=col>mean_c_4</th><th scope=col>mean_t_5</th><th scope=col>mean_c_5</th></tr>\n",
       "\t<tr><th></th><th scope=col>&lt;dbl&gt;</th><th scope=col>&lt;dbl&gt;</th><th scope=col>&lt;dbl&gt;</th><th scope=col>&lt;dbl&gt;</th><th scope=col>&lt;dbl&gt;</th><th scope=col>&lt;dbl&gt;</th><th scope=col>&lt;dbl&gt;</th><th scope=col>&lt;dbl&gt;</th><th scope=col>&lt;dbl&gt;</th><th scope=col>&lt;dbl&gt;</th></tr>\n",
       "</thead>\n",
       "<tbody>\n",
       "\t<tr><th scope=row>age</th><td>34.35</td><td>33.68</td><td>35.95</td><td>37.73</td><td>35.65</td><td>36.96</td><td>38.09</td><td>35.88</td><td>39.74</td><td>36.61</td></tr>\n",
       "\t<tr><th scope=row>gender</th><td> 0.50</td><td> 0.41</td><td> 0.63</td><td> 0.64</td><td> 0.61</td><td> 0.69</td><td> 0.69</td><td> 0.64</td><td> 0.79</td><td> 0.78</td></tr>\n",
       "\t<tr><th scope=row>married</th><td> 0.46</td><td> 0.37</td><td> 0.50</td><td> 0.59</td><td> 0.56</td><td> 0.58</td><td> 0.56</td><td> 0.51</td><td> 0.69</td><td> 0.58</td></tr>\n",
       "\t<tr><th scope=row>natio1</th><td> 0.22</td><td> 0.39</td><td> 0.04</td><td> 0.06</td><td> 0.02</td><td> 0.04</td><td> 0.00</td><td> 0.01</td><td> 0.00</td><td> 0.00</td></tr>\n",
       "\t<tr><th scope=row>natio2</th><td> 0.35</td><td> 0.33</td><td> 0.34</td><td> 0.19</td><td> 0.30</td><td> 0.30</td><td> 0.30</td><td> 0.38</td><td> 0.08</td><td> 0.17</td></tr>\n",
       "\t<tr><th scope=row>natio3</th><td> 0.22</td><td> 0.17</td><td> 0.28</td><td> 0.30</td><td> 0.25</td><td> 0.23</td><td> 0.34</td><td> 0.29</td><td> 0.28</td><td> 0.30</td></tr>\n",
       "\t<tr><th scope=row>natio4</th><td> 0.08</td><td> 0.04</td><td> 0.18</td><td> 0.21</td><td> 0.23</td><td> 0.20</td><td> 0.17</td><td> 0.16</td><td> 0.26</td><td> 0.28</td></tr>\n",
       "\t<tr><th scope=row>natio5</th><td> 0.12</td><td> 0.08</td><td> 0.16</td><td> 0.23</td><td> 0.19</td><td> 0.23</td><td> 0.19</td><td> 0.16</td><td> 0.37</td><td> 0.25</td></tr>\n",
       "\t<tr><th scope=row>educ1</th><td> 0.25</td><td> 0.27</td><td> 0.25</td><td> 0.28</td><td> 0.29</td><td> 0.24</td><td> 0.30</td><td> 0.31</td><td> 0.29</td><td> 0.31</td></tr>\n",
       "\t<tr><th scope=row>educ2</th><td> 0.54</td><td> 0.56</td><td> 0.37</td><td> 0.30</td><td> 0.33</td><td> 0.31</td><td> 0.34</td><td> 0.38</td><td> 0.15</td><td> 0.21</td></tr>\n",
       "\t<tr><th scope=row>educ3</th><td> 0.21</td><td> 0.17</td><td> 0.38</td><td> 0.43</td><td> 0.38</td><td> 0.45</td><td> 0.37</td><td> 0.31</td><td> 0.56</td><td> 0.48</td></tr>\n",
       "\t<tr><th scope=row>EmployLevel1</th><td> 0.16</td><td> 0.20</td><td> 0.12</td><td> 0.10</td><td> 0.09</td><td> 0.07</td><td> 0.08</td><td> 0.10</td><td> 0.05</td><td> 0.06</td></tr>\n",
       "\t<tr><th scope=row>EmployLevel2</th><td> 0.38</td><td> 0.38</td><td> 0.44</td><td> 0.45</td><td> 0.42</td><td> 0.44</td><td> 0.47</td><td> 0.41</td><td> 0.47</td><td> 0.47</td></tr>\n",
       "\t<tr><th scope=row>EmployLevel3</th><td> 0.34</td><td> 0.32</td><td> 0.38</td><td> 0.35</td><td> 0.41</td><td> 0.42</td><td> 0.38</td><td> 0.41</td><td> 0.40</td><td> 0.38</td></tr>\n",
       "\t<tr><th scope=row>EmployLevel4</th><td> 0.10</td><td> 0.08</td><td> 0.06</td><td> 0.08</td><td> 0.08</td><td> 0.06</td><td> 0.06</td><td> 0.07</td><td> 0.08</td><td> 0.08</td></tr>\n",
       "\t<tr><th scope=row>EmployLevel5</th><td> 0.01</td><td> 0.02</td><td> 0.01</td><td> 0.01</td><td> 0.01</td><td> 0.01</td><td> 0.01</td><td> 0.01</td><td> 0.01</td><td> 0.01</td></tr>\n",
       "\t<tr><th scope=row>skill</th><td> 0.95</td><td> 0.95</td><td> 0.97</td><td> 0.94</td><td> 0.95</td><td> 0.95</td><td> 0.92</td><td> 0.95</td><td> 0.95</td><td> 0.95</td></tr>\n",
       "\t<tr><th scope=row>sector0</th><td> 0.39</td><td> 0.38</td><td> 0.27</td><td> 0.29</td><td> 0.11</td><td> 0.18</td><td> 0.00</td><td> 0.01</td><td> 0.00</td><td> 0.00</td></tr>\n",
       "\t<tr><th scope=row>sector1</th><td> 0.13</td><td> 0.29</td><td> 0.28</td><td> 0.33</td><td> 0.39</td><td> 0.34</td><td> 0.47</td><td> 0.35</td><td> 0.52</td><td> 0.43</td></tr>\n",
       "\t<tr><th scope=row>sector2</th><td> 0.14</td><td> 0.08</td><td> 0.13</td><td> 0.14</td><td> 0.13</td><td> 0.17</td><td> 0.20</td><td> 0.22</td><td> 0.26</td><td> 0.22</td></tr>\n",
       "\t<tr><th scope=row>sector3</th><td> 0.23</td><td> 0.13</td><td> 0.17</td><td> 0.12</td><td> 0.23</td><td> 0.20</td><td> 0.15</td><td> 0.28</td><td> 0.06</td><td> 0.18</td></tr>\n",
       "\t<tr><th scope=row>sector4</th><td> 0.10</td><td> 0.13</td><td> 0.13</td><td> 0.12</td><td> 0.15</td><td> 0.12</td><td> 0.17</td><td> 0.15</td><td> 0.16</td><td> 0.18</td></tr>\n",
       "\t<tr><th scope=row>work_12</th><td> 0.58</td><td> 0.61</td><td> 0.70</td><td> 0.67</td><td> 0.81</td><td> 0.76</td><td> 0.86</td><td> 0.86</td><td> 0.81</td><td> 0.80</td></tr>\n",
       "\t<tr><th scope=row>nb_mthbf_12</th><td> 5.10</td><td> 6.84</td><td> 5.70</td><td> 6.44</td><td> 5.78</td><td> 5.53</td><td> 5.04</td><td> 3.98</td><td> 3.41</td><td> 2.44</td></tr>\n",
       "</tbody>\n",
       "</table>\n"
      ],
      "text/latex": [
       "A data.frame: 24 × 10\n",
       "\\begin{tabular}{r|llllllllll}\n",
       "  & mean\\_t\\_1 & mean\\_c\\_1 & mean\\_t\\_2 & mean\\_c\\_2 & mean\\_t\\_3 & mean\\_c\\_3 & mean\\_t\\_4 & mean\\_c\\_4 & mean\\_t\\_5 & mean\\_c\\_5\\\\\n",
       "  & <dbl> & <dbl> & <dbl> & <dbl> & <dbl> & <dbl> & <dbl> & <dbl> & <dbl> & <dbl>\\\\\n",
       "\\hline\n",
       "\tage & 34.35 & 33.68 & 35.95 & 37.73 & 35.65 & 36.96 & 38.09 & 35.88 & 39.74 & 36.61\\\\\n",
       "\tgender &  0.50 &  0.41 &  0.63 &  0.64 &  0.61 &  0.69 &  0.69 &  0.64 &  0.79 &  0.78\\\\\n",
       "\tmarried &  0.46 &  0.37 &  0.50 &  0.59 &  0.56 &  0.58 &  0.56 &  0.51 &  0.69 &  0.58\\\\\n",
       "\tnatio1 &  0.22 &  0.39 &  0.04 &  0.06 &  0.02 &  0.04 &  0.00 &  0.01 &  0.00 &  0.00\\\\\n",
       "\tnatio2 &  0.35 &  0.33 &  0.34 &  0.19 &  0.30 &  0.30 &  0.30 &  0.38 &  0.08 &  0.17\\\\\n",
       "\tnatio3 &  0.22 &  0.17 &  0.28 &  0.30 &  0.25 &  0.23 &  0.34 &  0.29 &  0.28 &  0.30\\\\\n",
       "\tnatio4 &  0.08 &  0.04 &  0.18 &  0.21 &  0.23 &  0.20 &  0.17 &  0.16 &  0.26 &  0.28\\\\\n",
       "\tnatio5 &  0.12 &  0.08 &  0.16 &  0.23 &  0.19 &  0.23 &  0.19 &  0.16 &  0.37 &  0.25\\\\\n",
       "\teduc1 &  0.25 &  0.27 &  0.25 &  0.28 &  0.29 &  0.24 &  0.30 &  0.31 &  0.29 &  0.31\\\\\n",
       "\teduc2 &  0.54 &  0.56 &  0.37 &  0.30 &  0.33 &  0.31 &  0.34 &  0.38 &  0.15 &  0.21\\\\\n",
       "\teduc3 &  0.21 &  0.17 &  0.38 &  0.43 &  0.38 &  0.45 &  0.37 &  0.31 &  0.56 &  0.48\\\\\n",
       "\tEmployLevel1 &  0.16 &  0.20 &  0.12 &  0.10 &  0.09 &  0.07 &  0.08 &  0.10 &  0.05 &  0.06\\\\\n",
       "\tEmployLevel2 &  0.38 &  0.38 &  0.44 &  0.45 &  0.42 &  0.44 &  0.47 &  0.41 &  0.47 &  0.47\\\\\n",
       "\tEmployLevel3 &  0.34 &  0.32 &  0.38 &  0.35 &  0.41 &  0.42 &  0.38 &  0.41 &  0.40 &  0.38\\\\\n",
       "\tEmployLevel4 &  0.10 &  0.08 &  0.06 &  0.08 &  0.08 &  0.06 &  0.06 &  0.07 &  0.08 &  0.08\\\\\n",
       "\tEmployLevel5 &  0.01 &  0.02 &  0.01 &  0.01 &  0.01 &  0.01 &  0.01 &  0.01 &  0.01 &  0.01\\\\\n",
       "\tskill &  0.95 &  0.95 &  0.97 &  0.94 &  0.95 &  0.95 &  0.92 &  0.95 &  0.95 &  0.95\\\\\n",
       "\tsector0 &  0.39 &  0.38 &  0.27 &  0.29 &  0.11 &  0.18 &  0.00 &  0.01 &  0.00 &  0.00\\\\\n",
       "\tsector1 &  0.13 &  0.29 &  0.28 &  0.33 &  0.39 &  0.34 &  0.47 &  0.35 &  0.52 &  0.43\\\\\n",
       "\tsector2 &  0.14 &  0.08 &  0.13 &  0.14 &  0.13 &  0.17 &  0.20 &  0.22 &  0.26 &  0.22\\\\\n",
       "\tsector3 &  0.23 &  0.13 &  0.17 &  0.12 &  0.23 &  0.20 &  0.15 &  0.28 &  0.06 &  0.18\\\\\n",
       "\tsector4 &  0.10 &  0.13 &  0.13 &  0.12 &  0.15 &  0.12 &  0.17 &  0.15 &  0.16 &  0.18\\\\\n",
       "\twork\\_12 &  0.58 &  0.61 &  0.70 &  0.67 &  0.81 &  0.76 &  0.86 &  0.86 &  0.81 &  0.80\\\\\n",
       "\tnb\\_mthbf\\_12 &  5.10 &  6.84 &  5.70 &  6.44 &  5.78 &  5.53 &  5.04 &  3.98 &  3.41 &  2.44\\\\\n",
       "\\end{tabular}\n"
      ],
      "text/markdown": [
       "\n",
       "A data.frame: 24 × 10\n",
       "\n",
       "| <!--/--> | mean_t_1 &lt;dbl&gt; | mean_c_1 &lt;dbl&gt; | mean_t_2 &lt;dbl&gt; | mean_c_2 &lt;dbl&gt; | mean_t_3 &lt;dbl&gt; | mean_c_3 &lt;dbl&gt; | mean_t_4 &lt;dbl&gt; | mean_c_4 &lt;dbl&gt; | mean_t_5 &lt;dbl&gt; | mean_c_5 &lt;dbl&gt; |\n",
       "|---|---|---|---|---|---|---|---|---|---|---|\n",
       "| age | 34.35 | 33.68 | 35.95 | 37.73 | 35.65 | 36.96 | 38.09 | 35.88 | 39.74 | 36.61 |\n",
       "| gender |  0.50 |  0.41 |  0.63 |  0.64 |  0.61 |  0.69 |  0.69 |  0.64 |  0.79 |  0.78 |\n",
       "| married |  0.46 |  0.37 |  0.50 |  0.59 |  0.56 |  0.58 |  0.56 |  0.51 |  0.69 |  0.58 |\n",
       "| natio1 |  0.22 |  0.39 |  0.04 |  0.06 |  0.02 |  0.04 |  0.00 |  0.01 |  0.00 |  0.00 |\n",
       "| natio2 |  0.35 |  0.33 |  0.34 |  0.19 |  0.30 |  0.30 |  0.30 |  0.38 |  0.08 |  0.17 |\n",
       "| natio3 |  0.22 |  0.17 |  0.28 |  0.30 |  0.25 |  0.23 |  0.34 |  0.29 |  0.28 |  0.30 |\n",
       "| natio4 |  0.08 |  0.04 |  0.18 |  0.21 |  0.23 |  0.20 |  0.17 |  0.16 |  0.26 |  0.28 |\n",
       "| natio5 |  0.12 |  0.08 |  0.16 |  0.23 |  0.19 |  0.23 |  0.19 |  0.16 |  0.37 |  0.25 |\n",
       "| educ1 |  0.25 |  0.27 |  0.25 |  0.28 |  0.29 |  0.24 |  0.30 |  0.31 |  0.29 |  0.31 |\n",
       "| educ2 |  0.54 |  0.56 |  0.37 |  0.30 |  0.33 |  0.31 |  0.34 |  0.38 |  0.15 |  0.21 |\n",
       "| educ3 |  0.21 |  0.17 |  0.38 |  0.43 |  0.38 |  0.45 |  0.37 |  0.31 |  0.56 |  0.48 |\n",
       "| EmployLevel1 |  0.16 |  0.20 |  0.12 |  0.10 |  0.09 |  0.07 |  0.08 |  0.10 |  0.05 |  0.06 |\n",
       "| EmployLevel2 |  0.38 |  0.38 |  0.44 |  0.45 |  0.42 |  0.44 |  0.47 |  0.41 |  0.47 |  0.47 |\n",
       "| EmployLevel3 |  0.34 |  0.32 |  0.38 |  0.35 |  0.41 |  0.42 |  0.38 |  0.41 |  0.40 |  0.38 |\n",
       "| EmployLevel4 |  0.10 |  0.08 |  0.06 |  0.08 |  0.08 |  0.06 |  0.06 |  0.07 |  0.08 |  0.08 |\n",
       "| EmployLevel5 |  0.01 |  0.02 |  0.01 |  0.01 |  0.01 |  0.01 |  0.01 |  0.01 |  0.01 |  0.01 |\n",
       "| skill |  0.95 |  0.95 |  0.97 |  0.94 |  0.95 |  0.95 |  0.92 |  0.95 |  0.95 |  0.95 |\n",
       "| sector0 |  0.39 |  0.38 |  0.27 |  0.29 |  0.11 |  0.18 |  0.00 |  0.01 |  0.00 |  0.00 |\n",
       "| sector1 |  0.13 |  0.29 |  0.28 |  0.33 |  0.39 |  0.34 |  0.47 |  0.35 |  0.52 |  0.43 |\n",
       "| sector2 |  0.14 |  0.08 |  0.13 |  0.14 |  0.13 |  0.17 |  0.20 |  0.22 |  0.26 |  0.22 |\n",
       "| sector3 |  0.23 |  0.13 |  0.17 |  0.12 |  0.23 |  0.20 |  0.15 |  0.28 |  0.06 |  0.18 |\n",
       "| sector4 |  0.10 |  0.13 |  0.13 |  0.12 |  0.15 |  0.12 |  0.17 |  0.15 |  0.16 |  0.18 |\n",
       "| work_12 |  0.58 |  0.61 |  0.70 |  0.67 |  0.81 |  0.76 |  0.86 |  0.86 |  0.81 |  0.80 |\n",
       "| nb_mthbf_12 |  5.10 |  6.84 |  5.70 |  6.44 |  5.78 |  5.53 |  5.04 |  3.98 |  3.41 |  2.44 |\n",
       "\n"
      ],
      "text/plain": [
       "             mean_t_1 mean_c_1 mean_t_2 mean_c_2 mean_t_3 mean_c_3 mean_t_4\n",
       "age          34.35    33.68    35.95    37.73    35.65    36.96    38.09   \n",
       "gender        0.50     0.41     0.63     0.64     0.61     0.69     0.69   \n",
       "married       0.46     0.37     0.50     0.59     0.56     0.58     0.56   \n",
       "natio1        0.22     0.39     0.04     0.06     0.02     0.04     0.00   \n",
       "natio2        0.35     0.33     0.34     0.19     0.30     0.30     0.30   \n",
       "natio3        0.22     0.17     0.28     0.30     0.25     0.23     0.34   \n",
       "natio4        0.08     0.04     0.18     0.21     0.23     0.20     0.17   \n",
       "natio5        0.12     0.08     0.16     0.23     0.19     0.23     0.19   \n",
       "educ1         0.25     0.27     0.25     0.28     0.29     0.24     0.30   \n",
       "educ2         0.54     0.56     0.37     0.30     0.33     0.31     0.34   \n",
       "educ3         0.21     0.17     0.38     0.43     0.38     0.45     0.37   \n",
       "EmployLevel1  0.16     0.20     0.12     0.10     0.09     0.07     0.08   \n",
       "EmployLevel2  0.38     0.38     0.44     0.45     0.42     0.44     0.47   \n",
       "EmployLevel3  0.34     0.32     0.38     0.35     0.41     0.42     0.38   \n",
       "EmployLevel4  0.10     0.08     0.06     0.08     0.08     0.06     0.06   \n",
       "EmployLevel5  0.01     0.02     0.01     0.01     0.01     0.01     0.01   \n",
       "skill         0.95     0.95     0.97     0.94     0.95     0.95     0.92   \n",
       "sector0       0.39     0.38     0.27     0.29     0.11     0.18     0.00   \n",
       "sector1       0.13     0.29     0.28     0.33     0.39     0.34     0.47   \n",
       "sector2       0.14     0.08     0.13     0.14     0.13     0.17     0.20   \n",
       "sector3       0.23     0.13     0.17     0.12     0.23     0.20     0.15   \n",
       "sector4       0.10     0.13     0.13     0.12     0.15     0.12     0.17   \n",
       "work_12       0.58     0.61     0.70     0.67     0.81     0.76     0.86   \n",
       "nb_mthbf_12   5.10     6.84     5.70     6.44     5.78     5.53     5.04   \n",
       "             mean_c_4 mean_t_5 mean_c_5\n",
       "age          35.88    39.74    36.61   \n",
       "gender        0.64     0.79     0.78   \n",
       "married       0.51     0.69     0.58   \n",
       "natio1        0.01     0.00     0.00   \n",
       "natio2        0.38     0.08     0.17   \n",
       "natio3        0.29     0.28     0.30   \n",
       "natio4        0.16     0.26     0.28   \n",
       "natio5        0.16     0.37     0.25   \n",
       "educ1         0.31     0.29     0.31   \n",
       "educ2         0.38     0.15     0.21   \n",
       "educ3         0.31     0.56     0.48   \n",
       "EmployLevel1  0.10     0.05     0.06   \n",
       "EmployLevel2  0.41     0.47     0.47   \n",
       "EmployLevel3  0.41     0.40     0.38   \n",
       "EmployLevel4  0.07     0.08     0.08   \n",
       "EmployLevel5  0.01     0.01     0.01   \n",
       "skill         0.95     0.95     0.95   \n",
       "sector0       0.01     0.00     0.00   \n",
       "sector1       0.35     0.52     0.43   \n",
       "sector2       0.22     0.26     0.22   \n",
       "sector3       0.28     0.06     0.18   \n",
       "sector4       0.15     0.16     0.18   \n",
       "work_12       0.86     0.81     0.80   \n",
       "nb_mthbf_12   3.98     3.41     2.44   "
      ]
     },
     "metadata": {},
     "output_type": "display_data"
    },
    {
     "data": {
      "text/html": [
       "<table class=\"dataframe\">\n",
       "<caption>A data.frame: 24 × 5</caption>\n",
       "<thead>\n",
       "\t<tr><th></th><th scope=col>std_diff_1</th><th scope=col>std_diff_2</th><th scope=col>std_diff_3</th><th scope=col>std_diff_4</th><th scope=col>std_diff_5</th></tr>\n",
       "\t<tr><th></th><th scope=col>&lt;dbl&gt;</th><th scope=col>&lt;dbl&gt;</th><th scope=col>&lt;dbl&gt;</th><th scope=col>&lt;dbl&gt;</th><th scope=col>&lt;dbl&gt;</th></tr>\n",
       "</thead>\n",
       "<tbody>\n",
       "\t<tr><th scope=row>age</th><td> 0.07</td><td>-0.18</td><td>-0.13</td><td> 0.22</td><td> 0.33</td></tr>\n",
       "\t<tr><th scope=row>gender</th><td> 0.19</td><td>-0.02</td><td>-0.17</td><td> 0.11</td><td> 0.04</td></tr>\n",
       "\t<tr><th scope=row>married</th><td> 0.18</td><td>-0.19</td><td>-0.04</td><td> 0.11</td><td> 0.23</td></tr>\n",
       "\t<tr><th scope=row>natio1</th><td>-0.39</td><td>-0.09</td><td>-0.10</td><td>-0.06</td><td>  NaN</td></tr>\n",
       "\t<tr><th scope=row>natio2</th><td> 0.06</td><td> 0.32</td><td> 0.01</td><td>-0.17</td><td>-0.27</td></tr>\n",
       "\t<tr><th scope=row>natio3</th><td> 0.15</td><td>-0.04</td><td> 0.05</td><td> 0.10</td><td>-0.04</td></tr>\n",
       "\t<tr><th scope=row>natio4</th><td> 0.19</td><td>-0.08</td><td> 0.06</td><td> 0.03</td><td>-0.04</td></tr>\n",
       "\t<tr><th scope=row>natio5</th><td> 0.15</td><td>-0.18</td><td>-0.09</td><td> 0.07</td><td> 0.27</td></tr>\n",
       "\t<tr><th scope=row>educ1</th><td>-0.06</td><td>-0.06</td><td> 0.13</td><td>-0.03</td><td>-0.04</td></tr>\n",
       "\t<tr><th scope=row>educ2</th><td>-0.03</td><td> 0.16</td><td> 0.04</td><td>-0.10</td><td>-0.15</td></tr>\n",
       "\t<tr><th scope=row>educ3</th><td> 0.10</td><td>-0.10</td><td>-0.15</td><td> 0.13</td><td> 0.15</td></tr>\n",
       "\t<tr><th scope=row>EmployLevel1</th><td>-0.10</td><td> 0.03</td><td> 0.06</td><td>-0.08</td><td>-0.08</td></tr>\n",
       "\t<tr><th scope=row>EmployLevel2</th><td> 0.00</td><td>-0.02</td><td>-0.04</td><td> 0.13</td><td> 0.01</td></tr>\n",
       "\t<tr><th scope=row>EmployLevel3</th><td> 0.05</td><td> 0.04</td><td>-0.02</td><td>-0.08</td><td> 0.03</td></tr>\n",
       "\t<tr><th scope=row>EmployLevel4</th><td> 0.07</td><td>-0.09</td><td> 0.05</td><td>-0.01</td><td>-0.02</td></tr>\n",
       "\t<tr><th scope=row>EmployLevel5</th><td>-0.03</td><td>-0.01</td><td> 0.00</td><td> 0.02</td><td> 0.04</td></tr>\n",
       "\t<tr><th scope=row>skill</th><td>-0.03</td><td> 0.13</td><td>-0.01</td><td>-0.12</td><td> 0.00</td></tr>\n",
       "\t<tr><th scope=row>sector0</th><td> 0.03</td><td>-0.05</td><td>-0.20</td><td>-0.11</td><td>  NaN</td></tr>\n",
       "\t<tr><th scope=row>sector1</th><td>-0.38</td><td>-0.10</td><td> 0.11</td><td> 0.25</td><td> 0.19</td></tr>\n",
       "\t<tr><th scope=row>sector2</th><td> 0.18</td><td> 0.00</td><td>-0.11</td><td>-0.03</td><td> 0.09</td></tr>\n",
       "\t<tr><th scope=row>sector3</th><td> 0.27</td><td> 0.15</td><td> 0.08</td><td>-0.30</td><td>-0.36</td></tr>\n",
       "\t<tr><th scope=row>sector4</th><td>-0.08</td><td> 0.04</td><td> 0.07</td><td> 0.06</td><td>-0.05</td></tr>\n",
       "\t<tr><th scope=row>work_12</th><td>-0.07</td><td> 0.06</td><td> 0.13</td><td> 0.00</td><td> 0.01</td></tr>\n",
       "\t<tr><th scope=row>nb_mthbf_12</th><td>-0.34</td><td>-0.16</td><td> 0.06</td><td> 0.35</td><td> 0.42</td></tr>\n",
       "</tbody>\n",
       "</table>\n"
      ],
      "text/latex": [
       "A data.frame: 24 × 5\n",
       "\\begin{tabular}{r|lllll}\n",
       "  & std\\_diff\\_1 & std\\_diff\\_2 & std\\_diff\\_3 & std\\_diff\\_4 & std\\_diff\\_5\\\\\n",
       "  & <dbl> & <dbl> & <dbl> & <dbl> & <dbl>\\\\\n",
       "\\hline\n",
       "\tage &  0.07 & -0.18 & -0.13 &  0.22 &  0.33\\\\\n",
       "\tgender &  0.19 & -0.02 & -0.17 &  0.11 &  0.04\\\\\n",
       "\tmarried &  0.18 & -0.19 & -0.04 &  0.11 &  0.23\\\\\n",
       "\tnatio1 & -0.39 & -0.09 & -0.10 & -0.06 &   NaN\\\\\n",
       "\tnatio2 &  0.06 &  0.32 &  0.01 & -0.17 & -0.27\\\\\n",
       "\tnatio3 &  0.15 & -0.04 &  0.05 &  0.10 & -0.04\\\\\n",
       "\tnatio4 &  0.19 & -0.08 &  0.06 &  0.03 & -0.04\\\\\n",
       "\tnatio5 &  0.15 & -0.18 & -0.09 &  0.07 &  0.27\\\\\n",
       "\teduc1 & -0.06 & -0.06 &  0.13 & -0.03 & -0.04\\\\\n",
       "\teduc2 & -0.03 &  0.16 &  0.04 & -0.10 & -0.15\\\\\n",
       "\teduc3 &  0.10 & -0.10 & -0.15 &  0.13 &  0.15\\\\\n",
       "\tEmployLevel1 & -0.10 &  0.03 &  0.06 & -0.08 & -0.08\\\\\n",
       "\tEmployLevel2 &  0.00 & -0.02 & -0.04 &  0.13 &  0.01\\\\\n",
       "\tEmployLevel3 &  0.05 &  0.04 & -0.02 & -0.08 &  0.03\\\\\n",
       "\tEmployLevel4 &  0.07 & -0.09 &  0.05 & -0.01 & -0.02\\\\\n",
       "\tEmployLevel5 & -0.03 & -0.01 &  0.00 &  0.02 &  0.04\\\\\n",
       "\tskill & -0.03 &  0.13 & -0.01 & -0.12 &  0.00\\\\\n",
       "\tsector0 &  0.03 & -0.05 & -0.20 & -0.11 &   NaN\\\\\n",
       "\tsector1 & -0.38 & -0.10 &  0.11 &  0.25 &  0.19\\\\\n",
       "\tsector2 &  0.18 &  0.00 & -0.11 & -0.03 &  0.09\\\\\n",
       "\tsector3 &  0.27 &  0.15 &  0.08 & -0.30 & -0.36\\\\\n",
       "\tsector4 & -0.08 &  0.04 &  0.07 &  0.06 & -0.05\\\\\n",
       "\twork\\_12 & -0.07 &  0.06 &  0.13 &  0.00 &  0.01\\\\\n",
       "\tnb\\_mthbf\\_12 & -0.34 & -0.16 &  0.06 &  0.35 &  0.42\\\\\n",
       "\\end{tabular}\n"
      ],
      "text/markdown": [
       "\n",
       "A data.frame: 24 × 5\n",
       "\n",
       "| <!--/--> | std_diff_1 &lt;dbl&gt; | std_diff_2 &lt;dbl&gt; | std_diff_3 &lt;dbl&gt; | std_diff_4 &lt;dbl&gt; | std_diff_5 &lt;dbl&gt; |\n",
       "|---|---|---|---|---|---|\n",
       "| age |  0.07 | -0.18 | -0.13 |  0.22 |  0.33 |\n",
       "| gender |  0.19 | -0.02 | -0.17 |  0.11 |  0.04 |\n",
       "| married |  0.18 | -0.19 | -0.04 |  0.11 |  0.23 |\n",
       "| natio1 | -0.39 | -0.09 | -0.10 | -0.06 |   NaN |\n",
       "| natio2 |  0.06 |  0.32 |  0.01 | -0.17 | -0.27 |\n",
       "| natio3 |  0.15 | -0.04 |  0.05 |  0.10 | -0.04 |\n",
       "| natio4 |  0.19 | -0.08 |  0.06 |  0.03 | -0.04 |\n",
       "| natio5 |  0.15 | -0.18 | -0.09 |  0.07 |  0.27 |\n",
       "| educ1 | -0.06 | -0.06 |  0.13 | -0.03 | -0.04 |\n",
       "| educ2 | -0.03 |  0.16 |  0.04 | -0.10 | -0.15 |\n",
       "| educ3 |  0.10 | -0.10 | -0.15 |  0.13 |  0.15 |\n",
       "| EmployLevel1 | -0.10 |  0.03 |  0.06 | -0.08 | -0.08 |\n",
       "| EmployLevel2 |  0.00 | -0.02 | -0.04 |  0.13 |  0.01 |\n",
       "| EmployLevel3 |  0.05 |  0.04 | -0.02 | -0.08 |  0.03 |\n",
       "| EmployLevel4 |  0.07 | -0.09 |  0.05 | -0.01 | -0.02 |\n",
       "| EmployLevel5 | -0.03 | -0.01 |  0.00 |  0.02 |  0.04 |\n",
       "| skill | -0.03 |  0.13 | -0.01 | -0.12 |  0.00 |\n",
       "| sector0 |  0.03 | -0.05 | -0.20 | -0.11 |   NaN |\n",
       "| sector1 | -0.38 | -0.10 |  0.11 |  0.25 |  0.19 |\n",
       "| sector2 |  0.18 |  0.00 | -0.11 | -0.03 |  0.09 |\n",
       "| sector3 |  0.27 |  0.15 |  0.08 | -0.30 | -0.36 |\n",
       "| sector4 | -0.08 |  0.04 |  0.07 |  0.06 | -0.05 |\n",
       "| work_12 | -0.07 |  0.06 |  0.13 |  0.00 |  0.01 |\n",
       "| nb_mthbf_12 | -0.34 | -0.16 |  0.06 |  0.35 |  0.42 |\n",
       "\n"
      ],
      "text/plain": [
       "             std_diff_1 std_diff_2 std_diff_3 std_diff_4 std_diff_5\n",
       "age           0.07      -0.18      -0.13       0.22       0.33     \n",
       "gender        0.19      -0.02      -0.17       0.11       0.04     \n",
       "married       0.18      -0.19      -0.04       0.11       0.23     \n",
       "natio1       -0.39      -0.09      -0.10      -0.06        NaN     \n",
       "natio2        0.06       0.32       0.01      -0.17      -0.27     \n",
       "natio3        0.15      -0.04       0.05       0.10      -0.04     \n",
       "natio4        0.19      -0.08       0.06       0.03      -0.04     \n",
       "natio5        0.15      -0.18      -0.09       0.07       0.27     \n",
       "educ1        -0.06      -0.06       0.13      -0.03      -0.04     \n",
       "educ2        -0.03       0.16       0.04      -0.10      -0.15     \n",
       "educ3         0.10      -0.10      -0.15       0.13       0.15     \n",
       "EmployLevel1 -0.10       0.03       0.06      -0.08      -0.08     \n",
       "EmployLevel2  0.00      -0.02      -0.04       0.13       0.01     \n",
       "EmployLevel3  0.05       0.04      -0.02      -0.08       0.03     \n",
       "EmployLevel4  0.07      -0.09       0.05      -0.01      -0.02     \n",
       "EmployLevel5 -0.03      -0.01       0.00       0.02       0.04     \n",
       "skill        -0.03       0.13      -0.01      -0.12       0.00     \n",
       "sector0       0.03      -0.05      -0.20      -0.11        NaN     \n",
       "sector1      -0.38      -0.10       0.11       0.25       0.19     \n",
       "sector2       0.18       0.00      -0.11      -0.03       0.09     \n",
       "sector3       0.27       0.15       0.08      -0.30      -0.36     \n",
       "sector4      -0.08       0.04       0.07       0.06      -0.05     \n",
       "work_12      -0.07       0.06       0.13       0.00       0.01     \n",
       "nb_mthbf_12  -0.34      -0.16       0.06       0.35       0.42     "
      ]
     },
     "metadata": {},
     "output_type": "display_data"
    },
    {
     "data": {
      "image/png": "[encoded data removed]",
      "text/plain": [
       "plot without title"
      ]
     },
     "metadata": {
      "image/png": {
       "height": 840,
       "width": 840
      }
     },
     "output_type": "display_data"
    }
   ],
   "source": [
    "round(ps_res$mean_df,2)\n",
    "# round(sqrt(ps_res$var_df),2)\n",
    "round(std_diff_df,2)\n",
    "par(mfrow=c(1,2))\n",
    "heatmap(abs(as.matrix(std_diff_df)), Colv = NA, Rowv = NA, scale=\"column\",na.rm=TRUE)"
   ]
  },
  {
   "cell_type": "markdown",
   "id": "graphic-programming",
   "metadata": {},
   "source": [
    "There are two main points i would like to raise:\n",
    "- <b>Continuous variables \"age\" and \"nb_mthbf_12\"</b> seems more unbalanced than the other variables. Even if there are some high unbalance in \"natio1\"/\"bin=1\" and \"natio2\"/\"bin=2\", \"age\" and \"nb_mthbf_12\" are constantly the one with the highest unbalance. Is this because of the nature of the covariate (continuous vs categorical)?\n",
    "- \"natio1\" and \"sector0\" units are all \"zeros\" in group 5; this means that no people from outside EU and \"no sector\" worker are in present in this group. Is this acceptable?"
   ]
  },
  {
   "cell_type": "markdown",
   "id": "latin-handling",
   "metadata": {},
   "source": [
    "#### 7 - b Summarize the average balance achieved for each covariate by averaging the differences in means across subclasses, weighting by the NUMBER OF UNITS IN THE ACTIVE TREATMENT GROUP in each subclass. Why would we weight by the number of active treatment units? Display these covariate means, averaged across the subclasses, in Table 1."
   ]
  },
  {
   "cell_type": "code",
   "execution_count": 10,
   "id": "compressed-heater",
   "metadata": {},
   "outputs": [
    {
     "data": {
      "text/html": [
       "<table class=\"dataframe\">\n",
       "<caption>A matrix: 24 × 3 of type dbl</caption>\n",
       "<tbody>\n",
       "\t<tr><th scope=row>age</th><td>36.19</td><td>36.83</td><td> 0.63</td></tr>\n",
       "\t<tr><th scope=row>gender</th><td> 0.64</td><td> 0.65</td><td> 0.01</td></tr>\n",
       "\t<tr><th scope=row>married</th><td> 0.53</td><td> 0.56</td><td> 0.03</td></tr>\n",
       "\t<tr><th scope=row>natio1</th><td> 0.10</td><td> 0.06</td><td>-0.04</td></tr>\n",
       "\t<tr><th scope=row>natio2</th><td> 0.27</td><td> 0.27</td><td> 0.00</td></tr>\n",
       "\t<tr><th scope=row>natio3</th><td> 0.26</td><td> 0.27</td><td> 0.02</td></tr>\n",
       "\t<tr><th scope=row>natio4</th><td> 0.18</td><td> 0.19</td><td> 0.01</td></tr>\n",
       "\t<tr><th scope=row>natio5</th><td> 0.19</td><td> 0.21</td><td> 0.02</td></tr>\n",
       "\t<tr><th scope=row>educ1</th><td> 0.28</td><td> 0.28</td><td>-0.01</td></tr>\n",
       "\t<tr><th scope=row>educ2</th><td> 0.35</td><td> 0.34</td><td>-0.01</td></tr>\n",
       "\t<tr><th scope=row>educ3</th><td> 0.37</td><td> 0.38</td><td> 0.01</td></tr>\n",
       "\t<tr><th scope=row>EmployLevel1</th><td> 0.11</td><td> 0.10</td><td>-0.01</td></tr>\n",
       "\t<tr><th scope=row>EmployLevel2</th><td> 0.43</td><td> 0.44</td><td> 0.01</td></tr>\n",
       "\t<tr><th scope=row>EmployLevel3</th><td> 0.38</td><td> 0.38</td><td> 0.00</td></tr>\n",
       "\t<tr><th scope=row>EmployLevel4</th><td> 0.07</td><td> 0.07</td><td> 0.00</td></tr>\n",
       "\t<tr><th scope=row>EmployLevel5</th><td> 0.01</td><td> 0.01</td><td> 0.00</td></tr>\n",
       "\t<tr><th scope=row>skill</th><td> 0.95</td><td> 0.95</td><td> 0.00</td></tr>\n",
       "\t<tr><th scope=row>sector0</th><td> 0.17</td><td> 0.15</td><td>-0.02</td></tr>\n",
       "\t<tr><th scope=row>sector1</th><td> 0.35</td><td> 0.36</td><td> 0.02</td></tr>\n",
       "\t<tr><th scope=row>sector2</th><td> 0.17</td><td> 0.17</td><td> 0.01</td></tr>\n",
       "\t<tr><th scope=row>sector3</th><td> 0.18</td><td> 0.17</td><td>-0.01</td></tr>\n",
       "\t<tr><th scope=row>sector4</th><td> 0.14</td><td> 0.14</td><td> 0.00</td></tr>\n",
       "\t<tr><th scope=row>work_12</th><td> 0.74</td><td> 0.75</td><td> 0.01</td></tr>\n",
       "\t<tr><th scope=row>nb_mthbf_12</th><td> 4.98</td><td> 4.97</td><td>-0.01</td></tr>\n",
       "</tbody>\n",
       "</table>\n"
      ],
      "text/latex": [
       "A matrix: 24 × 3 of type dbl\n",
       "\\begin{tabular}{r|lll}\n",
       "\tage & 36.19 & 36.83 &  0.63\\\\\n",
       "\tgender &  0.64 &  0.65 &  0.01\\\\\n",
       "\tmarried &  0.53 &  0.56 &  0.03\\\\\n",
       "\tnatio1 &  0.10 &  0.06 & -0.04\\\\\n",
       "\tnatio2 &  0.27 &  0.27 &  0.00\\\\\n",
       "\tnatio3 &  0.26 &  0.27 &  0.02\\\\\n",
       "\tnatio4 &  0.18 &  0.19 &  0.01\\\\\n",
       "\tnatio5 &  0.19 &  0.21 &  0.02\\\\\n",
       "\teduc1 &  0.28 &  0.28 & -0.01\\\\\n",
       "\teduc2 &  0.35 &  0.34 & -0.01\\\\\n",
       "\teduc3 &  0.37 &  0.38 &  0.01\\\\\n",
       "\tEmployLevel1 &  0.11 &  0.10 & -0.01\\\\\n",
       "\tEmployLevel2 &  0.43 &  0.44 &  0.01\\\\\n",
       "\tEmployLevel3 &  0.38 &  0.38 &  0.00\\\\\n",
       "\tEmployLevel4 &  0.07 &  0.07 &  0.00\\\\\n",
       "\tEmployLevel5 &  0.01 &  0.01 &  0.00\\\\\n",
       "\tskill &  0.95 &  0.95 &  0.00\\\\\n",
       "\tsector0 &  0.17 &  0.15 & -0.02\\\\\n",
       "\tsector1 &  0.35 &  0.36 &  0.02\\\\\n",
       "\tsector2 &  0.17 &  0.17 &  0.01\\\\\n",
       "\tsector3 &  0.18 &  0.17 & -0.01\\\\\n",
       "\tsector4 &  0.14 &  0.14 &  0.00\\\\\n",
       "\twork\\_12 &  0.74 &  0.75 &  0.01\\\\\n",
       "\tnb\\_mthbf\\_12 &  4.98 &  4.97 & -0.01\\\\\n",
       "\\end{tabular}\n"
      ],
      "text/markdown": [
       "\n",
       "A matrix: 24 × 3 of type dbl\n",
       "\n",
       "| age | 36.19 | 36.83 |  0.63 |\n",
       "| gender |  0.64 |  0.65 |  0.01 |\n",
       "| married |  0.53 |  0.56 |  0.03 |\n",
       "| natio1 |  0.10 |  0.06 | -0.04 |\n",
       "| natio2 |  0.27 |  0.27 |  0.00 |\n",
       "| natio3 |  0.26 |  0.27 |  0.02 |\n",
       "| natio4 |  0.18 |  0.19 |  0.01 |\n",
       "| natio5 |  0.19 |  0.21 |  0.02 |\n",
       "| educ1 |  0.28 |  0.28 | -0.01 |\n",
       "| educ2 |  0.35 |  0.34 | -0.01 |\n",
       "| educ3 |  0.37 |  0.38 |  0.01 |\n",
       "| EmployLevel1 |  0.11 |  0.10 | -0.01 |\n",
       "| EmployLevel2 |  0.43 |  0.44 |  0.01 |\n",
       "| EmployLevel3 |  0.38 |  0.38 |  0.00 |\n",
       "| EmployLevel4 |  0.07 |  0.07 |  0.00 |\n",
       "| EmployLevel5 |  0.01 |  0.01 |  0.00 |\n",
       "| skill |  0.95 |  0.95 |  0.00 |\n",
       "| sector0 |  0.17 |  0.15 | -0.02 |\n",
       "| sector1 |  0.35 |  0.36 |  0.02 |\n",
       "| sector2 |  0.17 |  0.17 |  0.01 |\n",
       "| sector3 |  0.18 |  0.17 | -0.01 |\n",
       "| sector4 |  0.14 |  0.14 |  0.00 |\n",
       "| work_12 |  0.74 |  0.75 |  0.01 |\n",
       "| nb_mthbf_12 |  4.98 |  4.97 | -0.01 |\n",
       "\n"
      ],
      "text/plain": [
       "             [,1]  [,2]  [,3] \n",
       "age          36.19 36.83  0.63\n",
       "gender        0.64  0.65  0.01\n",
       "married       0.53  0.56  0.03\n",
       "natio1        0.10  0.06 -0.04\n",
       "natio2        0.27  0.27  0.00\n",
       "natio3        0.26  0.27  0.02\n",
       "natio4        0.18  0.19  0.01\n",
       "natio5        0.19  0.21  0.02\n",
       "educ1         0.28  0.28 -0.01\n",
       "educ2         0.35  0.34 -0.01\n",
       "educ3         0.37  0.38  0.01\n",
       "EmployLevel1  0.11  0.10 -0.01\n",
       "EmployLevel2  0.43  0.44  0.01\n",
       "EmployLevel3  0.38  0.38  0.00\n",
       "EmployLevel4  0.07  0.07  0.00\n",
       "EmployLevel5  0.01  0.01  0.00\n",
       "skill         0.95  0.95  0.00\n",
       "sector0       0.17  0.15 -0.02\n",
       "sector1       0.35  0.36  0.02\n",
       "sector2       0.17  0.17  0.01\n",
       "sector3       0.18  0.17 -0.01\n",
       "sector4       0.14  0.14  0.00\n",
       "work_12       0.74  0.75  0.01\n",
       "nb_mthbf_12   4.98  4.97 -0.01"
      ]
     },
     "metadata": {},
     "output_type": "display_data"
    }
   ],
   "source": [
    "treat_tab = table(bins, Z_trim)\n",
    "treatweights = treat_tab[,2]/sum(treat_tab[,2]) # weights based on number of treated in each group\n",
    "\n",
    "indx = grepl('mean_t', colnames(ps_res$mean_df))\n",
    "bmeanT =t(ps_res$mean_df[indx])\n",
    "indx = grepl('mean_c', colnames(ps_res$mean_df))\n",
    "bmeanC =t(ps_res$mean_df[indx])\n",
    "indx = grepl('var_t', colnames(ps_res$var_df))\n",
    "bvarT =t(ps_res$mean_df[indx])\n",
    "indx = grepl('var_c', colnames(ps_res$var_df))\n",
    "bvarC =t(ps_res$mean_df[indx])\n",
    "\n",
    "meanT_bt = t(bmeanT)%*%treatweights\n",
    "meanC_bt = t(bmeanC)%*%treatweights\n",
    "meandiff_trim_block = t(bmeanT-bmeanC)%*%treatweights # NOTE!!!!! Should we have here an absolute value???? \n",
    "round(cbind(meanC_bt, meanT_bt, meandiff_trim_block), 2)\n",
    "###################################### different from R script of class (the normalization is not calculated)\n",
    "StMeanDiff_block_t = meandiff_trim_block/sqrt({varT_trim+varC_trim}/2)\n",
    "###################################### different from R script of class (the normalization is not calculated)\n",
    "# maybe the following?\n",
    "# t((bmeanT-bmeanC)/sqrt({bvarT+bvarC}/2))%*%treatweights"
   ]
  },
  {
   "cell_type": "markdown",
   "id": "yellow-stopping",
   "metadata": {},
   "source": [
    "The units MUST be weighted on active treatment units because otherwise group 1 that has a thousands of units more than other groups will be the one \"driving\" all the results. <br> <br>\n",
    "<u><b>NOTE:</b></u> here I am calculating the avarage of the difference in means NOT in absolute value. If I have two groups with very high differences but different in sign I would have \"zero mean difference\"; should I use the BAS value?"
   ]
  },
  {
   "cell_type": "code",
   "execution_count": 11,
   "id": "binary-workplace",
   "metadata": {},
   "outputs": [
    {
     "data": {
      "text/html": [
       "<table class=\"dataframe\">\n",
       "<caption>A matrix: 24 × 3 of type dbl</caption>\n",
       "<thead>\n",
       "\t<tr><th></th><th scope=col>StMeanDiff</th><th scope=col></th><th scope=col></th></tr>\n",
       "</thead>\n",
       "<tbody>\n",
       "\t<tr><th scope=row>age</th><td> 0.231</td><td> 0.061</td><td>0.735</td></tr>\n",
       "\t<tr><th scope=row>gender</th><td> 0.364</td><td> 0.028</td><td>0.922</td></tr>\n",
       "\t<tr><th scope=row>married</th><td> 0.274</td><td> 0.058</td><td>0.787</td></tr>\n",
       "\t<tr><th scope=row>natio1</th><td>-0.693</td><td>-0.117</td><td>0.831</td></tr>\n",
       "\t<tr><th scope=row>natio2</th><td>-0.068</td><td>-0.003</td><td>0.953</td></tr>\n",
       "\t<tr><th scope=row>natio3</th><td> 0.189</td><td> 0.041</td><td>0.784</td></tr>\n",
       "\t<tr><th scope=row>natio4</th><td> 0.316</td><td> 0.019</td><td>0.941</td></tr>\n",
       "\t<tr><th scope=row>natio5</th><td> 0.265</td><td> 0.055</td><td>0.792</td></tr>\n",
       "\t<tr><th scope=row>educ1</th><td> 0.011</td><td>-0.012</td><td>2.032</td></tr>\n",
       "\t<tr><th scope=row>educ2</th><td>-0.318</td><td>-0.013</td><td>0.960</td></tr>\n",
       "\t<tr><th scope=row>educ3</th><td> 0.329</td><td> 0.025</td><td>0.924</td></tr>\n",
       "\t<tr><th scope=row>EmployLevel1</th><td>-0.230</td><td>-0.030</td><td>0.869</td></tr>\n",
       "\t<tr><th scope=row>EmployLevel2</th><td> 0.080</td><td> 0.014</td><td>0.824</td></tr>\n",
       "\t<tr><th scope=row>EmployLevel3</th><td> 0.097</td><td> 0.005</td><td>0.948</td></tr>\n",
       "\t<tr><th scope=row>EmployLevel4</th><td>-0.011</td><td> 0.003</td><td>1.289</td></tr>\n",
       "\t<tr><th scope=row>EmployLevel5</th><td>-0.041</td><td> 0.001</td><td>1.017</td></tr>\n",
       "\t<tr><th scope=row>skill</th><td>-0.020</td><td>-0.009</td><td>0.537</td></tr>\n",
       "\t<tr><th scope=row>sector0</th><td>-0.443</td><td>-0.040</td><td>0.909</td></tr>\n",
       "\t<tr><th scope=row>sector1</th><td> 0.143</td><td> 0.037</td><td>0.740</td></tr>\n",
       "\t<tr><th scope=row>sector2</th><td> 0.210</td><td> 0.025</td><td>0.882</td></tr>\n",
       "\t<tr><th scope=row>sector3</th><td> 0.079</td><td>-0.034</td><td>1.437</td></tr>\n",
       "\t<tr><th scope=row>sector4</th><td> 0.052</td><td> 0.009</td><td>0.826</td></tr>\n",
       "\t<tr><th scope=row>work_12</th><td> 0.251</td><td> 0.024</td><td>0.904</td></tr>\n",
       "\t<tr><th scope=row>nb_mthbf_12</th><td>-0.316</td><td>-0.001</td><td>0.995</td></tr>\n",
       "</tbody>\n",
       "</table>\n"
      ],
      "text/latex": [
       "A matrix: 24 × 3 of type dbl\n",
       "\\begin{tabular}{r|lll}\n",
       "  & StMeanDiff &  & \\\\\n",
       "\\hline\n",
       "\tage &  0.231 &  0.061 & 0.735\\\\\n",
       "\tgender &  0.364 &  0.028 & 0.922\\\\\n",
       "\tmarried &  0.274 &  0.058 & 0.787\\\\\n",
       "\tnatio1 & -0.693 & -0.117 & 0.831\\\\\n",
       "\tnatio2 & -0.068 & -0.003 & 0.953\\\\\n",
       "\tnatio3 &  0.189 &  0.041 & 0.784\\\\\n",
       "\tnatio4 &  0.316 &  0.019 & 0.941\\\\\n",
       "\tnatio5 &  0.265 &  0.055 & 0.792\\\\\n",
       "\teduc1 &  0.011 & -0.012 & 2.032\\\\\n",
       "\teduc2 & -0.318 & -0.013 & 0.960\\\\\n",
       "\teduc3 &  0.329 &  0.025 & 0.924\\\\\n",
       "\tEmployLevel1 & -0.230 & -0.030 & 0.869\\\\\n",
       "\tEmployLevel2 &  0.080 &  0.014 & 0.824\\\\\n",
       "\tEmployLevel3 &  0.097 &  0.005 & 0.948\\\\\n",
       "\tEmployLevel4 & -0.011 &  0.003 & 1.289\\\\\n",
       "\tEmployLevel5 & -0.041 &  0.001 & 1.017\\\\\n",
       "\tskill & -0.020 & -0.009 & 0.537\\\\\n",
       "\tsector0 & -0.443 & -0.040 & 0.909\\\\\n",
       "\tsector1 &  0.143 &  0.037 & 0.740\\\\\n",
       "\tsector2 &  0.210 &  0.025 & 0.882\\\\\n",
       "\tsector3 &  0.079 & -0.034 & 1.437\\\\\n",
       "\tsector4 &  0.052 &  0.009 & 0.826\\\\\n",
       "\twork\\_12 &  0.251 &  0.024 & 0.904\\\\\n",
       "\tnb\\_mthbf\\_12 & -0.316 & -0.001 & 0.995\\\\\n",
       "\\end{tabular}\n"
      ],
      "text/markdown": [
       "\n",
       "A matrix: 24 × 3 of type dbl\n",
       "\n",
       "| <!--/--> | StMeanDiff | <!----> | <!----> |\n",
       "|---|---|---|---|\n",
       "| age |  0.231 |  0.061 | 0.735 |\n",
       "| gender |  0.364 |  0.028 | 0.922 |\n",
       "| married |  0.274 |  0.058 | 0.787 |\n",
       "| natio1 | -0.693 | -0.117 | 0.831 |\n",
       "| natio2 | -0.068 | -0.003 | 0.953 |\n",
       "| natio3 |  0.189 |  0.041 | 0.784 |\n",
       "| natio4 |  0.316 |  0.019 | 0.941 |\n",
       "| natio5 |  0.265 |  0.055 | 0.792 |\n",
       "| educ1 |  0.011 | -0.012 | 2.032 |\n",
       "| educ2 | -0.318 | -0.013 | 0.960 |\n",
       "| educ3 |  0.329 |  0.025 | 0.924 |\n",
       "| EmployLevel1 | -0.230 | -0.030 | 0.869 |\n",
       "| EmployLevel2 |  0.080 |  0.014 | 0.824 |\n",
       "| EmployLevel3 |  0.097 |  0.005 | 0.948 |\n",
       "| EmployLevel4 | -0.011 |  0.003 | 1.289 |\n",
       "| EmployLevel5 | -0.041 |  0.001 | 1.017 |\n",
       "| skill | -0.020 | -0.009 | 0.537 |\n",
       "| sector0 | -0.443 | -0.040 | 0.909 |\n",
       "| sector1 |  0.143 |  0.037 | 0.740 |\n",
       "| sector2 |  0.210 |  0.025 | 0.882 |\n",
       "| sector3 |  0.079 | -0.034 | 1.437 |\n",
       "| sector4 |  0.052 |  0.009 | 0.826 |\n",
       "| work_12 |  0.251 |  0.024 | 0.904 |\n",
       "| nb_mthbf_12 | -0.316 | -0.001 | 0.995 |\n",
       "\n"
      ],
      "text/plain": [
       "             StMeanDiff             \n",
       "age           0.231      0.061 0.735\n",
       "gender        0.364      0.028 0.922\n",
       "married       0.274      0.058 0.787\n",
       "natio1       -0.693     -0.117 0.831\n",
       "natio2       -0.068     -0.003 0.953\n",
       "natio3        0.189      0.041 0.784\n",
       "natio4        0.316      0.019 0.941\n",
       "natio5        0.265      0.055 0.792\n",
       "educ1         0.011     -0.012 2.032\n",
       "educ2        -0.318     -0.013 0.960\n",
       "educ3         0.329      0.025 0.924\n",
       "EmployLevel1 -0.230     -0.030 0.869\n",
       "EmployLevel2  0.080      0.014 0.824\n",
       "EmployLevel3  0.097      0.005 0.948\n",
       "EmployLevel4 -0.011      0.003 1.289\n",
       "EmployLevel5 -0.041      0.001 1.017\n",
       "skill        -0.020     -0.009 0.537\n",
       "sector0      -0.443     -0.040 0.909\n",
       "sector1       0.143      0.037 0.740\n",
       "sector2       0.210      0.025 0.882\n",
       "sector3       0.079     -0.034 1.437\n",
       "sector4       0.052      0.009 0.826\n",
       "work_12       0.251      0.024 0.904\n",
       "nb_mthbf_12  -0.316     -0.001 0.995"
      ]
     },
     "metadata": {},
     "output_type": "display_data"
    }
   ],
   "source": [
    "# Increase balance table\n",
    "round(cbind(StMeanDiff,StMeanDiff_block_t,(StMeanDiff-StMeanDiff_block_t)/StMeanDiff),3)"
   ]
  },
  {
   "cell_type": "markdown",
   "id": "italic-inspector",
   "metadata": {},
   "source": [
    "#### 8 - Use descriptive tools (graphs and statistics) to assess covariate balance."
   ]
  },
  {
   "cell_type": "code",
   "execution_count": 12,
   "id": "chubby-catalyst",
   "metadata": {
    "scrolled": false
   },
   "outputs": [
    {
     "data": {
      "image/png": "[encoded data removed]",
      "text/plain": [
       "Plot with title \"Standardized difference in means\""
      ]
     },
     "metadata": {
      "image/png": {
       "height": 840,
       "width": 840
      }
     },
     "output_type": "display_data"
    }
   ],
   "source": [
    "#### LOVE-PLOTS\n",
    "\n",
    "# ALL\n",
    "par(mar=c(4, 7, 4, 7), xpd=FALSE)\n",
    "plot(StMeanDiff, 1:dim(X_trim)[2],  xlab=NA, ylab=NA, yaxt=\"n\",\n",
    "     xlim=c(min(c(StMeanDiff, StMeanDiff_block_t)),\n",
    "            max(c(StMeanDiff, StMeanDiff_block_t))),\n",
    "     pch=18, col=\"blue\",\n",
    "     main=\"Standardized difference in means\", sub=\"Binary covariates\")\n",
    "points(StMeanDiff_block_t, 1:dim(X_trim)[2], col=\"red\", pch=19)\n",
    "axis(2, labels=names(X_trim),at=1:dim(X_trim)[2], las=1)\n",
    "abline(h=1:dim(X_trim)[2], lty=\"dotted\")\n",
    "abline(v=0, lwd=2)\n",
    "abline(v=0.1, lwd=2, lty=2)\n",
    "abline(v=-0.1, lwd=2, lty=2)\n",
    "par(xpd=TRUE)\n",
    "legend(\"topleft\",\n",
    "       inset = c(0.1,0.05),\n",
    "       legend = c(\"Initial\", \"Subgrps Avg\"),\n",
    "       pch = c(19, 19),\n",
    "       col = c(\"blue\", \"red\"),\n",
    "       cex = 0.75)\n",
    "par(xpd=FALSE)"
   ]
  },
  {
   "cell_type": "markdown",
   "id": "married-drama",
   "metadata": {},
   "source": [
    "#### 9 - What might we have changed about the propensity score model and/or subclassification method used in 6 in order to achieve better covariate balance? Change the propensity score model or subclassification method in at least one way (Hint: you may create more subclasses or change the specification of the propensity score by including interaction or nonlinear terms). Graphically summarize the covariate balance achieved and compare it to the balance achieved by your design to the balance achieved by the subclasses you created in 6. Briefly explain the motivation for your design and whether the resulting balance was as you expected. (If your design did not achieve the balance that you expected, that is okay.)\n",
    "I decided to have smaller groups and to discard very high and very low propensity scores; I expect to have more balanced groups because they are smaller and without the \"extremes\""
   ]
  },
  {
   "cell_type": "code",
   "execution_count": 13,
   "id": "biological-branch",
   "metadata": {
    "scrolled": false
   },
   "outputs": [
    {
     "data": {
      "text/plain": [
       "        Z_trim\n",
       "bins_new    0    1\n",
       "       1 1598   71\n",
       "       2 1260   71\n",
       "       3  994   73\n",
       "       4  792   74\n",
       "       5  489   77\n",
       "       6  680   87\n",
       "       7  639   94"
      ]
     },
     "metadata": {},
     "output_type": "display_data"
    },
    {
     "data": {
      "text/plain": [
       "bins_new\n",
       "   1    2    3    4    5    6    7 \n",
       "1669 1331 1067  866  566  767  733 "
      ]
     },
     "metadata": {},
     "output_type": "display_data"
    }
   ],
   "source": [
    "breaks_new = quantile(log_ps_trim, c(0.75, 0.8, 0.84,0.872,0.898,0.915, 0.938, 0.96))\n",
    "ps_res_new = ps_table_results(breaks_new, log_ps_trim, X_trim,  Z_trim, min_in_breaks=TRUE, max_in_breaks=TRUE)\n",
    "bins_new = ps_res_new$bins\n",
    "\n",
    "X_trim_new = X_trim[!is.na(bins_new),]\n",
    "Z_trim_new = Z_trim[!is.na(bins_new)]\n",
    "y_trim_new = y_trim[!is.na(bins_new)]\n",
    "varT_trim_new = apply(X_trim_new[Z_trim_new==1,],2,var) # Variance of the treated\n",
    "varC_trim_new = apply(X_trim_new[Z_trim_new==0,],2,var) # Variance of the controls\n",
    "\n",
    "std_diff_df_new = ps_res_new$std_diff_df\n",
    "table(bins_new, Z_trim)\n",
    "table(bins_new)\n",
    "\n",
    "treat_tab_new = table(bins_new, Z_trim)\n",
    "treatweights_new = treat_tab_new[,2]/sum(treat_tab_new[,2]) # weights based on number of treated in each group\n",
    "\n",
    "indx = grepl('mean_t', colnames(ps_res_new$mean_df))\n",
    "bmeanT_new =t(ps_res_new$mean_df[indx])\n",
    "indx = grepl('mean_c', colnames(ps_res_new$mean_df))\n",
    "bmeanC_new =t(ps_res_new$mean_df[indx])\n",
    "indx = grepl('var_t', colnames(ps_res_new$var_df))\n",
    "bvarT_new =t(ps_res_new$mean_df[indx])\n",
    "indx = grepl('var_c', colnames(ps_res_new$var_df))\n",
    "bvarC_new =t(ps_res_new$mean_df[indx])\n",
    "\n",
    "meanT_bt_new = t(bmeanT_new)%*%treatweights_new\n",
    "meanC_bt_new = t(bmeanC_new)%*%treatweights_new\n",
    "meandiff_trim_block_new = t(bmeanT_new-bmeanC_new)%*%treatweights_new\n",
    "\n",
    "# round(ps_res_new$mean_df,2)\n",
    "# # round(sqrt(ps_res$var_df),2)\n",
    "# round(std_diff_df,2)\n",
    "# round(cbind(meanC_bt_new, meanT_bt_new, meandiff_trim_block_new), 2)\n",
    "\n",
    "###################################### different from R script of class (the normalization is not calculated)\n",
    "StMeanDiff_block_t_new = meandiff_trim_block_new/sqrt({varT_trim+varC_trim}/2)\n",
    "StMeanDiff_block_t_new = meandiff_trim_block_new/sqrt({varT_trim_new+varC_trim_new}/2)\n",
    "###################################### different from R script of class (the normalization is not calculated)\n",
    "# maybe the following?\n",
    "# t((bmeanT-bmeanC)/sqrt({bvarT+bvarC}/2))%*%treatweights"
   ]
  },
  {
   "cell_type": "code",
   "execution_count": 14,
   "id": "weekly-scottish",
   "metadata": {},
   "outputs": [
    {
     "data": {
      "text/html": [
       "<table class=\"dataframe\">\n",
       "<caption>A matrix: 24 × 3 of type dbl</caption>\n",
       "<thead>\n",
       "\t<tr><th></th><th scope=col>StMeanDiff</th><th scope=col></th><th scope=col></th></tr>\n",
       "</thead>\n",
       "<tbody>\n",
       "\t<tr><th scope=row>age</th><td> 0.231</td><td>-0.032</td><td> 1.138</td></tr>\n",
       "\t<tr><th scope=row>gender</th><td> 0.364</td><td>-0.055</td><td> 1.151</td></tr>\n",
       "\t<tr><th scope=row>married</th><td> 0.274</td><td>-0.048</td><td> 1.174</td></tr>\n",
       "\t<tr><th scope=row>natio1</th><td>-0.693</td><td>-0.084</td><td> 0.879</td></tr>\n",
       "\t<tr><th scope=row>natio2</th><td>-0.068</td><td> 0.057</td><td> 1.829</td></tr>\n",
       "\t<tr><th scope=row>natio3</th><td> 0.189</td><td> 0.067</td><td> 0.643</td></tr>\n",
       "\t<tr><th scope=row>natio4</th><td> 0.316</td><td> 0.000</td><td> 1.000</td></tr>\n",
       "\t<tr><th scope=row>natio5</th><td> 0.265</td><td>-0.101</td><td> 1.383</td></tr>\n",
       "\t<tr><th scope=row>educ1</th><td> 0.011</td><td> 0.048</td><td>-3.292</td></tr>\n",
       "\t<tr><th scope=row>educ2</th><td>-0.318</td><td> 0.015</td><td> 1.048</td></tr>\n",
       "\t<tr><th scope=row>educ3</th><td> 0.329</td><td>-0.059</td><td> 1.179</td></tr>\n",
       "\t<tr><th scope=row>EmployLevel1</th><td>-0.230</td><td> 0.028</td><td> 1.120</td></tr>\n",
       "\t<tr><th scope=row>EmployLevel2</th><td> 0.080</td><td> 0.009</td><td> 0.893</td></tr>\n",
       "\t<tr><th scope=row>EmployLevel3</th><td> 0.097</td><td>-0.032</td><td> 1.329</td></tr>\n",
       "\t<tr><th scope=row>EmployLevel4</th><td>-0.011</td><td> 0.020</td><td> 2.916</td></tr>\n",
       "\t<tr><th scope=row>EmployLevel5</th><td>-0.041</td><td>-0.020</td><td> 0.507</td></tr>\n",
       "\t<tr><th scope=row>skill</th><td>-0.020</td><td>-0.027</td><td>-0.329</td></tr>\n",
       "\t<tr><th scope=row>sector0</th><td>-0.443</td><td>-0.083</td><td> 0.812</td></tr>\n",
       "\t<tr><th scope=row>sector1</th><td> 0.143</td><td> 0.069</td><td> 0.519</td></tr>\n",
       "\t<tr><th scope=row>sector2</th><td> 0.210</td><td>-0.072</td><td> 1.343</td></tr>\n",
       "\t<tr><th scope=row>sector3</th><td> 0.079</td><td> 0.001</td><td> 0.990</td></tr>\n",
       "\t<tr><th scope=row>sector4</th><td> 0.052</td><td> 0.070</td><td>-0.343</td></tr>\n",
       "\t<tr><th scope=row>work_12</th><td> 0.251</td><td> 0.060</td><td> 0.760</td></tr>\n",
       "\t<tr><th scope=row>nb_mthbf_12</th><td>-0.316</td><td> 0.045</td><td> 1.143</td></tr>\n",
       "</tbody>\n",
       "</table>\n"
      ],
      "text/latex": [
       "A matrix: 24 × 3 of type dbl\n",
       "\\begin{tabular}{r|lll}\n",
       "  & StMeanDiff &  & \\\\\n",
       "\\hline\n",
       "\tage &  0.231 & -0.032 &  1.138\\\\\n",
       "\tgender &  0.364 & -0.055 &  1.151\\\\\n",
       "\tmarried &  0.274 & -0.048 &  1.174\\\\\n",
       "\tnatio1 & -0.693 & -0.084 &  0.879\\\\\n",
       "\tnatio2 & -0.068 &  0.057 &  1.829\\\\\n",
       "\tnatio3 &  0.189 &  0.067 &  0.643\\\\\n",
       "\tnatio4 &  0.316 &  0.000 &  1.000\\\\\n",
       "\tnatio5 &  0.265 & -0.101 &  1.383\\\\\n",
       "\teduc1 &  0.011 &  0.048 & -3.292\\\\\n",
       "\teduc2 & -0.318 &  0.015 &  1.048\\\\\n",
       "\teduc3 &  0.329 & -0.059 &  1.179\\\\\n",
       "\tEmployLevel1 & -0.230 &  0.028 &  1.120\\\\\n",
       "\tEmployLevel2 &  0.080 &  0.009 &  0.893\\\\\n",
       "\tEmployLevel3 &  0.097 & -0.032 &  1.329\\\\\n",
       "\tEmployLevel4 & -0.011 &  0.020 &  2.916\\\\\n",
       "\tEmployLevel5 & -0.041 & -0.020 &  0.507\\\\\n",
       "\tskill & -0.020 & -0.027 & -0.329\\\\\n",
       "\tsector0 & -0.443 & -0.083 &  0.812\\\\\n",
       "\tsector1 &  0.143 &  0.069 &  0.519\\\\\n",
       "\tsector2 &  0.210 & -0.072 &  1.343\\\\\n",
       "\tsector3 &  0.079 &  0.001 &  0.990\\\\\n",
       "\tsector4 &  0.052 &  0.070 & -0.343\\\\\n",
       "\twork\\_12 &  0.251 &  0.060 &  0.760\\\\\n",
       "\tnb\\_mthbf\\_12 & -0.316 &  0.045 &  1.143\\\\\n",
       "\\end{tabular}\n"
      ],
      "text/markdown": [
       "\n",
       "A matrix: 24 × 3 of type dbl\n",
       "\n",
       "| <!--/--> | StMeanDiff | <!----> | <!----> |\n",
       "|---|---|---|---|\n",
       "| age |  0.231 | -0.032 |  1.138 |\n",
       "| gender |  0.364 | -0.055 |  1.151 |\n",
       "| married |  0.274 | -0.048 |  1.174 |\n",
       "| natio1 | -0.693 | -0.084 |  0.879 |\n",
       "| natio2 | -0.068 |  0.057 |  1.829 |\n",
       "| natio3 |  0.189 |  0.067 |  0.643 |\n",
       "| natio4 |  0.316 |  0.000 |  1.000 |\n",
       "| natio5 |  0.265 | -0.101 |  1.383 |\n",
       "| educ1 |  0.011 |  0.048 | -3.292 |\n",
       "| educ2 | -0.318 |  0.015 |  1.048 |\n",
       "| educ3 |  0.329 | -0.059 |  1.179 |\n",
       "| EmployLevel1 | -0.230 |  0.028 |  1.120 |\n",
       "| EmployLevel2 |  0.080 |  0.009 |  0.893 |\n",
       "| EmployLevel3 |  0.097 | -0.032 |  1.329 |\n",
       "| EmployLevel4 | -0.011 |  0.020 |  2.916 |\n",
       "| EmployLevel5 | -0.041 | -0.020 |  0.507 |\n",
       "| skill | -0.020 | -0.027 | -0.329 |\n",
       "| sector0 | -0.443 | -0.083 |  0.812 |\n",
       "| sector1 |  0.143 |  0.069 |  0.519 |\n",
       "| sector2 |  0.210 | -0.072 |  1.343 |\n",
       "| sector3 |  0.079 |  0.001 |  0.990 |\n",
       "| sector4 |  0.052 |  0.070 | -0.343 |\n",
       "| work_12 |  0.251 |  0.060 |  0.760 |\n",
       "| nb_mthbf_12 | -0.316 |  0.045 |  1.143 |\n",
       "\n"
      ],
      "text/plain": [
       "             StMeanDiff              \n",
       "age           0.231     -0.032  1.138\n",
       "gender        0.364     -0.055  1.151\n",
       "married       0.274     -0.048  1.174\n",
       "natio1       -0.693     -0.084  0.879\n",
       "natio2       -0.068      0.057  1.829\n",
       "natio3        0.189      0.067  0.643\n",
       "natio4        0.316      0.000  1.000\n",
       "natio5        0.265     -0.101  1.383\n",
       "educ1         0.011      0.048 -3.292\n",
       "educ2        -0.318      0.015  1.048\n",
       "educ3         0.329     -0.059  1.179\n",
       "EmployLevel1 -0.230      0.028  1.120\n",
       "EmployLevel2  0.080      0.009  0.893\n",
       "EmployLevel3  0.097     -0.032  1.329\n",
       "EmployLevel4 -0.011      0.020  2.916\n",
       "EmployLevel5 -0.041     -0.020  0.507\n",
       "skill        -0.020     -0.027 -0.329\n",
       "sector0      -0.443     -0.083  0.812\n",
       "sector1       0.143      0.069  0.519\n",
       "sector2       0.210     -0.072  1.343\n",
       "sector3       0.079      0.001  0.990\n",
       "sector4       0.052      0.070 -0.343\n",
       "work_12       0.251      0.060  0.760\n",
       "nb_mthbf_12  -0.316      0.045  1.143"
      ]
     },
     "metadata": {},
     "output_type": "display_data"
    }
   ],
   "source": [
    "# Increase balance table\n",
    "round(cbind(StMeanDiff,StMeanDiff_block_t_new,(StMeanDiff-StMeanDiff_block_t_new)/StMeanDiff),3)"
   ]
  },
  {
   "cell_type": "code",
   "execution_count": 15,
   "id": "mounted-print",
   "metadata": {},
   "outputs": [
    {
     "data": {
      "image/png": "[encoded data removed]",
      "text/plain": [
       "Plot with title \"Standardized difference in means\""
      ]
     },
     "metadata": {
      "image/png": {
       "height": 840,
       "width": 840
      }
     },
     "output_type": "display_data"
    }
   ],
   "source": [
    "#### LOVE-PLOTS\n",
    "\n",
    "# ALL\n",
    "par(mar=c(4, 7, 4, 7), xpd=FALSE)\n",
    "plot(StMeanDiff, 1:dim(X_trim)[2],  xlab=NA, ylab=NA, yaxt=\"n\",\n",
    "     xlim=c(min(c(StMeanDiff, StMeanDiff_block_t_new)),\n",
    "            max(c(StMeanDiff, StMeanDiff_block_t_new))),\n",
    "     pch=18, col=\"blue\",\n",
    "     main=\"Standardized difference in means\", sub=\"Binary covariates\")\n",
    "points(StMeanDiff_block_t_new, 1:dim(X_trim_new)[2], col=\"red\", pch=19)\n",
    "axis(2, labels=names(X_trim),at=1:dim(X_trim_new)[2], las=1)\n",
    "abline(h=1:dim(X_trim_new)[2], lty=\"dotted\")\n",
    "abline(v=0, lwd=2)\n",
    "abline(v=0.1, lwd=2, lty=2)\n",
    "abline(v=-0.1, lwd=2, lty=2)\n",
    "par(xpd=TRUE)\n",
    "legend(\"topleft\",\n",
    "       inset = c(0.1,0.05),\n",
    "       legend = c(\"Initial\", \"Subgrps Avg\"),\n",
    "       pch = c(19, 19),\n",
    "       col = c(\"blue\", \"red\"),\n",
    "       cex = 0.75)\n",
    "par(xpd=FALSE)"
   ]
  },
  {
   "cell_type": "markdown",
   "id": "adjusted-greeting",
   "metadata": {},
   "source": [
    "Finally, the new groups are actually more unblanced."
   ]
  },
  {
   "cell_type": "markdown",
   "id": "multiple-railway",
   "metadata": {},
   "source": [
    "#### 10 - Now that the study design phase is complete, read in the outcome, Outcome."
   ]
  },
  {
   "cell_type": "code",
   "execution_count": 16,
   "id": "protected-belly",
   "metadata": {},
   "outputs": [],
   "source": [
    "data = read.table(\"TrainingLux.txt\",header=TRUE)\n",
    "y = data$Outcome\n",
    "Z = data$TREAT\n",
    "X_treat = within(data, rm('Outcome'))\n",
    "X = within(X_treat, rm('TREAT'))"
   ]
  },
  {
   "cell_type": "markdown",
   "id": "entertaining-sheffield",
   "metadata": {},
   "source": [
    "#### 11 - Naively pretending that this observational study was actually a completely randomized experiment, and ignoring covariates, calculate a Neyman estimate of the average treatment effect and a large sample 95% interval and enter both in a table."
   ]
  },
  {
   "cell_type": "code",
   "execution_count": 17,
   "id": "optional-curtis",
   "metadata": {},
   "outputs": [
    {
     "data": {
      "text/html": [
       "<table class=\"dataframe\">\n",
       "<caption>A data.frame: 1 × 4</caption>\n",
       "<thead>\n",
       "\t<tr><th scope=col>ATE_mean</th><th scope=col>ATE_lower_bound</th><th scope=col>ATE_upper_bound</th><th scope=col>ATE_std</th></tr>\n",
       "\t<tr><th scope=col>&lt;dbl&gt;</th><th scope=col>&lt;dbl&gt;</th><th scope=col>&lt;dbl&gt;</th><th scope=col>&lt;dbl&gt;</th></tr>\n",
       "</thead>\n",
       "<tbody>\n",
       "\t<tr><td>-0.0273</td><td>-0.0575</td><td>0.0029</td><td>0.0154</td></tr>\n",
       "</tbody>\n",
       "</table>\n"
      ],
      "text/latex": [
       "A data.frame: 1 × 4\n",
       "\\begin{tabular}{llll}\n",
       " ATE\\_mean & ATE\\_lower\\_bound & ATE\\_upper\\_bound & ATE\\_std\\\\\n",
       " <dbl> & <dbl> & <dbl> & <dbl>\\\\\n",
       "\\hline\n",
       "\t -0.0273 & -0.0575 & 0.0029 & 0.0154\\\\\n",
       "\\end{tabular}\n"
      ],
      "text/markdown": [
       "\n",
       "A data.frame: 1 × 4\n",
       "\n",
       "| ATE_mean &lt;dbl&gt; | ATE_lower_bound &lt;dbl&gt; | ATE_upper_bound &lt;dbl&gt; | ATE_std &lt;dbl&gt; |\n",
       "|---|---|---|---|\n",
       "| -0.0273 | -0.0575 | 0.0029 | 0.0154 |\n",
       "\n"
      ],
      "text/plain": [
       "  ATE_mean ATE_lower_bound ATE_upper_bound ATE_std\n",
       "1 -0.0273  -0.0575         0.0029          0.0154 "
      ]
     },
     "metadata": {},
     "output_type": "display_data"
    }
   ],
   "source": [
    "naive_neyman = function(X, Z, y){\n",
    "    \n",
    "    # Naive Neyman\n",
    "    nT = sum(Z)\n",
    "    nC = nrow(X)-nT\n",
    "\n",
    "    y1_obs = y[Z==1]\n",
    "    y0_obs = y[Z==0]\n",
    "    ATE = mean(y1_obs) - mean(y0_obs)\n",
    "    ATE_var = var(y1_obs)/nT + var(y0_obs)/nC\n",
    "    obsLB1 = ATE-1.96*sqrt(ATE_var)\n",
    "    obsUB1 = ATE+1.96*sqrt(ATE_var)\n",
    "    out_df = data.frame(ATE_mean=ATE, ATE_lower_bound=obsLB1, ATE_upper_bound=obsUB1, ATE_std=sqrt(ATE_var))\n",
    "    return (list(out_df=out_df,ATE=ATE,ATE_var=ATE_var))\n",
    "    }\n",
    "d = naive_neyman(X, Z, y)$out_df\n",
    "round(d,4)"
   ]
  },
  {
   "cell_type": "markdown",
   "id": "pressing-insulation",
   "metadata": {},
   "source": [
    "#### 12 - Calculate the naive Neyman estimate as in 11, but on the subset of units obtained in 5. Report it in the table and comment briefly."
   ]
  },
  {
   "cell_type": "code",
   "execution_count": 18,
   "id": "upset-version",
   "metadata": {},
   "outputs": [
    {
     "data": {
      "text/html": [
       "<table class=\"dataframe\">\n",
       "<caption>A data.frame: 2 × 4</caption>\n",
       "<thead>\n",
       "\t<tr><th></th><th scope=col>ATE_mean</th><th scope=col>ATE_lower_bound</th><th scope=col>ATE_upper_bound</th><th scope=col>ATE_std</th></tr>\n",
       "\t<tr><th></th><th scope=col>&lt;dbl&gt;</th><th scope=col>&lt;dbl&gt;</th><th scope=col>&lt;dbl&gt;</th><th scope=col>&lt;dbl&gt;</th></tr>\n",
       "</thead>\n",
       "<tbody>\n",
       "\t<tr><th scope=row>Naive</th><td>-0.0273</td><td>-0.0575</td><td>0.0029</td><td>0.0154</td></tr>\n",
       "\t<tr><th scope=row>Trimmed</th><td>-0.0261</td><td>-0.0563</td><td>0.0041</td><td>0.0154</td></tr>\n",
       "</tbody>\n",
       "</table>\n"
      ],
      "text/latex": [
       "A data.frame: 2 × 4\n",
       "\\begin{tabular}{r|llll}\n",
       "  & ATE\\_mean & ATE\\_lower\\_bound & ATE\\_upper\\_bound & ATE\\_std\\\\\n",
       "  & <dbl> & <dbl> & <dbl> & <dbl>\\\\\n",
       "\\hline\n",
       "\tNaive & -0.0273 & -0.0575 & 0.0029 & 0.0154\\\\\n",
       "\tTrimmed & -0.0261 & -0.0563 & 0.0041 & 0.0154\\\\\n",
       "\\end{tabular}\n"
      ],
      "text/markdown": [
       "\n",
       "A data.frame: 2 × 4\n",
       "\n",
       "| <!--/--> | ATE_mean &lt;dbl&gt; | ATE_lower_bound &lt;dbl&gt; | ATE_upper_bound &lt;dbl&gt; | ATE_std &lt;dbl&gt; |\n",
       "|---|---|---|---|---|\n",
       "| Naive | -0.0273 | -0.0575 | 0.0029 | 0.0154 |\n",
       "| Trimmed | -0.0261 | -0.0563 | 0.0041 | 0.0154 |\n",
       "\n"
      ],
      "text/plain": [
       "        ATE_mean ATE_lower_bound ATE_upper_bound ATE_std\n",
       "Naive   -0.0273  -0.0575         0.0029          0.0154 \n",
       "Trimmed -0.0261  -0.0563         0.0041          0.0154 "
      ]
     },
     "metadata": {},
     "output_type": "display_data"
    }
   ],
   "source": [
    "d_trim = naive_neyman(X_trim, Z_trim, y_trim)$out_df\n",
    "neyman_tab=rbind(d,d_trim)\n",
    "rownames(neyman_tab) = c('Naive','Trimmed')\n",
    "round(neyman_tab,4)"
   ]
  },
  {
   "cell_type": "markdown",
   "id": "endangered-convenience",
   "metadata": {},
   "source": [
    "A negative ATE is very counter intuitive; it could be but at least is very unexpected. Anyway, the trimming operation increased (towards zero) the effect of the treatment and this is a symptom that probably a better design phase will give different results."
   ]
  },
  {
   "cell_type": "markdown",
   "id": "identified-observation",
   "metadata": {},
   "source": [
    "#### 13 - Obtain a Neyman point estimate for the treatment effect within each subclass from 6. Estimate the overall treatment effect by averaging across the subclasses, weighting according to the NUMBER OF UNITS IN THE ACTIVE TREATMENT GROUP in each subclass. Provide a 95% large sample confidence interval for the overall estimate by using the fact that: <img src=\"figures/formula.png\"> Report the results in the summary table and compare this interval to the other intervals you've obtained, commenting briefly.\n",
    "<u><b>NOTE:</b></u>: as demonstrated in section \"Verification of N13\", I am calculating an ATT because I am weighting on the number of treated units."
   ]
  },
  {
   "cell_type": "code",
   "execution_count": 19,
   "id": "dangerous-school",
   "metadata": {},
   "outputs": [
    {
     "data": {
      "text/html": [
       "<table class=\"dataframe\">\n",
       "<caption>A data.frame: 4 × 4</caption>\n",
       "<thead>\n",
       "\t<tr><th></th><th scope=col>ATE_mean</th><th scope=col>ATE_lower_bound</th><th scope=col>ATE_upper_bound</th><th scope=col>ATE_std</th></tr>\n",
       "\t<tr><th></th><th scope=col>&lt;dbl&gt;</th><th scope=col>&lt;dbl&gt;</th><th scope=col>&lt;dbl&gt;</th><th scope=col>&lt;dbl&gt;</th></tr>\n",
       "</thead>\n",
       "<tbody>\n",
       "\t<tr><th scope=row>Naive (ATE)</th><td>-0.0273</td><td>-0.0575</td><td>0.0029</td><td>0.0154</td></tr>\n",
       "\t<tr><th scope=row>Trimmed (ATE)</th><td>-0.0261</td><td>-0.0563</td><td>0.0041</td><td>0.0154</td></tr>\n",
       "\t<tr><th scope=row>Stratification_13 (ATE)</th><td>-0.0130</td><td>-0.0634</td><td>0.0374</td><td>0.0257</td></tr>\n",
       "\t<tr><th scope=row>Stratification_13 (ATT)</th><td> 0.0229</td><td>-0.0087</td><td>0.0545</td><td>0.0161</td></tr>\n",
       "</tbody>\n",
       "</table>\n"
      ],
      "text/latex": [
       "A data.frame: 4 × 4\n",
       "\\begin{tabular}{r|llll}\n",
       "  & ATE\\_mean & ATE\\_lower\\_bound & ATE\\_upper\\_bound & ATE\\_std\\\\\n",
       "  & <dbl> & <dbl> & <dbl> & <dbl>\\\\\n",
       "\\hline\n",
       "\tNaive (ATE) & -0.0273 & -0.0575 & 0.0029 & 0.0154\\\\\n",
       "\tTrimmed (ATE) & -0.0261 & -0.0563 & 0.0041 & 0.0154\\\\\n",
       "\tStratification\\_13 (ATE) & -0.0130 & -0.0634 & 0.0374 & 0.0257\\\\\n",
       "\tStratification\\_13 (ATT) &  0.0229 & -0.0087 & 0.0545 & 0.0161\\\\\n",
       "\\end{tabular}\n"
      ],
      "text/markdown": [
       "\n",
       "A data.frame: 4 × 4\n",
       "\n",
       "| <!--/--> | ATE_mean &lt;dbl&gt; | ATE_lower_bound &lt;dbl&gt; | ATE_upper_bound &lt;dbl&gt; | ATE_std &lt;dbl&gt; |\n",
       "|---|---|---|---|---|\n",
       "| Naive (ATE) | -0.0273 | -0.0575 | 0.0029 | 0.0154 |\n",
       "| Trimmed (ATE) | -0.0261 | -0.0563 | 0.0041 | 0.0154 |\n",
       "| Stratification_13 (ATE) | -0.0130 | -0.0634 | 0.0374 | 0.0257 |\n",
       "| Stratification_13 (ATT) |  0.0229 | -0.0087 | 0.0545 | 0.0161 |\n",
       "\n"
      ],
      "text/plain": [
       "                        ATE_mean ATE_lower_bound ATE_upper_bound ATE_std\n",
       "Naive (ATE)             -0.0273  -0.0575         0.0029          0.0154 \n",
       "Trimmed (ATE)           -0.0261  -0.0563         0.0041          0.0154 \n",
       "Stratification_13 (ATE) -0.0130  -0.0634         0.0374          0.0257 \n",
       "Stratification_13 (ATT)  0.0229  -0.0087         0.0545          0.0161 "
      ]
     },
     "metadata": {},
     "output_type": "display_data"
    }
   ],
   "source": [
    "w_att = c()\n",
    "w_ate = c()\n",
    "ate = c()\n",
    "ate_var = c()\n",
    "for (bin in 1:max(bins)){\n",
    "    sel_bool = bins==bin\n",
    "    w_ate = c(w_ate,sum(sel_bool))\n",
    "    w_att = c(w_att,sum(sel_bool & Z_trim==1))\n",
    "    nn = naive_neyman(X_trim[sel_bool,], Z_trim[sel_bool], y_trim[sel_bool])\n",
    "    ate = c(ate,nn$ATE)\n",
    "    ate_var = c(ate_var,nn$ATE_var)\n",
    "}\n",
    "w_att = w_att/sum(w_att)\n",
    "w_ate = w_ate/sum(w_ate)\n",
    "d_groups_att = data.frame(ATE_mean=ate%*%w_att, \n",
    "                      ATE_lower_bound=ate%*%w_att-1.96*sqrt(ate_var%*%w_att^2), \n",
    "                      ATE_upper_bound=ate%*%w_att+1.96*sqrt(ate_var%*%w_att^2),\n",
    "                      ATE_std = sqrt(ate_var%*%w_att^2))\n",
    "d_groups_ate = data.frame(ATE_mean=ate%*%w_ate, \n",
    "                      ATE_lower_bound=ate%*%w_ate-1.96*sqrt(ate_var%*%w_ate^2), \n",
    "                      ATE_upper_bound=ate%*%w_ate+1.96*sqrt(ate_var%*%w_ate^2),\n",
    "                      ATE_std = sqrt(ate_var%*%w_ate^2))\n",
    "neyman_tab=rbind(d,d_trim,d_groups_ate,d_groups_att)\n",
    "rownames(neyman_tab) = c('Naive (ATE)','Trimmed (ATE)','Stratification_13 (ATE)','Stratification_13 (ATT)')\n",
    "round(neyman_tab,4)"
   ]
  },
  {
   "cell_type": "markdown",
   "id": "similar-sheriff",
   "metadata": {},
   "source": [
    "The stratification performed at step 6 totally changed the ATE: now the effect of the treatment is positive and also the variance decreased a lot."
   ]
  },
  {
   "cell_type": "markdown",
   "id": "entire-empire",
   "metadata": {},
   "source": [
    "#### 14 - Obtain a Neyman point estimate and 95% large sample confidence interval based on the design you created in 9."
   ]
  },
  {
   "cell_type": "code",
   "execution_count": 20,
   "id": "opening-junior",
   "metadata": {},
   "outputs": [
    {
     "data": {
      "text/html": [
       "<table class=\"dataframe\">\n",
       "<caption>A data.frame: 6 × 4</caption>\n",
       "<thead>\n",
       "\t<tr><th></th><th scope=col>ATE_mean</th><th scope=col>ATE_lower_bound</th><th scope=col>ATE_upper_bound</th><th scope=col>ATE_std</th></tr>\n",
       "\t<tr><th></th><th scope=col>&lt;dbl&gt;</th><th scope=col>&lt;dbl&gt;</th><th scope=col>&lt;dbl&gt;</th><th scope=col>&lt;dbl&gt;</th></tr>\n",
       "</thead>\n",
       "<tbody>\n",
       "\t<tr><th scope=row>Naive (ATE)</th><td>-0.0273</td><td>-0.0575</td><td>0.0029</td><td>0.0154</td></tr>\n",
       "\t<tr><th scope=row>Trimmed (ATE)</th><td>-0.0261</td><td>-0.0563</td><td>0.0041</td><td>0.0154</td></tr>\n",
       "\t<tr><th scope=row>Stratification_13 (ATE)</th><td>-0.0130</td><td>-0.0634</td><td>0.0374</td><td>0.0257</td></tr>\n",
       "\t<tr><th scope=row>Stratification_13 (ATT)</th><td> 0.0229</td><td>-0.0087</td><td>0.0545</td><td>0.0161</td></tr>\n",
       "\t<tr><th scope=row>Stratification_14 (ATE)</th><td> 0.0703</td><td> 0.0230</td><td>0.1176</td><td>0.0241</td></tr>\n",
       "\t<tr><th scope=row>Stratification_14 (ATT)</th><td> 0.0492</td><td> 0.0052</td><td>0.0932</td><td>0.0225</td></tr>\n",
       "</tbody>\n",
       "</table>\n"
      ],
      "text/latex": [
       "A data.frame: 6 × 4\n",
       "\\begin{tabular}{r|llll}\n",
       "  & ATE\\_mean & ATE\\_lower\\_bound & ATE\\_upper\\_bound & ATE\\_std\\\\\n",
       "  & <dbl> & <dbl> & <dbl> & <dbl>\\\\\n",
       "\\hline\n",
       "\tNaive (ATE) & -0.0273 & -0.0575 & 0.0029 & 0.0154\\\\\n",
       "\tTrimmed (ATE) & -0.0261 & -0.0563 & 0.0041 & 0.0154\\\\\n",
       "\tStratification\\_13 (ATE) & -0.0130 & -0.0634 & 0.0374 & 0.0257\\\\\n",
       "\tStratification\\_13 (ATT) &  0.0229 & -0.0087 & 0.0545 & 0.0161\\\\\n",
       "\tStratification\\_14 (ATE) &  0.0703 &  0.0230 & 0.1176 & 0.0241\\\\\n",
       "\tStratification\\_14 (ATT) &  0.0492 &  0.0052 & 0.0932 & 0.0225\\\\\n",
       "\\end{tabular}\n"
      ],
      "text/markdown": [
       "\n",
       "A data.frame: 6 × 4\n",
       "\n",
       "| <!--/--> | ATE_mean &lt;dbl&gt; | ATE_lower_bound &lt;dbl&gt; | ATE_upper_bound &lt;dbl&gt; | ATE_std &lt;dbl&gt; |\n",
       "|---|---|---|---|---|\n",
       "| Naive (ATE) | -0.0273 | -0.0575 | 0.0029 | 0.0154 |\n",
       "| Trimmed (ATE) | -0.0261 | -0.0563 | 0.0041 | 0.0154 |\n",
       "| Stratification_13 (ATE) | -0.0130 | -0.0634 | 0.0374 | 0.0257 |\n",
       "| Stratification_13 (ATT) |  0.0229 | -0.0087 | 0.0545 | 0.0161 |\n",
       "| Stratification_14 (ATE) |  0.0703 |  0.0230 | 0.1176 | 0.0241 |\n",
       "| Stratification_14 (ATT) |  0.0492 |  0.0052 | 0.0932 | 0.0225 |\n",
       "\n"
      ],
      "text/plain": [
       "                        ATE_mean ATE_lower_bound ATE_upper_bound ATE_std\n",
       "Naive (ATE)             -0.0273  -0.0575         0.0029          0.0154 \n",
       "Trimmed (ATE)           -0.0261  -0.0563         0.0041          0.0154 \n",
       "Stratification_13 (ATE) -0.0130  -0.0634         0.0374          0.0257 \n",
       "Stratification_13 (ATT)  0.0229  -0.0087         0.0545          0.0161 \n",
       "Stratification_14 (ATE)  0.0703   0.0230         0.1176          0.0241 \n",
       "Stratification_14 (ATT)  0.0492   0.0052         0.0932          0.0225 "
      ]
     },
     "metadata": {},
     "output_type": "display_data"
    }
   ],
   "source": [
    "w_att = c()\n",
    "w_ate = c()\n",
    "ate = c()\n",
    "ate_var = c()\n",
    "bins_filt = bins_new[!is.na(bins_new)]\n",
    "for (bin in 1:max(bins_filt)){\n",
    "    sel_bool = bins_filt==bin\n",
    "    w_ate = c(w_ate,sum(sel_bool))\n",
    "    w_att = c(w_att,sum(sel_bool & Z_trim_new==1))\n",
    "    nn = naive_neyman(X_trim_new[sel_bool,], Z_trim_new[sel_bool], y_trim_new[sel_bool])\n",
    "    ate = c(ate,nn$ATE)\n",
    "    ate_var = c(ate_var,nn$ATE_var)\n",
    "}\n",
    "w_ate = w_ate/sum(w_ate)\n",
    "w_att = w_att/sum(w_att)\n",
    "d_groups_att_new = data.frame(ATE_mean=ate%*%w_att, \n",
    "                      ATE_lower_bound=ate%*%w_att-1.96*sqrt(ate_var%*%w_att^2), \n",
    "                      ATE_upper_bound=ate%*%w_att+1.96*sqrt(ate_var%*%w_att^2),\n",
    "                      ATE_std = sqrt(ate_var%*%w_att^2))\n",
    "d_groups_ate_new = data.frame(ATE_mean=ate%*%w_ate, \n",
    "                      ATE_lower_bound=ate%*%w_ate-1.96*sqrt(ate_var%*%w_ate^2), \n",
    "                      ATE_upper_bound=ate%*%w_ate+1.96*sqrt(ate_var%*%w_ate^2),\n",
    "                      ATE_std = sqrt(ate_var%*%w_ate^2))\n",
    "neyman_tab=rbind(neyman_tab, d_groups_ate_new, d_groups_att_new)\n",
    "rownames(neyman_tab)[5:6] = c('Stratification_14 (ATE)','Stratification_14 (ATT)')\n",
    "round(neyman_tab,4)"
   ]
  },
  {
   "cell_type": "markdown",
   "id": "timely-remedy",
   "metadata": {},
   "source": [
    "#### 15 - Discuss the various estimates you obtained.\n",
    "The stratification of step 9 changed even more the results. Since ATE (actually ATT because averaged on treatment units) from step 6 is more reliable (the balance is better) and an higher number of units are used, probably that is the most correct value."
   ]
  },
  {
   "cell_type": "markdown",
   "id": "actual-passion",
   "metadata": {},
   "source": [
    "#### 16 - Do you think that the covariates that are available in this data set are sufficient to support the unconfoundedness assumption? What other covariates might we want to include, if we had them?\n",
    "The unconfoundedness cannot be tested by definition so it is difficult to say if the covariates are sufficient to support this assumption. To verify it, a sensitivity analysis should be performed; for example a the \"placebo analysis\" could be performed (identify a variable that cannot be affected by the treatment, estimate the ATE of Z on this variable and if it is statistically different from zero than the unconfoundedness assumption does not hold. <br> <br>\n",
    "One consideration can be made on the \"employability level\": \"employability level\" is calculated by ADEM can be replaced directly by the covariates used to calculate it; this will esnure that \"no filter\" from ADEM calculation is added to the model."
   ]
  },
  {
   "cell_type": "markdown",
   "id": "weird-copying",
   "metadata": {},
   "source": [
    "#### 17 - You will use now the package MatchIt or other packages suggested during lectures to carry out a matching analysis. Start by performing an exact matching on all covariates. How many units are matched? Why is it the case?"
   ]
  },
  {
   "cell_type": "code",
   "execution_count": 21,
   "id": "twelve-kernel",
   "metadata": {
    "scrolled": false
   },
   "outputs": [
    {
     "data": {
      "text/html": [
       "<table class=\"dataframe\">\n",
       "<caption>A matrix: 6 × 2 of type dbl</caption>\n",
       "<thead>\n",
       "\t<tr><th></th><th scope=col>Control</th><th scope=col>Treated</th></tr>\n",
       "</thead>\n",
       "<tbody>\n",
       "\t<tr><th scope=row>All (ESS)</th><td>32617.0000</td><td>1085</td></tr>\n",
       "\t<tr><th scope=row>All</th><td>32617.0000</td><td>1085</td></tr>\n",
       "\t<tr><th scope=row>Matched (ESS)</th><td>  256.3492</td><td> 164</td></tr>\n",
       "\t<tr><th scope=row>Matched</th><td>  487.0000</td><td> 164</td></tr>\n",
       "\t<tr><th scope=row>Unmatched</th><td>32130.0000</td><td> 921</td></tr>\n",
       "\t<tr><th scope=row>Discarded</th><td>    0.0000</td><td>   0</td></tr>\n",
       "</tbody>\n",
       "</table>\n"
      ],
      "text/latex": [
       "A matrix: 6 × 2 of type dbl\n",
       "\\begin{tabular}{r|ll}\n",
       "  & Control & Treated\\\\\n",
       "\\hline\n",
       "\tAll (ESS) & 32617.0000 & 1085\\\\\n",
       "\tAll & 32617.0000 & 1085\\\\\n",
       "\tMatched (ESS) &   256.3492 &  164\\\\\n",
       "\tMatched &   487.0000 &  164\\\\\n",
       "\tUnmatched & 32130.0000 &  921\\\\\n",
       "\tDiscarded &     0.0000 &    0\\\\\n",
       "\\end{tabular}\n"
      ],
      "text/markdown": [
       "\n",
       "A matrix: 6 × 2 of type dbl\n",
       "\n",
       "| <!--/--> | Control | Treated |\n",
       "|---|---|---|\n",
       "| All (ESS) | 32617.0000 | 1085 |\n",
       "| All | 32617.0000 | 1085 |\n",
       "| Matched (ESS) |   256.3492 |  164 |\n",
       "| Matched |   487.0000 |  164 |\n",
       "| Unmatched | 32130.0000 |  921 |\n",
       "| Discarded |     0.0000 |    0 |\n",
       "\n"
      ],
      "text/plain": [
       "              Control    Treated\n",
       "All (ESS)     32617.0000 1085   \n",
       "All           32617.0000 1085   \n",
       "Matched (ESS)   256.3492  164   \n",
       "Matched         487.0000  164   \n",
       "Unmatched     32130.0000  921   \n",
       "Discarded         0.0000    0   "
      ]
     },
     "metadata": {},
     "output_type": "display_data"
    }
   ],
   "source": [
    "data = read.table(\"TrainingLux.txt\",header=TRUE)\n",
    "y = data$Outcome\n",
    "Z = data$TREAT\n",
    "X_treat = within(data, rm('Outcome'))\n",
    "X = within(X_treat, rm('TREAT'))\n",
    "formula =TREAT ~ age + gender + married + natio1 + natio2 + natio3 + natio4 + natio5 + educ1 + educ2 + educ3 + EmployLevel1 + EmployLevel2 + EmployLevel3 + EmployLevel4 + EmployLevel5 + skill + sector0 + sector1 + sector2 + sector3 + sector4 + work_12 + nb_mthbf_12\n",
    "\n",
    "#Exact Matching without replacement\n",
    "m_exact_without_rep = matchit(formula, data = data, method = \"exact\")\n",
    "summary(m_exact_without_rep)[2]$nn\n",
    "# ftable(obs$TREAT, obs$RA, obs$RH, obs$MARR)"
   ]
  },
  {
   "cell_type": "markdown",
   "id": "refined-pencil",
   "metadata": {},
   "source": [
    "The matched units are 487 for controls and 164 for the treated. Since we performed an <b>\"EXACT\"</b> match, the number of matched of treated is very low (around 15% of the 1085 units)."
   ]
  },
  {
   "cell_type": "markdown",
   "id": "guided-kazakhstan",
   "metadata": {},
   "source": [
    "#### 18 - Now, for each unit you will attempt to find the closest control unit in terms of propensity score. You will use a nearest-neighbor algorithm without replacement. Choose the best order for this greedy algorithm and explain the reason. Report balance measures before and after matching for all covariates. A graphical balance diagnostic is also welcome. How does balance look overall? Are there any variables in particular that look unbalanced even after matching?"
   ]
  },
  {
   "cell_type": "code",
   "execution_count": 22,
   "id": "premium-velvet",
   "metadata": {
    "scrolled": false
   },
   "outputs": [
    {
     "data": {
      "text/html": [
       "0.000163503166875342"
      ],
      "text/latex": [
       "0.000163503166875342"
      ],
      "text/markdown": [
       "0.000163503166875342"
      ],
      "text/plain": [
       "[1] 0.0001635032"
      ]
     },
     "metadata": {},
     "output_type": "display_data"
    },
    {
     "data": {
      "text/html": [
       "0.000163503166875342"
      ],
      "text/latex": [
       "0.000163503166875342"
      ],
      "text/markdown": [
       "0.000163503166875342"
      ],
      "text/plain": [
       "[1] 0.0001635032"
      ]
     },
     "metadata": {},
     "output_type": "display_data"
    },
    {
     "data": {
      "text/html": [
       "8.61545911973202e-05"
      ],
      "text/latex": [
       "8.61545911973202e-05"
      ],
      "text/markdown": [
       "8.61545911973202e-05"
      ],
      "text/plain": [
       "[1] 8.615459e-05"
      ]
     },
     "metadata": {},
     "output_type": "display_data"
    },
    {
     "data": {
      "text/html": [
       "0.0239748141679829"
      ],
      "text/latex": [
       "0.0239748141679829"
      ],
      "text/markdown": [
       "0.0239748141679829"
      ],
      "text/plain": [
       "[1] 0.02397481"
      ]
     },
     "metadata": {},
     "output_type": "display_data"
    },
    {
     "data": {
      "text/html": [
       "0.0239748141679829"
      ],
      "text/latex": [
       "0.0239748141679829"
      ],
      "text/markdown": [
       "0.0239748141679829"
      ],
      "text/plain": [
       "[1] 0.02397481"
      ]
     },
     "metadata": {},
     "output_type": "display_data"
    },
    {
     "data": {
      "text/html": [
       "0.0446243871900877"
      ],
      "text/latex": [
       "0.0446243871900877"
      ],
      "text/markdown": [
       "0.0446243871900877"
      ],
      "text/plain": [
       "[1] 0.04462439"
      ]
     },
     "metadata": {},
     "output_type": "display_data"
    }
   ],
   "source": [
    "m_nn_L = matchit(formula, data = data, method = \"nearest\", discard='control', reestimate=FALSE, m.order='largest')\n",
    "m_nn_S = matchit(formula, data = data, method = \"nearest\", discard='control', reestimate=FALSE, m.order='smallest')\n",
    "m_nn_R = matchit(formula, data = data, method = \"nearest\", discard='control', reestimate=FALSE, m.order='random')\n",
    "mean(m_nn_L$distance[Z==1] - m_nn_L$distance[m_nn_L$match.matrix])\n",
    "mean(m_nn_S$distance[Z==1] - m_nn_S$distance[m_nn_L$match.matrix])\n",
    "mean(m_nn_R$distance[Z==1] - m_nn_R$distance[m_nn_R$match.matrix])\n",
    "max(m_nn_L$distance[Z==1] - m_nn_L$distance[m_nn_L$match.matrix])\n",
    "max(m_nn_S$distance[Z==1] - m_nn_S$distance[m_nn_L$match.matrix])\n",
    "max(m_nn_R$distance[Z==1] - m_nn_R$distance[m_nn_R$match.matrix])"
   ]
  },
  {
   "cell_type": "markdown",
   "id": "united-initial",
   "metadata": {},
   "source": [
    "The most promising order is the \"LARGEST\" since it starts from the highest propensity score and this could be beneficial since the greedy algorithm will use the \"best\" matches for the units with the highest propensity score. Moreover, by examining the <b>average and maximum difference between propensity score of the matched units</b> it is clear that between LARGEST and SMALLEST there is no difference; the random function has a smaller value for the average but it has an high variance so it won't be used."
   ]
  },
  {
   "cell_type": "code",
   "execution_count": 23,
   "id": "psychological-equilibrium",
   "metadata": {
    "scrolled": false
   },
   "outputs": [
    {
     "data": {
      "text/html": [
       "<table class=\"dataframe\">\n",
       "<caption>A matrix: 25 × 7 of type dbl</caption>\n",
       "<thead>\n",
       "\t<tr><th></th><th scope=col>Means Treated</th><th scope=col>Means Control</th><th scope=col>Std. Mean Diff.</th><th scope=col>Var. Ratio</th><th scope=col>eCDF Mean</th><th scope=col>eCDF Max</th><th scope=col>Std. Pair Dist.</th></tr>\n",
       "</thead>\n",
       "<tbody>\n",
       "\t<tr><th scope=row>distance</th><td> 0.1182</td><td> 0.1180</td><td> 0.0015</td><td>1.0098</td><td>0.0000</td><td>0.0046</td><td>0.0019</td></tr>\n",
       "\t<tr><th scope=row>age</th><td>36.8258</td><td>36.9779</td><td>-0.0168</td><td>0.7364</td><td>0.0252</td><td>0.0562</td><td>1.0873</td></tr>\n",
       "\t<tr><th scope=row>gender</th><td> 0.6488</td><td> 0.6350</td><td> 0.0290</td><td>    NA</td><td>0.0138</td><td>0.0138</td><td>0.7974</td></tr>\n",
       "\t<tr><th scope=row>married</th><td> 0.5558</td><td> 0.5567</td><td>-0.0019</td><td>    NA</td><td>0.0009</td><td>0.0009</td><td>0.8774</td></tr>\n",
       "\t<tr><th scope=row>natio1</th><td> 0.0553</td><td> 0.0396</td><td> 0.0686</td><td>    NA</td><td>0.0157</td><td>0.0157</td><td>0.2863</td></tr>\n",
       "\t<tr><th scope=row>natio2</th><td> 0.2700</td><td> 0.2959</td><td>-0.0581</td><td>    NA</td><td>0.0258</td><td>0.0258</td><td>0.7307</td></tr>\n",
       "\t<tr><th scope=row>natio3</th><td> 0.2737</td><td> 0.2756</td><td>-0.0041</td><td>    NA</td><td>0.0018</td><td>0.0018</td><td>0.7276</td></tr>\n",
       "\t<tr><th scope=row>natio4</th><td> 0.1871</td><td> 0.1926</td><td>-0.0142</td><td>    NA</td><td>0.0055</td><td>0.0055</td><td>0.6145</td></tr>\n",
       "\t<tr><th scope=row>natio5</th><td> 0.2138</td><td> 0.1963</td><td> 0.0427</td><td>    NA</td><td>0.0175</td><td>0.0175</td><td>0.7036</td></tr>\n",
       "\t<tr><th scope=row>educ1</th><td> 0.2774</td><td> 0.2728</td><td> 0.0103</td><td>    NA</td><td>0.0046</td><td>0.0046</td><td>0.7925</td></tr>\n",
       "\t<tr><th scope=row>educ2</th><td> 0.3401</td><td> 0.3447</td><td>-0.0097</td><td>    NA</td><td>0.0046</td><td>0.0046</td><td>0.7568</td></tr>\n",
       "\t<tr><th scope=row>educ3</th><td> 0.3825</td><td> 0.3825</td><td> 0.0000</td><td>    NA</td><td>0.0000</td><td>0.0000</td><td>0.3558</td></tr>\n",
       "\t<tr><th scope=row>EmployLevel1</th><td> 0.0968</td><td> 0.0949</td><td> 0.0062</td><td>    NA</td><td>0.0018</td><td>0.0018</td><td>0.5113</td></tr>\n",
       "\t<tr><th scope=row>EmployLevel2</th><td> 0.4378</td><td> 0.4286</td><td> 0.0186</td><td>    NA</td><td>0.0092</td><td>0.0092</td><td>0.8806</td></tr>\n",
       "\t<tr><th scope=row>EmployLevel3</th><td> 0.3797</td><td> 0.3862</td><td>-0.0133</td><td>    NA</td><td>0.0065</td><td>0.0065</td><td>0.8147</td></tr>\n",
       "\t<tr><th scope=row>EmployLevel4</th><td> 0.0747</td><td> 0.0783</td><td>-0.0140</td><td>    NA</td><td>0.0037</td><td>0.0037</td><td>0.4418</td></tr>\n",
       "\t<tr><th scope=row>EmployLevel5</th><td> 0.0111</td><td> 0.0120</td><td>-0.0088</td><td>    NA</td><td>0.0009</td><td>0.0009</td><td>0.2027</td></tr>\n",
       "\t<tr><th scope=row>skill</th><td> 0.9475</td><td> 0.9502</td><td>-0.0124</td><td>    NA</td><td>0.0028</td><td>0.0028</td><td>0.4255</td></tr>\n",
       "\t<tr><th scope=row>sector0</th><td> 0.1502</td><td> 0.1797</td><td>-0.0825</td><td>    NA</td><td>0.0295</td><td>0.0295</td><td>0.2941</td></tr>\n",
       "\t<tr><th scope=row>sector1</th><td> 0.3641</td><td> 0.3207</td><td> 0.0900</td><td>    NA</td><td>0.0433</td><td>0.0433</td><td>0.8217</td></tr>\n",
       "\t<tr><th scope=row>sector2</th><td> 0.1742</td><td> 0.1788</td><td>-0.0122</td><td>    NA</td><td>0.0046</td><td>0.0046</td><td>0.6877</td></tr>\n",
       "\t<tr><th scope=row>sector3</th><td> 0.1677</td><td> 0.1724</td><td>-0.0123</td><td>    NA</td><td>0.0046</td><td>0.0046</td><td>0.7622</td></tr>\n",
       "\t<tr><th scope=row>sector4</th><td> 0.1438</td><td> 0.1484</td><td>-0.0131</td><td>    NA</td><td>0.0046</td><td>0.0046</td><td>0.6488</td></tr>\n",
       "\t<tr><th scope=row>work_12</th><td> 0.7539</td><td> 0.7364</td><td> 0.0407</td><td>    NA</td><td>0.0175</td><td>0.0175</td><td>0.5414</td></tr>\n",
       "\t<tr><th scope=row>nb_mthbf_12</th><td> 4.9705</td><td> 4.6184</td><td> 0.0969</td><td>0.7037</td><td>0.0864</td><td>0.1456</td><td>0.8991</td></tr>\n",
       "</tbody>\n",
       "</table>\n"
      ],
      "text/latex": [
       "A matrix: 25 × 7 of type dbl\n",
       "\\begin{tabular}{r|lllllll}\n",
       "  & Means Treated & Means Control & Std. Mean Diff. & Var. Ratio & eCDF Mean & eCDF Max & Std. Pair Dist.\\\\\n",
       "\\hline\n",
       "\tdistance &  0.1182 &  0.1180 &  0.0015 & 1.0098 & 0.0000 & 0.0046 & 0.0019\\\\\n",
       "\tage & 36.8258 & 36.9779 & -0.0168 & 0.7364 & 0.0252 & 0.0562 & 1.0873\\\\\n",
       "\tgender &  0.6488 &  0.6350 &  0.0290 &     NA & 0.0138 & 0.0138 & 0.7974\\\\\n",
       "\tmarried &  0.5558 &  0.5567 & -0.0019 &     NA & 0.0009 & 0.0009 & 0.8774\\\\\n",
       "\tnatio1 &  0.0553 &  0.0396 &  0.0686 &     NA & 0.0157 & 0.0157 & 0.2863\\\\\n",
       "\tnatio2 &  0.2700 &  0.2959 & -0.0581 &     NA & 0.0258 & 0.0258 & 0.7307\\\\\n",
       "\tnatio3 &  0.2737 &  0.2756 & -0.0041 &     NA & 0.0018 & 0.0018 & 0.7276\\\\\n",
       "\tnatio4 &  0.1871 &  0.1926 & -0.0142 &     NA & 0.0055 & 0.0055 & 0.6145\\\\\n",
       "\tnatio5 &  0.2138 &  0.1963 &  0.0427 &     NA & 0.0175 & 0.0175 & 0.7036\\\\\n",
       "\teduc1 &  0.2774 &  0.2728 &  0.0103 &     NA & 0.0046 & 0.0046 & 0.7925\\\\\n",
       "\teduc2 &  0.3401 &  0.3447 & -0.0097 &     NA & 0.0046 & 0.0046 & 0.7568\\\\\n",
       "\teduc3 &  0.3825 &  0.3825 &  0.0000 &     NA & 0.0000 & 0.0000 & 0.3558\\\\\n",
       "\tEmployLevel1 &  0.0968 &  0.0949 &  0.0062 &     NA & 0.0018 & 0.0018 & 0.5113\\\\\n",
       "\tEmployLevel2 &  0.4378 &  0.4286 &  0.0186 &     NA & 0.0092 & 0.0092 & 0.8806\\\\\n",
       "\tEmployLevel3 &  0.3797 &  0.3862 & -0.0133 &     NA & 0.0065 & 0.0065 & 0.8147\\\\\n",
       "\tEmployLevel4 &  0.0747 &  0.0783 & -0.0140 &     NA & 0.0037 & 0.0037 & 0.4418\\\\\n",
       "\tEmployLevel5 &  0.0111 &  0.0120 & -0.0088 &     NA & 0.0009 & 0.0009 & 0.2027\\\\\n",
       "\tskill &  0.9475 &  0.9502 & -0.0124 &     NA & 0.0028 & 0.0028 & 0.4255\\\\\n",
       "\tsector0 &  0.1502 &  0.1797 & -0.0825 &     NA & 0.0295 & 0.0295 & 0.2941\\\\\n",
       "\tsector1 &  0.3641 &  0.3207 &  0.0900 &     NA & 0.0433 & 0.0433 & 0.8217\\\\\n",
       "\tsector2 &  0.1742 &  0.1788 & -0.0122 &     NA & 0.0046 & 0.0046 & 0.6877\\\\\n",
       "\tsector3 &  0.1677 &  0.1724 & -0.0123 &     NA & 0.0046 & 0.0046 & 0.7622\\\\\n",
       "\tsector4 &  0.1438 &  0.1484 & -0.0131 &     NA & 0.0046 & 0.0046 & 0.6488\\\\\n",
       "\twork\\_12 &  0.7539 &  0.7364 &  0.0407 &     NA & 0.0175 & 0.0175 & 0.5414\\\\\n",
       "\tnb\\_mthbf\\_12 &  4.9705 &  4.6184 &  0.0969 & 0.7037 & 0.0864 & 0.1456 & 0.8991\\\\\n",
       "\\end{tabular}\n"
      ],
      "text/markdown": [
       "\n",
       "A matrix: 25 × 7 of type dbl\n",
       "\n",
       "| <!--/--> | Means Treated | Means Control | Std. Mean Diff. | Var. Ratio | eCDF Mean | eCDF Max | Std. Pair Dist. |\n",
       "|---|---|---|---|---|---|---|---|\n",
       "| distance |  0.1182 |  0.1180 |  0.0015 | 1.0098 | 0.0000 | 0.0046 | 0.0019 |\n",
       "| age | 36.8258 | 36.9779 | -0.0168 | 0.7364 | 0.0252 | 0.0562 | 1.0873 |\n",
       "| gender |  0.6488 |  0.6350 |  0.0290 |     NA | 0.0138 | 0.0138 | 0.7974 |\n",
       "| married |  0.5558 |  0.5567 | -0.0019 |     NA | 0.0009 | 0.0009 | 0.8774 |\n",
       "| natio1 |  0.0553 |  0.0396 |  0.0686 |     NA | 0.0157 | 0.0157 | 0.2863 |\n",
       "| natio2 |  0.2700 |  0.2959 | -0.0581 |     NA | 0.0258 | 0.0258 | 0.7307 |\n",
       "| natio3 |  0.2737 |  0.2756 | -0.0041 |     NA | 0.0018 | 0.0018 | 0.7276 |\n",
       "| natio4 |  0.1871 |  0.1926 | -0.0142 |     NA | 0.0055 | 0.0055 | 0.6145 |\n",
       "| natio5 |  0.2138 |  0.1963 |  0.0427 |     NA | 0.0175 | 0.0175 | 0.7036 |\n",
       "| educ1 |  0.2774 |  0.2728 |  0.0103 |     NA | 0.0046 | 0.0046 | 0.7925 |\n",
       "| educ2 |  0.3401 |  0.3447 | -0.0097 |     NA | 0.0046 | 0.0046 | 0.7568 |\n",
       "| educ3 |  0.3825 |  0.3825 |  0.0000 |     NA | 0.0000 | 0.0000 | 0.3558 |\n",
       "| EmployLevel1 |  0.0968 |  0.0949 |  0.0062 |     NA | 0.0018 | 0.0018 | 0.5113 |\n",
       "| EmployLevel2 |  0.4378 |  0.4286 |  0.0186 |     NA | 0.0092 | 0.0092 | 0.8806 |\n",
       "| EmployLevel3 |  0.3797 |  0.3862 | -0.0133 |     NA | 0.0065 | 0.0065 | 0.8147 |\n",
       "| EmployLevel4 |  0.0747 |  0.0783 | -0.0140 |     NA | 0.0037 | 0.0037 | 0.4418 |\n",
       "| EmployLevel5 |  0.0111 |  0.0120 | -0.0088 |     NA | 0.0009 | 0.0009 | 0.2027 |\n",
       "| skill |  0.9475 |  0.9502 | -0.0124 |     NA | 0.0028 | 0.0028 | 0.4255 |\n",
       "| sector0 |  0.1502 |  0.1797 | -0.0825 |     NA | 0.0295 | 0.0295 | 0.2941 |\n",
       "| sector1 |  0.3641 |  0.3207 |  0.0900 |     NA | 0.0433 | 0.0433 | 0.8217 |\n",
       "| sector2 |  0.1742 |  0.1788 | -0.0122 |     NA | 0.0046 | 0.0046 | 0.6877 |\n",
       "| sector3 |  0.1677 |  0.1724 | -0.0123 |     NA | 0.0046 | 0.0046 | 0.7622 |\n",
       "| sector4 |  0.1438 |  0.1484 | -0.0131 |     NA | 0.0046 | 0.0046 | 0.6488 |\n",
       "| work_12 |  0.7539 |  0.7364 |  0.0407 |     NA | 0.0175 | 0.0175 | 0.5414 |\n",
       "| nb_mthbf_12 |  4.9705 |  4.6184 |  0.0969 | 0.7037 | 0.0864 | 0.1456 | 0.8991 |\n",
       "\n"
      ],
      "text/plain": [
       "             Means Treated Means Control Std. Mean Diff. Var. Ratio eCDF Mean\n",
       "distance      0.1182        0.1180        0.0015         1.0098     0.0000   \n",
       "age          36.8258       36.9779       -0.0168         0.7364     0.0252   \n",
       "gender        0.6488        0.6350        0.0290             NA     0.0138   \n",
       "married       0.5558        0.5567       -0.0019             NA     0.0009   \n",
       "natio1        0.0553        0.0396        0.0686             NA     0.0157   \n",
       "natio2        0.2700        0.2959       -0.0581             NA     0.0258   \n",
       "natio3        0.2737        0.2756       -0.0041             NA     0.0018   \n",
       "natio4        0.1871        0.1926       -0.0142             NA     0.0055   \n",
       "natio5        0.2138        0.1963        0.0427             NA     0.0175   \n",
       "educ1         0.2774        0.2728        0.0103             NA     0.0046   \n",
       "educ2         0.3401        0.3447       -0.0097             NA     0.0046   \n",
       "educ3         0.3825        0.3825        0.0000             NA     0.0000   \n",
       "EmployLevel1  0.0968        0.0949        0.0062             NA     0.0018   \n",
       "EmployLevel2  0.4378        0.4286        0.0186             NA     0.0092   \n",
       "EmployLevel3  0.3797        0.3862       -0.0133             NA     0.0065   \n",
       "EmployLevel4  0.0747        0.0783       -0.0140             NA     0.0037   \n",
       "EmployLevel5  0.0111        0.0120       -0.0088             NA     0.0009   \n",
       "skill         0.9475        0.9502       -0.0124             NA     0.0028   \n",
       "sector0       0.1502        0.1797       -0.0825             NA     0.0295   \n",
       "sector1       0.3641        0.3207        0.0900             NA     0.0433   \n",
       "sector2       0.1742        0.1788       -0.0122             NA     0.0046   \n",
       "sector3       0.1677        0.1724       -0.0123             NA     0.0046   \n",
       "sector4       0.1438        0.1484       -0.0131             NA     0.0046   \n",
       "work_12       0.7539        0.7364        0.0407             NA     0.0175   \n",
       "nb_mthbf_12   4.9705        4.6184        0.0969         0.7037     0.0864   \n",
       "             eCDF Max Std. Pair Dist.\n",
       "distance     0.0046   0.0019         \n",
       "age          0.0562   1.0873         \n",
       "gender       0.0138   0.7974         \n",
       "married      0.0009   0.8774         \n",
       "natio1       0.0157   0.2863         \n",
       "natio2       0.0258   0.7307         \n",
       "natio3       0.0018   0.7276         \n",
       "natio4       0.0055   0.6145         \n",
       "natio5       0.0175   0.7036         \n",
       "educ1        0.0046   0.7925         \n",
       "educ2        0.0046   0.7568         \n",
       "educ3        0.0000   0.3558         \n",
       "EmployLevel1 0.0018   0.5113         \n",
       "EmployLevel2 0.0092   0.8806         \n",
       "EmployLevel3 0.0065   0.8147         \n",
       "EmployLevel4 0.0037   0.4418         \n",
       "EmployLevel5 0.0009   0.2027         \n",
       "skill        0.0028   0.4255         \n",
       "sector0      0.0295   0.2941         \n",
       "sector1      0.0433   0.8217         \n",
       "sector2      0.0046   0.6877         \n",
       "sector3      0.0046   0.7622         \n",
       "sector4      0.0046   0.6488         \n",
       "work_12      0.0175   0.5414         \n",
       "nb_mthbf_12  0.1456   0.8991         "
      ]
     },
     "metadata": {},
     "output_type": "display_data"
    }
   ],
   "source": [
    "round(summary(m_nn_L)[4]$sum.matched,4)"
   ]
  },
  {
   "cell_type": "code",
   "execution_count": 24,
   "id": "adaptive-entry",
   "metadata": {},
   "outputs": [
    {
     "data": {
      "image/png": "[encoded data removed]",
      "text/plain": [
       "plot without title"
      ]
     },
     "metadata": {
      "image/png": {
       "height": 840,
       "width": 840
      }
     },
     "output_type": "display_data"
    }
   ],
   "source": [
    "set.cobalt.options(binary = \"std\")\n",
    "love.plot(m_nn_L,thresholds = c(m = .1))"
   ]
  },
  {
   "cell_type": "markdown",
   "id": "better-mexican",
   "metadata": {},
   "source": [
    "The matching looks good overall and all covariates had a good impact from the matching."
   ]
  },
  {
   "cell_type": "markdown",
   "id": "cheap-nightmare",
   "metadata": {},
   "source": [
    "#### 19. Repeat the analysis in 18, but using a different distance measure (e.g., Mahalanobis distance). How does balance look overall? Does this look better than in 18?"
   ]
  },
  {
   "cell_type": "code",
   "execution_count": 25,
   "id": "embedded-stopping",
   "metadata": {
    "scrolled": false
   },
   "outputs": [
    {
     "data": {
      "image/png": "[encoded data removed]",
      "text/plain": [
       "plot without title"
      ]
     },
     "metadata": {
      "image/png": {
       "height": 840,
       "width": 840
      }
     },
     "output_type": "display_data"
    },
    {
     "data": {
      "image/png": "[encoded data removed]",
      "text/plain": [
       "plot without title"
      ]
     },
     "metadata": {
      "image/png": {
       "height": 840,
       "width": 840
      }
     },
     "output_type": "display_data"
    }
   ],
   "source": [
    "# m_nn_MAHA = matchit(formula, data = data, method = \"nearest\", m.order='random', distance='mahalanobis')\n",
    "m_nn_MAHA = matchit(formula, data = data, method = \"nearest\", m.order='random', \n",
    "                    distance='glm', \n",
    "                    mahvars = ~ age + gender + married + \n",
    "                    natio1 + natio2 + natio3 + natio4 + natio5 + \n",
    "                    educ1 + educ2 + educ3 + \n",
    "                    EmployLevel1 + EmployLevel2 + EmployLevel3 + EmployLevel4 + EmployLevel5 + \n",
    "                    skill + \n",
    "                    sector0 +     sector1 + sector2 + sector3 + sector4 + \n",
    "                    work_12 + nb_mthbf_12)\n",
    "set.cobalt.options(binary = \"std\")\n",
    "love.plot(m_nn_MAHA,thresholds = c(m = .1))\n",
    "std_diff_distances = sort((abs(summary(m_nn_MAHA)[4]$sum.matched[2:25,3]) - abs(summary(m_nn_L)[4]$sum.matched[2:25,3])))\n",
    "plot(std_diff_distances)\n",
    "abline(h=0, lwd=2)"
   ]
  },
  {
   "cell_type": "code",
   "execution_count": 26,
   "id": "legendary-serve",
   "metadata": {},
   "outputs": [
    {
     "data": {
      "text/html": [
       "-0.0117811024596856"
      ],
      "text/latex": [
       "-0.0117811024596856"
      ],
      "text/markdown": [
       "-0.0117811024596856"
      ],
      "text/plain": [
       "[1] -0.0117811"
      ]
     },
     "metadata": {},
     "output_type": "display_data"
    }
   ],
   "source": [
    "mean(std_diff_distances)"
   ]
  },
  {
   "cell_type": "markdown",
   "id": "qualified-pledge",
   "metadata": {},
   "source": [
    "The two distances are similar but if we compare the standardized difference we can see that Mahalanobis distance has a better balancing property on almost all the covariates (especially on sector1) but it performs worse on other covariates (examples: age and nb_mthbf_12). <br>\n",
    "It is difficult to say which one is better in this case (also by loooking at the mean of the difference)."
   ]
  },
  {
   "cell_type": "markdown",
   "id": "divine-orleans",
   "metadata": {},
   "source": [
    "#### 20. Repeat the analysis in 18 or 19, whichever you prefer, but this time force the algorithm to look for controls with exactly the same values of two covariates of your choice (use nearest-neighbor with the option exact followed by the vector of covariates). Explain why you are choosing these two covariates and the reason for this kind of matching. Be specific and report results."
   ]
  },
  {
   "cell_type": "code",
   "execution_count": 27,
   "id": "awful-culture",
   "metadata": {
    "scrolled": false
   },
   "outputs": [
    {
     "data": {
      "image/png": "[encoded data removed]",
      "text/plain": [
       "plot without title"
      ]
     },
     "metadata": {
      "image/png": {
       "height": 840,
       "width": 840
      }
     },
     "output_type": "display_data"
    }
   ],
   "source": [
    "m_nn_2v = matchit(formula, data = data, method = \"nearest\", exact=c('sector0','sector1'),\n",
    "                 discard='control', reestimate=FALSE, m.order='largest')\n",
    "love.plot(m_nn_2v,thresholds = c(m = .1))"
   ]
  },
  {
   "cell_type": "markdown",
   "id": "super-champion",
   "metadata": {},
   "source": [
    "I decided to use the \"sector0\" and \"sector1\" because they where the two categorical variables with the highest unbalance. <br> I discarded the option of using continuous variables because the exact match on these kind of variables is not very informative (example: two unit that are equal on all covariates but with a difference on 1 day in the age, won't be considered because of the exact match condition). I verified with the love plot that using the exact match on the two continuos variables will results in a worse balance."
   ]
  },
  {
   "cell_type": "markdown",
   "id": "japanese-programming",
   "metadata": {},
   "source": [
    "#### 21 - Repeat the analysis in 18 or 19 with replacement. Report balance measures before and after matching for all covariates and the propensity score. How does this method compare to the one in 18 or 19? Please explain the bias-variance trade-off."
   ]
  },
  {
   "cell_type": "code",
   "execution_count": 28,
   "id": "short-notion",
   "metadata": {},
   "outputs": [],
   "source": [
    "m_nn_L_rep = matchit(formula, data = data, method = \"nearest\", discard='control', reestimate=FALSE, \n",
    "                          m.order='largest',replace=T)"
   ]
  },
  {
   "cell_type": "code",
   "execution_count": 29,
   "id": "impossible-pierce",
   "metadata": {
    "scrolled": false
   },
   "outputs": [
    {
     "data": {
      "image/png": "[encoded data removed]",
      "text/plain": [
       "plot without title"
      ]
     },
     "metadata": {
      "image/png": {
       "height": 840,
       "width": 840
      }
     },
     "output_type": "display_data"
    }
   ],
   "source": [
    "options(jupyter.plot_scale=1)\n",
    "\n",
    "a = love.plot(m_nn_L,thresholds = c(m = .1))\n",
    "a = a + theme(legend.position = \"none\")\n",
    "\n",
    "b = love.plot(m_nn_L_rep,thresholds = c(m = .1))\n",
    "b = b + theme(legend.position = \"none\")\n",
    "\n",
    "grid.newpage()\n",
    "pushViewport(viewport(layout = grid.layout(1, 2)))\n",
    "vplayout <- function(x, y) viewport(layout.pos.row = x, layout.pos.col = y)\n",
    "print(a, vp = vplayout(1, 1))  # key is to define vplayout\n",
    "print(b, vp = vplayout(1, 2))"
   ]
  },
  {
   "cell_type": "code",
   "execution_count": 30,
   "id": "pressed-praise",
   "metadata": {},
   "outputs": [
    {
     "data": {
      "text/html": [
       "<table class=\"dataframe\">\n",
       "<caption>A data.frame: 1 × 3</caption>\n",
       "<thead>\n",
       "\t<tr><th scope=col>balance_without_rep</th><th scope=col>balance_with_rep</th><th scope=col>ratio</th></tr>\n",
       "\t<tr><th scope=col>&lt;dbl&gt;</th><th scope=col>&lt;dbl&gt;</th><th scope=col>&lt;dbl&gt;</th></tr>\n",
       "</thead>\n",
       "<tbody>\n",
       "\t<tr><td>0.000164</td><td>3.1e-05</td><td>5.320886</td></tr>\n",
       "</tbody>\n",
       "</table>\n"
      ],
      "text/latex": [
       "A data.frame: 1 × 3\n",
       "\\begin{tabular}{lll}\n",
       " balance\\_without\\_rep & balance\\_with\\_rep & ratio\\\\\n",
       " <dbl> & <dbl> & <dbl>\\\\\n",
       "\\hline\n",
       "\t 0.000164 & 3.1e-05 & 5.320886\\\\\n",
       "\\end{tabular}\n"
      ],
      "text/markdown": [
       "\n",
       "A data.frame: 1 × 3\n",
       "\n",
       "| balance_without_rep &lt;dbl&gt; | balance_with_rep &lt;dbl&gt; | ratio &lt;dbl&gt; |\n",
       "|---|---|---|\n",
       "| 0.000164 | 3.1e-05 | 5.320886 |\n",
       "\n"
      ],
      "text/plain": [
       "  balance_without_rep balance_with_rep ratio   \n",
       "1 0.000164            3.1e-05          5.320886"
      ]
     },
     "metadata": {},
     "output_type": "display_data"
    }
   ],
   "source": [
    "round(data.frame(balance_without_rep = mean(m_nn_L$distance[Z==1] - m_nn_L$distance[m_nn_L$match.matrix]),\n",
    "                 balance_with_rep = mean(m_nn_L_rep$distance[Z==1] - m_nn_L_rep$distance[m_nn_L_rep$match.matrix]),\n",
    "                 ratio =mean(m_nn_L$distance[Z==1] - m_nn_L$distance[m_nn_L$match.matrix])/mean(m_nn_L_rep$distance[Z==1] - m_nn_L_rep$distance[m_nn_L_rep$match.matrix])),\n",
    "      6)"
   ]
  },
  {
   "cell_type": "markdown",
   "id": "norwegian-aging",
   "metadata": {},
   "source": [
    "The replacement of the data gives an higher average balance of the dataset but this is expected. <br>\n",
    "The risk of having the replacement is that a single control unit can be the closest match for a lot of treated unit; this result in a very good average balance (low bias) but we are using just few control units so the model is very specific (high bias)."
   ]
  },
  {
   "cell_type": "markdown",
   "id": "final-parish",
   "metadata": {},
   "source": [
    "#### 22 - Obtain a Neyman point estimate of the ATT and 95% large sample confidence interval based on the matched data derived in 18 or 19 and in 21. Compare the results."
   ]
  },
  {
   "cell_type": "code",
   "execution_count": 43,
   "id": "usual-adelaide",
   "metadata": {},
   "outputs": [
    {
     "data": {
      "text/html": [
       "<table class=\"dataframe\">\n",
       "<caption>A data.frame: 3 × 4</caption>\n",
       "<thead>\n",
       "\t<tr><th></th><th scope=col>ATT_mean</th><th scope=col>ATT_lower_bound</th><th scope=col>ATT_upper_bound</th><th scope=col>ATT_std</th></tr>\n",
       "\t<tr><th></th><th scope=col>&lt;dbl&gt;</th><th scope=col>&lt;dbl&gt;</th><th scope=col>&lt;dbl&gt;</th><th scope=col>&lt;dbl&gt;</th></tr>\n",
       "</thead>\n",
       "<tbody>\n",
       "\t<tr><th scope=row>Largest PS</th><td>0.033179724</td><td>-0.008701494</td><td>0.07506094</td><td>0.02136797</td></tr>\n",
       "\t<tr><th scope=row>Largest Mahalanobis</th><td>0.004608295</td><td>-0.037393076</td><td>0.04660967</td><td>0.02142927</td></tr>\n",
       "\t<tr><th scope=row>Largest PS with rep</th><td>0.035023041</td><td>-0.007996523</td><td>0.07804261</td><td>0.02194876</td></tr>\n",
       "</tbody>\n",
       "</table>\n"
      ],
      "text/latex": [
       "A data.frame: 3 × 4\n",
       "\\begin{tabular}{r|llll}\n",
       "  & ATT\\_mean & ATT\\_lower\\_bound & ATT\\_upper\\_bound & ATT\\_std\\\\\n",
       "  & <dbl> & <dbl> & <dbl> & <dbl>\\\\\n",
       "\\hline\n",
       "\tLargest PS & 0.033179724 & -0.008701494 & 0.07506094 & 0.02136797\\\\\n",
       "\tLargest Mahalanobis & 0.004608295 & -0.037393076 & 0.04660967 & 0.02142927\\\\\n",
       "\tLargest PS with rep & 0.035023041 & -0.007996523 & 0.07804261 & 0.02194876\\\\\n",
       "\\end{tabular}\n"
      ],
      "text/markdown": [
       "\n",
       "A data.frame: 3 × 4\n",
       "\n",
       "| <!--/--> | ATT_mean &lt;dbl&gt; | ATT_lower_bound &lt;dbl&gt; | ATT_upper_bound &lt;dbl&gt; | ATT_std &lt;dbl&gt; |\n",
       "|---|---|---|---|---|\n",
       "| Largest PS | 0.033179724 | -0.008701494 | 0.07506094 | 0.02136797 |\n",
       "| Largest Mahalanobis | 0.004608295 | -0.037393076 | 0.04660967 | 0.02142927 |\n",
       "| Largest PS with rep | 0.035023041 | -0.007996523 | 0.07804261 | 0.02194876 |\n",
       "\n"
      ],
      "text/plain": [
       "                    ATT_mean    ATT_lower_bound ATT_upper_bound ATT_std   \n",
       "Largest PS          0.033179724 -0.008701494    0.07506094      0.02136797\n",
       "Largest Mahalanobis 0.004608295 -0.037393076    0.04660967      0.02142927\n",
       "Largest PS with rep 0.035023041 -0.007996523    0.07804261      0.02194876"
      ]
     },
     "metadata": {},
     "output_type": "display_data"
    }
   ],
   "source": [
    "ATT_calc = function(matchit_obj, already_matched=FALSE){\n",
    "    if (already_matched==FALSE){\n",
    "        out_data = match.data(matchit_obj)\n",
    "    }\n",
    "    else{\n",
    "        out_data = matchit_obj\n",
    "    }\n",
    "    m_T = weighted.mean(out_data$Outcome[out_data$TREAT==1], out_data$weights[out_data$TREAT==1])\n",
    "    m_C = weighted.mean(out_data$Outcome[out_data$TREAT==0], out_data$weights[out_data$TREAT==0])\n",
    "    ATT = m_T-m_C\n",
    "    ATT_std= sqrt(var(out_data$Outcome[out_data$TREAT==1])/sum(out_data$TREAT==1)+\n",
    "                           var(out_data$Outcome[out_data$TREAT==0])/sum(out_data$TREAT==0))\n",
    "\n",
    "    return (list(ATT_mean=ATT,ATT_lower_bound=ATT-1.96*ATT_std, ATT_upper_bound=ATT+1.96*ATT_std, ATT_std=ATT_std))\n",
    "}\n",
    "\n",
    "\n",
    "ATT_m_nn_L     = ATT_calc(m_nn_L)\n",
    "ATT_m_nn_MAHA  = ATT_calc(m_nn_MAHA)\n",
    "ATT_m_nn_L_rep = ATT_calc(m_nn_L_rep)\n",
    "\n",
    "ATT_res = rbind(data.frame(ATT_m_nn_L), data.frame(ATT_m_nn_MAHA), data.frame(ATT_m_nn_L_rep))  \n",
    "rownames(ATT_res) = c('Largest PS','Largest Mahalanobis', 'Largest PS with rep')\n",
    "ATT_res"
   ]
  },
  {
   "cell_type": "markdown",
   "id": "automated-report",
   "metadata": {},
   "source": [
    "#### 23 - Compare results based on matching with those obtained in 13 and 14."
   ]
  },
  {
   "cell_type": "code",
   "execution_count": 32,
   "id": "different-chuck",
   "metadata": {},
   "outputs": [
    {
     "data": {
      "text/html": [
       "<table class=\"dataframe\">\n",
       "<caption>A data.frame: 7 × 4</caption>\n",
       "<thead>\n",
       "\t<tr><th></th><th scope=col>ATT_mean</th><th scope=col>ATT_lower_bound</th><th scope=col>ATT_upper_bound</th><th scope=col>ATT_std</th></tr>\n",
       "\t<tr><th></th><th scope=col>&lt;dbl&gt;</th><th scope=col>&lt;dbl&gt;</th><th scope=col>&lt;dbl&gt;</th><th scope=col>&lt;dbl&gt;</th></tr>\n",
       "</thead>\n",
       "<tbody>\n",
       "\t<tr><th scope=row>Stratification_13 (ATE)</th><td>-0.012988729</td><td>-0.063393447</td><td>0.03741599</td><td>0.02571669</td></tr>\n",
       "\t<tr><th scope=row>Stratification_14 (ATE)</th><td> 0.070288750</td><td> 0.023000797</td><td>0.11757670</td><td>0.02412651</td></tr>\n",
       "\t<tr><th scope=row>Stratification_13 (ATT)</th><td> 0.022892494</td><td>-0.008696394</td><td>0.05448138</td><td>0.01611678</td></tr>\n",
       "\t<tr><th scope=row>Stratification_14 (ATT)</th><td> 0.049178771</td><td> 0.005163809</td><td>0.09319373</td><td>0.02245661</td></tr>\n",
       "\t<tr><th scope=row>Largest PS</th><td> 0.033179724</td><td>-0.008701494</td><td>0.07506094</td><td>0.02136797</td></tr>\n",
       "\t<tr><th scope=row>Largest Mahalanobis</th><td> 0.004608295</td><td>-0.037393076</td><td>0.04660967</td><td>0.02142927</td></tr>\n",
       "\t<tr><th scope=row>Largest PS with rep</th><td> 0.035023041</td><td>-0.007996523</td><td>0.07804261</td><td>0.02194876</td></tr>\n",
       "</tbody>\n",
       "</table>\n"
      ],
      "text/latex": [
       "A data.frame: 7 × 4\n",
       "\\begin{tabular}{r|llll}\n",
       "  & ATT\\_mean & ATT\\_lower\\_bound & ATT\\_upper\\_bound & ATT\\_std\\\\\n",
       "  & <dbl> & <dbl> & <dbl> & <dbl>\\\\\n",
       "\\hline\n",
       "\tStratification\\_13 (ATE) & -0.012988729 & -0.063393447 & 0.03741599 & 0.02571669\\\\\n",
       "\tStratification\\_14 (ATE) &  0.070288750 &  0.023000797 & 0.11757670 & 0.02412651\\\\\n",
       "\tStratification\\_13 (ATT) &  0.022892494 & -0.008696394 & 0.05448138 & 0.01611678\\\\\n",
       "\tStratification\\_14 (ATT) &  0.049178771 &  0.005163809 & 0.09319373 & 0.02245661\\\\\n",
       "\tLargest PS &  0.033179724 & -0.008701494 & 0.07506094 & 0.02136797\\\\\n",
       "\tLargest Mahalanobis &  0.004608295 & -0.037393076 & 0.04660967 & 0.02142927\\\\\n",
       "\tLargest PS with rep &  0.035023041 & -0.007996523 & 0.07804261 & 0.02194876\\\\\n",
       "\\end{tabular}\n"
      ],
      "text/markdown": [
       "\n",
       "A data.frame: 7 × 4\n",
       "\n",
       "| <!--/--> | ATT_mean &lt;dbl&gt; | ATT_lower_bound &lt;dbl&gt; | ATT_upper_bound &lt;dbl&gt; | ATT_std &lt;dbl&gt; |\n",
       "|---|---|---|---|---|\n",
       "| Stratification_13 (ATE) | -0.012988729 | -0.063393447 | 0.03741599 | 0.02571669 |\n",
       "| Stratification_14 (ATE) |  0.070288750 |  0.023000797 | 0.11757670 | 0.02412651 |\n",
       "| Stratification_13 (ATT) |  0.022892494 | -0.008696394 | 0.05448138 | 0.01611678 |\n",
       "| Stratification_14 (ATT) |  0.049178771 |  0.005163809 | 0.09319373 | 0.02245661 |\n",
       "| Largest PS |  0.033179724 | -0.008701494 | 0.07506094 | 0.02136797 |\n",
       "| Largest Mahalanobis |  0.004608295 | -0.037393076 | 0.04660967 | 0.02142927 |\n",
       "| Largest PS with rep |  0.035023041 | -0.007996523 | 0.07804261 | 0.02194876 |\n",
       "\n"
      ],
      "text/plain": [
       "                        ATT_mean     ATT_lower_bound ATT_upper_bound ATT_std   \n",
       "Stratification_13 (ATE) -0.012988729 -0.063393447    0.03741599      0.02571669\n",
       "Stratification_14 (ATE)  0.070288750  0.023000797    0.11757670      0.02412651\n",
       "Stratification_13 (ATT)  0.022892494 -0.008696394    0.05448138      0.01611678\n",
       "Stratification_14 (ATT)  0.049178771  0.005163809    0.09319373      0.02245661\n",
       "Largest PS               0.033179724 -0.008701494    0.07506094      0.02136797\n",
       "Largest Mahalanobis      0.004608295 -0.037393076    0.04660967      0.02142927\n",
       "Largest PS with rep      0.035023041 -0.007996523    0.07804261      0.02194876"
      ]
     },
     "metadata": {},
     "output_type": "display_data"
    }
   ],
   "source": [
    "res_13_14 = neyman_tab[c('Stratification_13 (ATE)','Stratification_14 (ATE)', 'Stratification_13 (ATT)','Stratification_14 (ATT)'),]\n",
    "colnames(res_13_14) = c('ATT_mean','ATT_lower_bound','ATT_upper_bound','ATT_std')\n",
    "res_23 = rbind(res_13_14,ATT_res)\n",
    "res_23"
   ]
  },
  {
   "cell_type": "markdown",
   "id": "communist-relay",
   "metadata": {},
   "source": [
    "The Mahalanobis distance is the outlier in this table. After studying the formulation of the Mahalanobis distance I discovered that probably it is not suitable for categorical variables (that are the majority here). Here below I reported the difference in means of the covariates of the two matching (propensity score and Mahalanobis); there are some differences but not very high difference (as already shown in step 19)."
   ]
  },
  {
   "cell_type": "code",
   "execution_count": 33,
   "id": "tamil-introduction",
   "metadata": {},
   "outputs": [
    {
     "data": {
      "text/html": [
       "<table class=\"dataframe\">\n",
       "<caption>A data.frame: 25 × 2</caption>\n",
       "<thead>\n",
       "\t<tr><th></th><th scope=col>Largest</th><th scope=col>Mahalanobis</th></tr>\n",
       "\t<tr><th></th><th scope=col>&lt;dbl&gt;</th><th scope=col>&lt;dbl&gt;</th></tr>\n",
       "</thead>\n",
       "<tbody>\n",
       "\t<tr><th scope=row>distance</th><td> 0.0001635032</td><td> 0.015243412</td></tr>\n",
       "\t<tr><th scope=row>age</th><td>-0.1520737327</td><td> 0.908755760</td></tr>\n",
       "\t<tr><th scope=row>gender</th><td> 0.0138248848</td><td> 0.011059908</td></tr>\n",
       "\t<tr><th scope=row>married</th><td>-0.0009216590</td><td> 0.011981567</td></tr>\n",
       "\t<tr><th scope=row>natio1</th><td> 0.0156682028</td><td>-0.003686636</td></tr>\n",
       "\t<tr><th scope=row>natio2</th><td>-0.0258064516</td><td>-0.001843318</td></tr>\n",
       "\t<tr><th scope=row>natio3</th><td>-0.0018433180</td><td> 0.002764977</td></tr>\n",
       "\t<tr><th scope=row>natio4</th><td>-0.0055299539</td><td> 0.000000000</td></tr>\n",
       "\t<tr><th scope=row>natio5</th><td> 0.0175115207</td><td> 0.002764977</td></tr>\n",
       "\t<tr><th scope=row>educ1</th><td> 0.0046082949</td><td> 0.004608295</td></tr>\n",
       "\t<tr><th scope=row>educ2</th><td>-0.0046082949</td><td>-0.009216590</td></tr>\n",
       "\t<tr><th scope=row>educ3</th><td> 0.0000000000</td><td> 0.004608295</td></tr>\n",
       "\t<tr><th scope=row>EmployLevel1</th><td> 0.0018433180</td><td> 0.002764977</td></tr>\n",
       "\t<tr><th scope=row>EmployLevel2</th><td> 0.0092165899</td><td>-0.002764977</td></tr>\n",
       "\t<tr><th scope=row>EmployLevel3</th><td>-0.0064516129</td><td> 0.000000000</td></tr>\n",
       "\t<tr><th scope=row>EmployLevel4</th><td>-0.0036866359</td><td> 0.000000000</td></tr>\n",
       "\t<tr><th scope=row>EmployLevel5</th><td>-0.0009216590</td><td> 0.000000000</td></tr>\n",
       "\t<tr><th scope=row>skill</th><td>-0.0027649770</td><td> 0.000000000</td></tr>\n",
       "\t<tr><th scope=row>sector0</th><td>-0.0294930876</td><td>-0.000921659</td></tr>\n",
       "\t<tr><th scope=row>sector1</th><td> 0.0433179724</td><td>-0.006451613</td></tr>\n",
       "\t<tr><th scope=row>sector2</th><td>-0.0046082949</td><td> 0.004608295</td></tr>\n",
       "\t<tr><th scope=row>sector3</th><td>-0.0046082949</td><td> 0.002764977</td></tr>\n",
       "\t<tr><th scope=row>sector4</th><td>-0.0046082949</td><td> 0.000000000</td></tr>\n",
       "\t<tr><th scope=row>work_12</th><td> 0.0175115207</td><td> 0.000921659</td></tr>\n",
       "\t<tr><th scope=row>nb_mthbf_12</th><td> 0.3520737327</td><td>-0.439631336</td></tr>\n",
       "</tbody>\n",
       "</table>\n"
      ],
      "text/latex": [
       "A data.frame: 25 × 2\n",
       "\\begin{tabular}{r|ll}\n",
       "  & Largest & Mahalanobis\\\\\n",
       "  & <dbl> & <dbl>\\\\\n",
       "\\hline\n",
       "\tdistance &  0.0001635032 &  0.015243412\\\\\n",
       "\tage & -0.1520737327 &  0.908755760\\\\\n",
       "\tgender &  0.0138248848 &  0.011059908\\\\\n",
       "\tmarried & -0.0009216590 &  0.011981567\\\\\n",
       "\tnatio1 &  0.0156682028 & -0.003686636\\\\\n",
       "\tnatio2 & -0.0258064516 & -0.001843318\\\\\n",
       "\tnatio3 & -0.0018433180 &  0.002764977\\\\\n",
       "\tnatio4 & -0.0055299539 &  0.000000000\\\\\n",
       "\tnatio5 &  0.0175115207 &  0.002764977\\\\\n",
       "\teduc1 &  0.0046082949 &  0.004608295\\\\\n",
       "\teduc2 & -0.0046082949 & -0.009216590\\\\\n",
       "\teduc3 &  0.0000000000 &  0.004608295\\\\\n",
       "\tEmployLevel1 &  0.0018433180 &  0.002764977\\\\\n",
       "\tEmployLevel2 &  0.0092165899 & -0.002764977\\\\\n",
       "\tEmployLevel3 & -0.0064516129 &  0.000000000\\\\\n",
       "\tEmployLevel4 & -0.0036866359 &  0.000000000\\\\\n",
       "\tEmployLevel5 & -0.0009216590 &  0.000000000\\\\\n",
       "\tskill & -0.0027649770 &  0.000000000\\\\\n",
       "\tsector0 & -0.0294930876 & -0.000921659\\\\\n",
       "\tsector1 &  0.0433179724 & -0.006451613\\\\\n",
       "\tsector2 & -0.0046082949 &  0.004608295\\\\\n",
       "\tsector3 & -0.0046082949 &  0.002764977\\\\\n",
       "\tsector4 & -0.0046082949 &  0.000000000\\\\\n",
       "\twork\\_12 &  0.0175115207 &  0.000921659\\\\\n",
       "\tnb\\_mthbf\\_12 &  0.3520737327 & -0.439631336\\\\\n",
       "\\end{tabular}\n"
      ],
      "text/markdown": [
       "\n",
       "A data.frame: 25 × 2\n",
       "\n",
       "| <!--/--> | Largest &lt;dbl&gt; | Mahalanobis &lt;dbl&gt; |\n",
       "|---|---|---|\n",
       "| distance |  0.0001635032 |  0.015243412 |\n",
       "| age | -0.1520737327 |  0.908755760 |\n",
       "| gender |  0.0138248848 |  0.011059908 |\n",
       "| married | -0.0009216590 |  0.011981567 |\n",
       "| natio1 |  0.0156682028 | -0.003686636 |\n",
       "| natio2 | -0.0258064516 | -0.001843318 |\n",
       "| natio3 | -0.0018433180 |  0.002764977 |\n",
       "| natio4 | -0.0055299539 |  0.000000000 |\n",
       "| natio5 |  0.0175115207 |  0.002764977 |\n",
       "| educ1 |  0.0046082949 |  0.004608295 |\n",
       "| educ2 | -0.0046082949 | -0.009216590 |\n",
       "| educ3 |  0.0000000000 |  0.004608295 |\n",
       "| EmployLevel1 |  0.0018433180 |  0.002764977 |\n",
       "| EmployLevel2 |  0.0092165899 | -0.002764977 |\n",
       "| EmployLevel3 | -0.0064516129 |  0.000000000 |\n",
       "| EmployLevel4 | -0.0036866359 |  0.000000000 |\n",
       "| EmployLevel5 | -0.0009216590 |  0.000000000 |\n",
       "| skill | -0.0027649770 |  0.000000000 |\n",
       "| sector0 | -0.0294930876 | -0.000921659 |\n",
       "| sector1 |  0.0433179724 | -0.006451613 |\n",
       "| sector2 | -0.0046082949 |  0.004608295 |\n",
       "| sector3 | -0.0046082949 |  0.002764977 |\n",
       "| sector4 | -0.0046082949 |  0.000000000 |\n",
       "| work_12 |  0.0175115207 |  0.000921659 |\n",
       "| nb_mthbf_12 |  0.3520737327 | -0.439631336 |\n",
       "\n"
      ],
      "text/plain": [
       "             Largest       Mahalanobis \n",
       "distance      0.0001635032  0.015243412\n",
       "age          -0.1520737327  0.908755760\n",
       "gender        0.0138248848  0.011059908\n",
       "married      -0.0009216590  0.011981567\n",
       "natio1        0.0156682028 -0.003686636\n",
       "natio2       -0.0258064516 -0.001843318\n",
       "natio3       -0.0018433180  0.002764977\n",
       "natio4       -0.0055299539  0.000000000\n",
       "natio5        0.0175115207  0.002764977\n",
       "educ1         0.0046082949  0.004608295\n",
       "educ2        -0.0046082949 -0.009216590\n",
       "educ3         0.0000000000  0.004608295\n",
       "EmployLevel1  0.0018433180  0.002764977\n",
       "EmployLevel2  0.0092165899 -0.002764977\n",
       "EmployLevel3 -0.0064516129  0.000000000\n",
       "EmployLevel4 -0.0036866359  0.000000000\n",
       "EmployLevel5 -0.0009216590  0.000000000\n",
       "skill        -0.0027649770  0.000000000\n",
       "sector0      -0.0294930876 -0.000921659\n",
       "sector1       0.0433179724 -0.006451613\n",
       "sector2      -0.0046082949  0.004608295\n",
       "sector3      -0.0046082949  0.002764977\n",
       "sector4      -0.0046082949  0.000000000\n",
       "work_12       0.0175115207  0.000921659\n",
       "nb_mthbf_12   0.3520737327 -0.439631336"
      ]
     },
     "metadata": {},
     "output_type": "display_data"
    }
   ],
   "source": [
    "a = summary(m_nn_L)[4]$sum.matched[,1]-summary(m_nn_L)[4]$sum.matched[,2] \n",
    "b = summary(m_nn_MAHA)[4]$sum.matched[,1]-summary(m_nn_MAHA)[4]$sum.matched[,2]\n",
    "data.frame('Largest'=a,'Mahalanobis'=b)"
   ]
  },
  {
   "cell_type": "markdown",
   "id": "major-testing",
   "metadata": {},
   "source": [
    "#### YOUR OWN PREFERRED ANALYSIS"
   ]
  },
  {
   "cell_type": "markdown",
   "id": "patient-duncan",
   "metadata": {},
   "source": [
    "#### 24 - Use any other methods (IPTW, Subclassification, regression, BART, CART etc...) for estimating ATE, ATT or other causal effects we believe are relevant for the study. You may also investigate treatment effect heterogeneity and estimate CATEs."
   ]
  },
  {
   "cell_type": "markdown",
   "id": "aggressive-slope",
   "metadata": {},
   "source": [
    "##### Subclassification"
   ]
  },
  {
   "cell_type": "code",
   "execution_count": 88,
   "id": "heated-observation",
   "metadata": {
    "scrolled": false
   },
   "outputs": [],
   "source": [
    "m_sub = matchit(formula, data = data, method = \"subclass\", estimand = \"ATT\", discard='control')\n",
    "res_24_a = rbind(res_23,ATT_calc(m_sub))\n",
    "rownames(res_24_a)[dim(res_24_a)[1]]='Subclassification'"
   ]
  },
  {
   "cell_type": "markdown",
   "id": "listed-heating",
   "metadata": {},
   "source": [
    "##### Optimal Match"
   ]
  },
  {
   "cell_type": "code",
   "execution_count": 89,
   "id": "assisted-leone",
   "metadata": {},
   "outputs": [],
   "source": [
    "m_opt = matchit(formula, data = data, method = \"optimal\", discard='control')\n",
    "res_24_b = rbind(res_24_a,ATT_calc(m_opt))\n",
    "rownames(res_24_b)[dim(res_24_b)[1]]='optimal'"
   ]
  },
  {
   "cell_type": "markdown",
   "id": "inclusive-lodge",
   "metadata": {},
   "source": [
    "##### Nearest Neighbour with common support on both T & C and with re-estimation of PS"
   ]
  },
  {
   "cell_type": "code",
   "execution_count": 90,
   "id": "painful-terrorism",
   "metadata": {},
   "outputs": [
    {
     "data": {
      "text/html": [
       "<table class=\"dataframe\">\n",
       "<caption>A data.frame: 10 × 4</caption>\n",
       "<thead>\n",
       "\t<tr><th></th><th scope=col>ATT_mean</th><th scope=col>ATT_lower_bound</th><th scope=col>ATT_upper_bound</th><th scope=col>ATT_std</th></tr>\n",
       "\t<tr><th></th><th scope=col>&lt;dbl&gt;</th><th scope=col>&lt;dbl&gt;</th><th scope=col>&lt;dbl&gt;</th><th scope=col>&lt;dbl&gt;</th></tr>\n",
       "</thead>\n",
       "<tbody>\n",
       "\t<tr><th scope=row>Stratification_13 (ATE)</th><td>-0.012988729</td><td>-0.063393447</td><td>0.03741599</td><td>0.02571669</td></tr>\n",
       "\t<tr><th scope=row>Stratification_14 (ATE)</th><td> 0.070288750</td><td> 0.023000797</td><td>0.11757670</td><td>0.02412651</td></tr>\n",
       "\t<tr><th scope=row>Stratification_13 (ATT)</th><td> 0.022892494</td><td>-0.008696394</td><td>0.05448138</td><td>0.01611678</td></tr>\n",
       "\t<tr><th scope=row>Stratification_14 (ATT)</th><td> 0.049178771</td><td> 0.005163809</td><td>0.09319373</td><td>0.02245661</td></tr>\n",
       "\t<tr><th scope=row>Largest PS</th><td> 0.033179724</td><td>-0.008701494</td><td>0.07506094</td><td>0.02136797</td></tr>\n",
       "\t<tr><th scope=row>Largest Mahalanobis</th><td> 0.004608295</td><td>-0.037393076</td><td>0.04660967</td><td>0.02142927</td></tr>\n",
       "\t<tr><th scope=row>Largest PS with rep</th><td> 0.035023041</td><td>-0.007996523</td><td>0.07804261</td><td>0.02194876</td></tr>\n",
       "\t<tr><th scope=row>Subclassification</th><td> 0.023184326</td><td>-0.007021306</td><td>0.05338996</td><td>0.01541104</td></tr>\n",
       "\t<tr><th scope=row>optimal</th><td> 0.023041475</td><td>-0.018890315</td><td>0.06497326</td><td>0.02139377</td></tr>\n",
       "\t<tr><th scope=row>Largest T&amp;C common support</th><td> 0.021198157</td><td>-0.020741888</td><td>0.06313820</td><td>0.02139798</td></tr>\n",
       "</tbody>\n",
       "</table>\n"
      ],
      "text/latex": [
       "A data.frame: 10 × 4\n",
       "\\begin{tabular}{r|llll}\n",
       "  & ATT\\_mean & ATT\\_lower\\_bound & ATT\\_upper\\_bound & ATT\\_std\\\\\n",
       "  & <dbl> & <dbl> & <dbl> & <dbl>\\\\\n",
       "\\hline\n",
       "\tStratification\\_13 (ATE) & -0.012988729 & -0.063393447 & 0.03741599 & 0.02571669\\\\\n",
       "\tStratification\\_14 (ATE) &  0.070288750 &  0.023000797 & 0.11757670 & 0.02412651\\\\\n",
       "\tStratification\\_13 (ATT) &  0.022892494 & -0.008696394 & 0.05448138 & 0.01611678\\\\\n",
       "\tStratification\\_14 (ATT) &  0.049178771 &  0.005163809 & 0.09319373 & 0.02245661\\\\\n",
       "\tLargest PS &  0.033179724 & -0.008701494 & 0.07506094 & 0.02136797\\\\\n",
       "\tLargest Mahalanobis &  0.004608295 & -0.037393076 & 0.04660967 & 0.02142927\\\\\n",
       "\tLargest PS with rep &  0.035023041 & -0.007996523 & 0.07804261 & 0.02194876\\\\\n",
       "\tSubclassification &  0.023184326 & -0.007021306 & 0.05338996 & 0.01541104\\\\\n",
       "\toptimal &  0.023041475 & -0.018890315 & 0.06497326 & 0.02139377\\\\\n",
       "\tLargest T\\&C common support &  0.021198157 & -0.020741888 & 0.06313820 & 0.02139798\\\\\n",
       "\\end{tabular}\n"
      ],
      "text/markdown": [
       "\n",
       "A data.frame: 10 × 4\n",
       "\n",
       "| <!--/--> | ATT_mean &lt;dbl&gt; | ATT_lower_bound &lt;dbl&gt; | ATT_upper_bound &lt;dbl&gt; | ATT_std &lt;dbl&gt; |\n",
       "|---|---|---|---|---|\n",
       "| Stratification_13 (ATE) | -0.012988729 | -0.063393447 | 0.03741599 | 0.02571669 |\n",
       "| Stratification_14 (ATE) |  0.070288750 |  0.023000797 | 0.11757670 | 0.02412651 |\n",
       "| Stratification_13 (ATT) |  0.022892494 | -0.008696394 | 0.05448138 | 0.01611678 |\n",
       "| Stratification_14 (ATT) |  0.049178771 |  0.005163809 | 0.09319373 | 0.02245661 |\n",
       "| Largest PS |  0.033179724 | -0.008701494 | 0.07506094 | 0.02136797 |\n",
       "| Largest Mahalanobis |  0.004608295 | -0.037393076 | 0.04660967 | 0.02142927 |\n",
       "| Largest PS with rep |  0.035023041 | -0.007996523 | 0.07804261 | 0.02194876 |\n",
       "| Subclassification |  0.023184326 | -0.007021306 | 0.05338996 | 0.01541104 |\n",
       "| optimal |  0.023041475 | -0.018890315 | 0.06497326 | 0.02139377 |\n",
       "| Largest T&amp;C common support |  0.021198157 | -0.020741888 | 0.06313820 | 0.02139798 |\n",
       "\n"
      ],
      "text/plain": [
       "                           ATT_mean     ATT_lower_bound ATT_upper_bound\n",
       "Stratification_13 (ATE)    -0.012988729 -0.063393447    0.03741599     \n",
       "Stratification_14 (ATE)     0.070288750  0.023000797    0.11757670     \n",
       "Stratification_13 (ATT)     0.022892494 -0.008696394    0.05448138     \n",
       "Stratification_14 (ATT)     0.049178771  0.005163809    0.09319373     \n",
       "Largest PS                  0.033179724 -0.008701494    0.07506094     \n",
       "Largest Mahalanobis         0.004608295 -0.037393076    0.04660967     \n",
       "Largest PS with rep         0.035023041 -0.007996523    0.07804261     \n",
       "Subclassification           0.023184326 -0.007021306    0.05338996     \n",
       "optimal                     0.023041475 -0.018890315    0.06497326     \n",
       "Largest T&C common support  0.021198157 -0.020741888    0.06313820     \n",
       "                           ATT_std   \n",
       "Stratification_13 (ATE)    0.02571669\n",
       "Stratification_14 (ATE)    0.02412651\n",
       "Stratification_13 (ATT)    0.01611678\n",
       "Stratification_14 (ATT)    0.02245661\n",
       "Largest PS                 0.02136797\n",
       "Largest Mahalanobis        0.02142927\n",
       "Largest PS with rep        0.02194876\n",
       "Subclassification          0.01541104\n",
       "optimal                    0.02139377\n",
       "Largest T&C common support 0.02139798"
      ]
     },
     "metadata": {},
     "output_type": "display_data"
    }
   ],
   "source": [
    "m_larg_both = matchit(formula, data = data,\n",
    "                      method = \"nearest\",\n",
    "                      discard='both',\n",
    "                      reestimate=TRUE,\n",
    "                      m.order='largest')\n",
    "res_24_c = rbind(res_24_b,ATT_calc(m_larg_both))\n",
    "rownames(res_24_c)[dim(res_24_c)[1]]='Largest T&C common support'\n",
    "res_24_c"
   ]
  },
  {
   "cell_type": "markdown",
   "id": "elementary-thousand",
   "metadata": {},
   "source": [
    "Investigation of treatment effect heterogeneity on the subclassification match."
   ]
  },
  {
   "cell_type": "code",
   "execution_count": 86,
   "id": "minor-portable",
   "metadata": {},
   "outputs": [
    {
     "data": {
      "text/html": [
       "<table class=\"dataframe\">\n",
       "<caption>A data.frame: 6 × 5</caption>\n",
       "<thead>\n",
       "\t<tr><th></th><th scope=col>ATT_mean</th><th scope=col>ATT_lower_bound</th><th scope=col>ATT_upper_bound</th><th scope=col>ATT_std</th><th scope=col>N</th></tr>\n",
       "\t<tr><th></th><th scope=col>&lt;dbl&gt;</th><th scope=col>&lt;dbl&gt;</th><th scope=col>&lt;dbl&gt;</th><th scope=col>&lt;dbl&gt;</th><th scope=col>&lt;table&gt;</th></tr>\n",
       "</thead>\n",
       "<tbody>\n",
       "\t<tr><th scope=row>sub_1</th><td>-0.04832790</td><td>-0.121570754</td><td>0.02491495</td><td>0.03736880</td><td>181</td></tr>\n",
       "\t<tr><th scope=row>sub_2</th><td> 0.08359726</td><td> 0.009193415</td><td>0.15800111</td><td>0.03796115</td><td>181</td></tr>\n",
       "\t<tr><th scope=row>sub_3</th><td> 0.06571443</td><td>-0.010270803</td><td>0.14169967</td><td>0.03876798</td><td>180</td></tr>\n",
       "\t<tr><th scope=row>sub_4</th><td> 0.01980215</td><td>-0.058147259</td><td>0.09775157</td><td>0.03977011</td><td>181</td></tr>\n",
       "\t<tr><th scope=row>sub_5</th><td> 0.04629560</td><td>-0.033463492</td><td>0.12605470</td><td>0.04069342</td><td>181</td></tr>\n",
       "\t<tr><th scope=row>sub_6</th><td>-0.02774062</td><td>-0.110470834</td><td>0.05498959</td><td>0.04220929</td><td>181</td></tr>\n",
       "</tbody>\n",
       "</table>\n"
      ],
      "text/latex": [
       "A data.frame: 6 × 5\n",
       "\\begin{tabular}{r|lllll}\n",
       "  & ATT\\_mean & ATT\\_lower\\_bound & ATT\\_upper\\_bound & ATT\\_std & N\\\\\n",
       "  & <dbl> & <dbl> & <dbl> & <dbl> & <table>\\\\\n",
       "\\hline\n",
       "\tsub\\_1 & -0.04832790 & -0.121570754 & 0.02491495 & 0.03736880 & 181\\\\\n",
       "\tsub\\_2 &  0.08359726 &  0.009193415 & 0.15800111 & 0.03796115 & 181\\\\\n",
       "\tsub\\_3 &  0.06571443 & -0.010270803 & 0.14169967 & 0.03876798 & 180\\\\\n",
       "\tsub\\_4 &  0.01980215 & -0.058147259 & 0.09775157 & 0.03977011 & 181\\\\\n",
       "\tsub\\_5 &  0.04629560 & -0.033463492 & 0.12605470 & 0.04069342 & 181\\\\\n",
       "\tsub\\_6 & -0.02774062 & -0.110470834 & 0.05498959 & 0.04220929 & 181\\\\\n",
       "\\end{tabular}\n"
      ],
      "text/markdown": [
       "\n",
       "A data.frame: 6 × 5\n",
       "\n",
       "| <!--/--> | ATT_mean &lt;dbl&gt; | ATT_lower_bound &lt;dbl&gt; | ATT_upper_bound &lt;dbl&gt; | ATT_std &lt;dbl&gt; | N &lt;table&gt; |\n",
       "|---|---|---|---|---|---|\n",
       "| sub_1 | -0.04832790 | -0.121570754 | 0.02491495 | 0.03736880 | 181 |\n",
       "| sub_2 |  0.08359726 |  0.009193415 | 0.15800111 | 0.03796115 | 181 |\n",
       "| sub_3 |  0.06571443 | -0.010270803 | 0.14169967 | 0.03876798 | 180 |\n",
       "| sub_4 |  0.01980215 | -0.058147259 | 0.09775157 | 0.03977011 | 181 |\n",
       "| sub_5 |  0.04629560 | -0.033463492 | 0.12605470 | 0.04069342 | 181 |\n",
       "| sub_6 | -0.02774062 | -0.110470834 | 0.05498959 | 0.04220929 | 181 |\n",
       "\n"
      ],
      "text/plain": [
       "      ATT_mean    ATT_lower_bound ATT_upper_bound ATT_std    N  \n",
       "sub_1 -0.04832790 -0.121570754    0.02491495      0.03736880 181\n",
       "sub_2  0.08359726  0.009193415    0.15800111      0.03796115 181\n",
       "sub_3  0.06571443 -0.010270803    0.14169967      0.03876798 180\n",
       "sub_4  0.01980215 -0.058147259    0.09775157      0.03977011 181\n",
       "sub_5  0.04629560 -0.033463492    0.12605470      0.04069342 181\n",
       "sub_6 -0.02774062 -0.110470834    0.05498959      0.04220929 181"
      ]
     },
     "metadata": {},
     "output_type": "display_data"
    }
   ],
   "source": [
    "data_sub = match.data(m_sub)\n",
    "for(s in 1:max(as.numeric(data_sub$subclass))){\n",
    "    ATT_s = ATT_calc(data_sub[data_sub$subclass==s,], already_matched=TRUE)\n",
    "    if (s==1){\n",
    "        CATE = data.frame(ATT_s)\n",
    "        rownames(CATE) = c('sub_1')\n",
    "    }\n",
    "    else{\n",
    "        CATE = rbind(CATE, data.frame(ATT_s))  \n",
    "        rownames(CATE) = c(rownames(CATE)[1:dim(CATE)[1]-1],paste('sub', s, sep=\"_\"))\n",
    "    }\n",
    "}\n",
    "CATE['N'] = table(unlist(data_sub[data_sub$TREAT==1,'subclass']))\n",
    "CATE"
   ]
  },
  {
   "cell_type": "markdown",
   "id": "recognized-stocks",
   "metadata": {},
   "source": [
    "#### 25. Please briefy present the method and explain your preference & 26. Compare estimates and discuss results in terms of point estimates and variances.\n",
    "I tried multiple strategies for the matching in order to compare the final results.<br>\n",
    "The subclassification is very similar to what I tried to achieve in step 13 (groups with similar amount of treated units) but it finds automatically the number of subclasses. <br>\n",
    "The optimal match is similar to the nearest neighbor matching except that an overall distance criterion is minimized (no greedy algorithm used). <br>\n",
    "Finally, I tried to performe an NN matching with common support on both treated and controls (units with complete overlap only are considered) and with re-estimation of PS after the trimming operation.<br><br>\n",
    "I do not have a clear preference because there are two considerations that point in different directions:\n",
    "- Mahalanobis distance is the one with lower difference in mean with respect to \"largest\" stratification; this means that the categories are more balanced, even though there is no comparable variance measure to deeply analyze this concept.\n",
    "- All matching except the Mahalanobis are showing a positive ATT of around 2/3 %.\n",
    "<br>\n",
    "The 95% confidence interval for all the methods (except the Mahalanobis one) shows an \"almost zero\" effect as lower bound and a range of []% for the upper bound. These values for the CI tell us that the effect is positive but probably the effect can be different based on groups and this is why the CATE analysis performed at the previous step can be useful (even though in this case does not answer the question because the variances in each group are still pretty high)."
   ]
  },
  {
   "cell_type": "code",
   "execution_count": 91,
   "id": "sized-fifteen",
   "metadata": {},
   "outputs": [
    {
     "data": {
      "text/html": [
       "<table class=\"dataframe\">\n",
       "<caption>A data.frame: 10 × 4</caption>\n",
       "<thead>\n",
       "\t<tr><th></th><th scope=col>ATT_mean</th><th scope=col>ATT_lower_bound</th><th scope=col>ATT_upper_bound</th><th scope=col>ATT_std</th></tr>\n",
       "\t<tr><th></th><th scope=col>&lt;dbl&gt;</th><th scope=col>&lt;dbl&gt;</th><th scope=col>&lt;dbl&gt;</th><th scope=col>&lt;dbl&gt;</th></tr>\n",
       "</thead>\n",
       "<tbody>\n",
       "\t<tr><th scope=row>Stratification_13 (ATE)</th><td>-0.012988729</td><td>-0.063393447</td><td>0.03741599</td><td>0.02571669</td></tr>\n",
       "\t<tr><th scope=row>Stratification_14 (ATE)</th><td> 0.070288750</td><td> 0.023000797</td><td>0.11757670</td><td>0.02412651</td></tr>\n",
       "\t<tr><th scope=row>Stratification_13 (ATT)</th><td> 0.022892494</td><td>-0.008696394</td><td>0.05448138</td><td>0.01611678</td></tr>\n",
       "\t<tr><th scope=row>Stratification_14 (ATT)</th><td> 0.049178771</td><td> 0.005163809</td><td>0.09319373</td><td>0.02245661</td></tr>\n",
       "\t<tr><th scope=row>Largest PS</th><td> 0.033179724</td><td>-0.008701494</td><td>0.07506094</td><td>0.02136797</td></tr>\n",
       "\t<tr><th scope=row>Largest Mahalanobis</th><td> 0.004608295</td><td>-0.037393076</td><td>0.04660967</td><td>0.02142927</td></tr>\n",
       "\t<tr><th scope=row>Largest PS with rep</th><td> 0.035023041</td><td>-0.007996523</td><td>0.07804261</td><td>0.02194876</td></tr>\n",
       "\t<tr><th scope=row>Subclassification</th><td> 0.023184326</td><td>-0.007021306</td><td>0.05338996</td><td>0.01541104</td></tr>\n",
       "\t<tr><th scope=row>optimal</th><td> 0.023041475</td><td>-0.018890315</td><td>0.06497326</td><td>0.02139377</td></tr>\n",
       "\t<tr><th scope=row>Largest T&amp;C common support</th><td> 0.021198157</td><td>-0.020741888</td><td>0.06313820</td><td>0.02139798</td></tr>\n",
       "</tbody>\n",
       "</table>\n"
      ],
      "text/latex": [
       "A data.frame: 10 × 4\n",
       "\\begin{tabular}{r|llll}\n",
       "  & ATT\\_mean & ATT\\_lower\\_bound & ATT\\_upper\\_bound & ATT\\_std\\\\\n",
       "  & <dbl> & <dbl> & <dbl> & <dbl>\\\\\n",
       "\\hline\n",
       "\tStratification\\_13 (ATE) & -0.012988729 & -0.063393447 & 0.03741599 & 0.02571669\\\\\n",
       "\tStratification\\_14 (ATE) &  0.070288750 &  0.023000797 & 0.11757670 & 0.02412651\\\\\n",
       "\tStratification\\_13 (ATT) &  0.022892494 & -0.008696394 & 0.05448138 & 0.01611678\\\\\n",
       "\tStratification\\_14 (ATT) &  0.049178771 &  0.005163809 & 0.09319373 & 0.02245661\\\\\n",
       "\tLargest PS &  0.033179724 & -0.008701494 & 0.07506094 & 0.02136797\\\\\n",
       "\tLargest Mahalanobis &  0.004608295 & -0.037393076 & 0.04660967 & 0.02142927\\\\\n",
       "\tLargest PS with rep &  0.035023041 & -0.007996523 & 0.07804261 & 0.02194876\\\\\n",
       "\tSubclassification &  0.023184326 & -0.007021306 & 0.05338996 & 0.01541104\\\\\n",
       "\toptimal &  0.023041475 & -0.018890315 & 0.06497326 & 0.02139377\\\\\n",
       "\tLargest T\\&C common support &  0.021198157 & -0.020741888 & 0.06313820 & 0.02139798\\\\\n",
       "\\end{tabular}\n"
      ],
      "text/markdown": [
       "\n",
       "A data.frame: 10 × 4\n",
       "\n",
       "| <!--/--> | ATT_mean &lt;dbl&gt; | ATT_lower_bound &lt;dbl&gt; | ATT_upper_bound &lt;dbl&gt; | ATT_std &lt;dbl&gt; |\n",
       "|---|---|---|---|---|\n",
       "| Stratification_13 (ATE) | -0.012988729 | -0.063393447 | 0.03741599 | 0.02571669 |\n",
       "| Stratification_14 (ATE) |  0.070288750 |  0.023000797 | 0.11757670 | 0.02412651 |\n",
       "| Stratification_13 (ATT) |  0.022892494 | -0.008696394 | 0.05448138 | 0.01611678 |\n",
       "| Stratification_14 (ATT) |  0.049178771 |  0.005163809 | 0.09319373 | 0.02245661 |\n",
       "| Largest PS |  0.033179724 | -0.008701494 | 0.07506094 | 0.02136797 |\n",
       "| Largest Mahalanobis |  0.004608295 | -0.037393076 | 0.04660967 | 0.02142927 |\n",
       "| Largest PS with rep |  0.035023041 | -0.007996523 | 0.07804261 | 0.02194876 |\n",
       "| Subclassification |  0.023184326 | -0.007021306 | 0.05338996 | 0.01541104 |\n",
       "| optimal |  0.023041475 | -0.018890315 | 0.06497326 | 0.02139377 |\n",
       "| Largest T&amp;C common support |  0.021198157 | -0.020741888 | 0.06313820 | 0.02139798 |\n",
       "\n"
      ],
      "text/plain": [
       "                           ATT_mean     ATT_lower_bound ATT_upper_bound\n",
       "Stratification_13 (ATE)    -0.012988729 -0.063393447    0.03741599     \n",
       "Stratification_14 (ATE)     0.070288750  0.023000797    0.11757670     \n",
       "Stratification_13 (ATT)     0.022892494 -0.008696394    0.05448138     \n",
       "Stratification_14 (ATT)     0.049178771  0.005163809    0.09319373     \n",
       "Largest PS                  0.033179724 -0.008701494    0.07506094     \n",
       "Largest Mahalanobis         0.004608295 -0.037393076    0.04660967     \n",
       "Largest PS with rep         0.035023041 -0.007996523    0.07804261     \n",
       "Subclassification           0.023184326 -0.007021306    0.05338996     \n",
       "optimal                     0.023041475 -0.018890315    0.06497326     \n",
       "Largest T&C common support  0.021198157 -0.020741888    0.06313820     \n",
       "                           ATT_std   \n",
       "Stratification_13 (ATE)    0.02571669\n",
       "Stratification_14 (ATE)    0.02412651\n",
       "Stratification_13 (ATT)    0.01611678\n",
       "Stratification_14 (ATT)    0.02245661\n",
       "Largest PS                 0.02136797\n",
       "Largest Mahalanobis        0.02142927\n",
       "Largest PS with rep        0.02194876\n",
       "Subclassification          0.01541104\n",
       "optimal                    0.02139377\n",
       "Largest T&C common support 0.02139798"
      ]
     },
     "metadata": {},
     "output_type": "display_data"
    }
   ],
   "source": [
    "res_24_c"
   ]
  },
  {
   "cell_type": "markdown",
   "id": "novel-variable",
   "metadata": {},
   "source": [
    "# 2 - Verification"
   ]
  },
  {
   "cell_type": "markdown",
   "id": "spare-collector",
   "metadata": {},
   "source": [
    "#### Verification N13"
   ]
  },
  {
   "cell_type": "code",
   "execution_count": 59,
   "id": "classical-pipeline",
   "metadata": {},
   "outputs": [
    {
     "data": {
      "text/html": [
       "<dl>\n",
       "\t<dt>$ATT_mean</dt>\n",
       "\t\t<dd>-0.0129984502392322</dd>\n",
       "\t<dt>$ATT_lower_bound</dt>\n",
       "\t\t<dd>-0.0432040979687153</dd>\n",
       "\t<dt>$ATT_upper_bound</dt>\n",
       "\t\t<dd>0.017207197490251</dd>\n",
       "\t<dt>$ATT_std</dt>\n",
       "\t\t<dd>0.0154110447599404</dd>\n",
       "</dl>\n"
      ],
      "text/latex": [
       "\\begin{description}\n",
       "\\item[\\$ATT\\_mean] -0.0129984502392322\n",
       "\\item[\\$ATT\\_lower\\_bound] -0.0432040979687153\n",
       "\\item[\\$ATT\\_upper\\_bound] 0.017207197490251\n",
       "\\item[\\$ATT\\_std] 0.0154110447599404\n",
       "\\end{description}\n"
      ],
      "text/markdown": [
       "$ATT_mean\n",
       ":   -0.0129984502392322\n",
       "$ATT_lower_bound\n",
       ":   -0.0432040979687153\n",
       "$ATT_upper_bound\n",
       ":   0.017207197490251\n",
       "$ATT_std\n",
       ":   0.0154110447599404\n",
       "\n",
       "\n"
      ],
      "text/plain": [
       "$ATT_mean\n",
       "[1] -0.01299845\n",
       "\n",
       "$ATT_lower_bound\n",
       "[1] -0.0432041\n",
       "\n",
       "$ATT_upper_bound\n",
       "[1] 0.0172072\n",
       "\n",
       "$ATT_std\n",
       "[1] 0.01541104\n"
      ]
     },
     "metadata": {},
     "output_type": "display_data"
    },
    {
     "data": {
      "text/plain": [
       "   Z_trim\n",
       "        0     1\n",
       "  1 23789   209\n",
       "  2  4450   208\n",
       "  3  1954   221\n",
       "  4  1292   208\n",
       "  5   761   239"
      ]
     },
     "metadata": {},
     "output_type": "display_data"
    },
    {
     "data": {
      "text/html": [
       "33331"
      ],
      "text/latex": [
       "33331"
      ],
      "text/markdown": [
       "33331"
      ],
      "text/plain": [
       "[1] 33331"
      ]
     },
     "metadata": {},
     "output_type": "display_data"
    },
    {
     "data": {
      "text/html": [
       "-0.012998450239232"
      ],
      "text/latex": [
       "-0.012998450239232"
      ],
      "text/markdown": [
       "-0.012998450239232"
      ],
      "text/plain": [
       "[1] -0.01299845"
      ]
     },
     "metadata": {},
     "output_type": "display_data"
    },
    {
     "data": {
      "text/html": [
       "0.0257152203632803"
      ],
      "text/latex": [
       "0.0257152203632803"
      ],
      "text/markdown": [
       "0.0257152203632803"
      ],
      "text/plain": [
       "[1] 0.02571522"
      ]
     },
     "metadata": {},
     "output_type": "display_data"
    },
    {
     "data": {
      "text/html": [
       "0.023079916400164"
      ],
      "text/latex": [
       "0.023079916400164"
      ],
      "text/markdown": [
       "0.023079916400164"
      ],
      "text/plain": [
       "[1] 0.02307992"
      ]
     },
     "metadata": {},
     "output_type": "display_data"
    },
    {
     "data": {
      "text/html": [
       "0.0161159207968739"
      ],
      "text/latex": [
       "0.0161159207968739"
      ],
      "text/markdown": [
       "0.0161159207968739"
      ],
      "text/plain": [
       "[1] 0.01611592"
      ]
     },
     "metadata": {},
     "output_type": "display_data"
    }
   ],
   "source": [
    "formula =TREAT ~ age + gender + married + natio1 + natio2 + natio3 + natio4 + natio5 + educ1 + educ2 + educ3 + EmployLevel1 + EmployLevel2 + EmployLevel3 + EmployLevel4 + EmployLevel5 + skill + sector0 + sector1 + sector2 + sector3 + sector4 + work_12 + nb_mthbf_12\n",
    "m.sub2 <- matchit(formula, \n",
    "                  data = data[trim_bool,], method = \"subclass\", discard='control', \n",
    "                  subclass=c(0.72, 0.86, 0.925, 0.97),  estimand='ATE')\n",
    "ATT_calc(m.sub2)\n",
    "table(m.sub2$subclass, Z_trim)\n",
    "\n",
    "# Get matched data, subclass indicator variable is “subclass”\n",
    "data.sub <- match.data(m.sub2)\n",
    "\n",
    "\n",
    "#ATE estimate (combining subclass-specific estimate)\n",
    "# define N = total number of people \n",
    "N <- dim(data.sub)[1]\n",
    "N\n",
    "Nt <- sum(data.sub$TREAT==1)\n",
    "#Neyman within each subclass\n",
    "\n",
    "\n",
    "# Initialize vectors for subclass-specific effects \n",
    "sub.effect <- rep(NA, max(as.numeric(data.sub$subclass)))\n",
    "sub.var <- rep(NA, max(as.numeric(data.sub$subclass)))\n",
    "sub.N <- sub.Nt<-rep(NA, max(as.numeric(data.sub$subclass)))\n",
    "\n",
    "for(s in 1:max(as.numeric(data.sub$subclass))){\n",
    "  sub.effect[s] <- mean(data.sub$Outcome[data.sub$TREAT==1 & data.sub$subclass==s])-\n",
    "    mean(data.sub$Outcome[data.sub$TREAT==0 & data.sub$subclass==s])\n",
    "  sub.var[s] <-  \n",
    "    var(data.sub$Outcome[data.sub$TREAT==1 & data.sub$subclass==s])/sum(data.sub$TREAT==1 & data.sub$subclass==s)+\n",
    "    var(data.sub$Outcome[data.sub$TREAT==0 & data.sub$subclass==s])/sum(data.sub$TREAT==0 & data.sub$subclass==s)\n",
    "  sub.N[s] <- sum(data.sub$subclass==s) \n",
    "  sub.Nt[s] <- sum(data.sub$TREAT==1 & data.sub$subclass==s) \n",
    "}\n",
    "# Calculate overall ATE and ATT effects\n",
    "ATE.effect <- sum((sub.N/N)*sub.effect)\n",
    "ATE.effect \n",
    "ATE.stderror <- sqrt(sum((sub.N/N)^2*sub.var))\n",
    "ATE.stderror \n",
    "\n",
    "# Calculate overall ATE and ATT effects\n",
    "ATT.effect <- sum((sub.Nt/Nt)*sub.effect)\n",
    "ATT.effect \n",
    "ATT.stderror <- sqrt(sum((sub.Nt/Nt)^2*sub.var))\n",
    "ATT.stderror \n"
   ]
  },
  {
   "cell_type": "markdown",
   "id": "auburn-robertson",
   "metadata": {},
   "source": [
    "# 3 - Backup"
   ]
  },
  {
   "cell_type": "code",
   "execution_count": 92,
   "id": "sporting-package",
   "metadata": {},
   "outputs": [],
   "source": [
    "# sub.effect\n",
    "# ate"
   ]
  },
  {
   "cell_type": "code",
   "execution_count": 39,
   "id": "guilty-bleeding",
   "metadata": {},
   "outputs": [
    {
     "data": {
      "text/plain": [
       "   Z\n",
       "        0     1\n",
       "  1 22735   181\n",
       "  2  4607   181\n",
       "  3  2182   180\n",
       "  4  1265   181\n",
       "  5   888   181\n",
       "  6   570   181"
      ]
     },
     "metadata": {},
     "output_type": "display_data"
    }
   ],
   "source": [
    "# table(m_sub$subclass, Z)\n"
   ]
  },
  {
   "cell_type": "code",
   "execution_count": 40,
   "id": "retained-midwest",
   "metadata": {},
   "outputs": [
    {
     "data": {
      "text/html": [
       "4658"
      ],
      "text/latex": [
       "4658"
      ],
      "text/markdown": [
       "4658"
      ],
      "text/plain": [
       "[1] 4658"
      ]
     },
     "metadata": {},
     "output_type": "display_data"
    },
    {
     "data": {
      "text/html": [
       "<style>\n",
       ".list-inline {list-style: none; margin:0; padding: 0}\n",
       ".list-inline>li {display: inline-block}\n",
       ".list-inline>li:not(:last-child)::after {content: \"\\00b7\"; padding: 0 .5ex}\n",
       "</style>\n",
       "<ol class=list-inline><li>4669</li><li>24</li></ol>\n"
      ],
      "text/latex": [
       "\\begin{enumerate*}\n",
       "\\item 4669\n",
       "\\item 24\n",
       "\\end{enumerate*}\n"
      ],
      "text/markdown": [
       "1. 4669\n",
       "2. 24\n",
       "\n",
       "\n"
      ],
      "text/plain": [
       "[1] 4669   24"
      ]
     },
     "metadata": {},
     "output_type": "display_data"
    }
   ],
   "source": [
    "# sum(data.sub$subclass==2) \n",
    "# dim(X_trim[bins==2,]) "
   ]
  },
  {
   "cell_type": "code",
   "execution_count": 41,
   "id": "virgin-interval",
   "metadata": {},
   "outputs": [
    {
     "data": {
      "text/html": [
       "0.107858686257563"
      ],
      "text/latex": [
       "0.107858686257563"
      ],
      "text/markdown": [
       "0.107858686257563"
      ],
      "text/plain": [
       "[1] 0.1078587"
      ]
     },
     "metadata": {},
     "output_type": "display_data"
    }
   ],
   "source": [
    "# mean(data.sub$Outcome[data.sub$TREAT==1 & data.sub$subclass==2])-\n",
    "#     mean(data.sub$Outcome[data.sub$TREAT==0 & data.sub$subclass==2])"
   ]
  },
  {
   "cell_type": "code",
   "execution_count": 42,
   "id": "contemporary-restaurant",
   "metadata": {},
   "outputs": [
    {
     "ename": "ERROR",
     "evalue": "Error in table(data.sub$subclass, Z_trim): all arguments must have the same length\n",
     "output_type": "error",
     "traceback": [
      "Error in table(data.sub$subclass, Z_trim): all arguments must have the same length\nTraceback:\n",
      "1. table(data.sub$subclass, Z_trim)",
      "2. stop(\"all arguments must have the same length\")"
     ]
    }
   ],
   "source": [
    "# table(data.sub$subclass,Z_trim)"
   ]
  },
  {
   "cell_type": "code",
   "execution_count": null,
   "id": "noble-municipality",
   "metadata": {},
   "outputs": [],
   "source": [
    "# out_data = match.data(m_nn_MAHA)\n",
    "# sum(out_data$TREAT==0)==sum(out_data$TREAT==1)\n",
    "# mean(out_data$Outcome[out_data$TREAT==1] - out_data$Outcome[out_data$TREAT==0])\n",
    "# out_data"
   ]
  },
  {
   "cell_type": "code",
   "execution_count": null,
   "id": "dynamic-ridge",
   "metadata": {},
   "outputs": [],
   "source": [
    "# m_nn_MAHA$distance[Z==1] - m_nn_MAHA$distance[m_nn_MAHA$match.matrix]"
   ]
  },
  {
   "cell_type": "code",
   "execution_count": null,
   "id": "binary-cologne",
   "metadata": {},
   "outputs": [],
   "source": [
    "# m_nn_MAHA"
   ]
  },
  {
   "cell_type": "code",
   "execution_count": null,
   "id": "average-triangle",
   "metadata": {},
   "outputs": [],
   "source": [
    "# m = matchit(formula, data = data, method = \"nearest\", discard='control', reestimate=FALSE, m.order='largest')"
   ]
  },
  {
   "cell_type": "code",
   "execution_count": null,
   "id": "adopted-speed",
   "metadata": {},
   "outputs": [],
   "source": [
    "# formula"
   ]
  },
  {
   "cell_type": "code",
   "execution_count": null,
   "id": "defined-limitation",
   "metadata": {},
   "outputs": [],
   "source": [
    "# m = matchit(formula, data = data, method = \"nearest\", m.order='random', distance='glm', mahvars = ~ age + gender + married + natio1 + natio2 + natio3 + natio4 + \n",
    "#     natio5 + educ1 + educ2 + educ3 + EmployLevel1 + EmployLevel2 + \n",
    "#     EmployLevel3 + EmployLevel4 + EmployLevel5 + skill + sector0 + \n",
    "#     sector1 + sector2 + sector3 + sector4 + work_12 + nb_mthbf_12)\n"
   ]
  },
  {
   "cell_type": "code",
   "execution_count": null,
   "id": "parliamentary-church",
   "metadata": {},
   "outputs": [],
   "source": [
    "# out_data = match.data(m)\n",
    "# sum(out_data$TREAT==0)==sum(out_data$TREAT==1)\n",
    "# mean(out_data$Outcome[out_data$TREAT==1] - out_data$Outcome[out_data$TREAT==0])"
   ]
  },
  {
   "cell_type": "code",
   "execution_count": null,
   "id": "controlled-coral",
   "metadata": {},
   "outputs": [],
   "source": [
    "# mean(m$distance[Z==1] - m$distance[m_nn_MAHA$match.matrix])"
   ]
  },
  {
   "cell_type": "code",
   "execution_count": null,
   "id": "static-taxation",
   "metadata": {},
   "outputs": [],
   "source": [
    "# mean(m$distance[Z==1] - m$distance[m_nn_MAHA$match.matrix])"
   ]
  },
  {
   "cell_type": "code",
   "execution_count": null,
   "id": "streaming-weekly",
   "metadata": {},
   "outputs": [],
   "source": [
    "# sum(match.data(m)[,'natio4'][match.data(m)[,'TREAT']==1])"
   ]
  },
  {
   "cell_type": "code",
   "execution_count": null,
   "id": "external-homework",
   "metadata": {},
   "outputs": [],
   "source": [
    "# out_data = match.data(m.sub2)\n",
    "# m_T = weighted.mean(out_data$Outcome[out_data$TREAT==1], out_data$weights[out_data$TREAT==1])\n",
    "# m_C = weighted.mean(out_data$Outcome[out_data$TREAT==0], out_data$weights[out_data$TREAT==0])\n",
    "# ATT = m_T-m_C\n",
    "# ATT"
   ]
  },
  {
   "cell_type": "code",
   "execution_count": null,
   "id": "featured-ranch",
   "metadata": {},
   "outputs": [],
   "source": [
    "# dim(X_trim*)"
   ]
  },
  {
   "cell_type": "code",
   "execution_count": null,
   "id": "hindu-uniform",
   "metadata": {},
   "outputs": [],
   "source": [
    "# Stratification_13 (ATE)"
   ]
  },
  {
   "cell_type": "code",
   "execution_count": null,
   "id": "fallen-grain",
   "metadata": {},
   "outputs": [],
   "source": [
    "# m.mydataR <- match.data(m_nn_L_rep)\n",
    "\n",
    "# mean(weighted.mean(m.mydataR$Outcome[m.mydataR$TREAT==1],\n",
    "#               m.mydataR$weights[m.mydataR$TREAT==1])-\n",
    "# weighted.mean(m.mydataR$Outcome[m.mydataR$TREAT==0],\n",
    "#                 m.mydataR$weights[m.mydataR$TREAT==0]))\n",
    "\n",
    "# modR<-lm(Outcome~TREAT, data=m.mydataR, weights=m.mydataR$weights)\n",
    "# summary(modR)\n",
    "\n",
    "# modR<-lm(Outcome~TREAT, data=match.data(m_nn_L), weights=match.data(m_nn_L)$weights)\n",
    "# summary(modR)"
   ]
  },
  {
   "cell_type": "code",
   "execution_count": 72,
   "id": "simplified-production",
   "metadata": {},
   "outputs": [
    {
     "data": {
      "text/html": [
       "<dl>\n",
       "\t<dt>$ATT_mean</dt>\n",
       "\t\t<dd>0.0231843264078687</dd>\n",
       "\t<dt>$ATT_lower_bound</dt>\n",
       "\t\t<dd>-0.00702130632973657</dd>\n",
       "\t<dt>$ATT_upper_bound</dt>\n",
       "\t\t<dd>0.0533899591454739</dd>\n",
       "\t<dt>$ATT_std</dt>\n",
       "\t\t<dd>0.0154110371110231</dd>\n",
       "</dl>\n"
      ],
      "text/latex": [
       "\\begin{description}\n",
       "\\item[\\$ATT\\_mean] 0.0231843264078687\n",
       "\\item[\\$ATT\\_lower\\_bound] -0.00702130632973657\n",
       "\\item[\\$ATT\\_upper\\_bound] 0.0533899591454739\n",
       "\\item[\\$ATT\\_std] 0.0154110371110231\n",
       "\\end{description}\n"
      ],
      "text/markdown": [
       "$ATT_mean\n",
       ":   0.0231843264078687\n",
       "$ATT_lower_bound\n",
       ":   -0.00702130632973657\n",
       "$ATT_upper_bound\n",
       ":   0.0533899591454739\n",
       "$ATT_std\n",
       ":   0.0154110371110231\n",
       "\n",
       "\n"
      ],
      "text/plain": [
       "$ATT_mean\n",
       "[1] 0.02318433\n",
       "\n",
       "$ATT_lower_bound\n",
       "[1] -0.007021306\n",
       "\n",
       "$ATT_upper_bound\n",
       "[1] 0.05338996\n",
       "\n",
       "$ATT_std\n",
       "[1] 0.01541104\n"
      ]
     },
     "metadata": {},
     "output_type": "display_data"
    },
    {
     "data": {
      "text/plain": [
       "   Z\n",
       "        0     1\n",
       "  1 22735   181\n",
       "  2  4607   181\n",
       "  3  2182   180\n",
       "  4  1265   181\n",
       "  5   888   181\n",
       "  6   570   181"
      ]
     },
     "metadata": {},
     "output_type": "display_data"
    },
    {
     "data": {
      "text/html": [
       "33332"
      ],
      "text/latex": [
       "33332"
      ],
      "text/markdown": [
       "33332"
      ],
      "text/plain": [
       "[1] 33332"
      ]
     },
     "metadata": {},
     "output_type": "display_data"
    },
    {
     "data": {
      "text/html": [
       "-0.0148419014942092"
      ],
      "text/latex": [
       "-0.0148419014942092"
      ],
      "text/markdown": [
       "-0.0148419014942092"
      ],
      "text/plain": [
       "[1] -0.0148419"
      ]
     },
     "metadata": {},
     "output_type": "display_data"
    },
    {
     "data": {
      "text/html": [
       "0.0265124649514178"
      ],
      "text/latex": [
       "0.0265124649514178"
      ],
      "text/markdown": [
       "0.0265124649514178"
      ],
      "text/plain": [
       "[1] 0.02651246"
      ]
     },
     "metadata": {},
     "output_type": "display_data"
    },
    {
     "data": {
      "text/html": [
       "0.0231843264078687"
      ],
      "text/latex": [
       "0.0231843264078687"
      ],
      "text/markdown": [
       "0.0231843264078687"
      ],
      "text/plain": [
       "[1] 0.02318433"
      ]
     },
     "metadata": {},
     "output_type": "display_data"
    },
    {
     "data": {
      "text/html": [
       "0.0161248093061912"
      ],
      "text/latex": [
       "0.0161248093061912"
      ],
      "text/markdown": [
       "0.0161248093061912"
      ],
      "text/plain": [
       "[1] 0.01612481"
      ]
     },
     "metadata": {},
     "output_type": "display_data"
    }
   ],
   "source": [
    "# m.sub2 = m_sub\n",
    "# ATT_calc(m.sub2)\n",
    "# table(m.sub2$subclass, Z)\n",
    "\n",
    "# # Get matched data, subclass indicator variable is “subclass”\n",
    "# data.sub <- match.data(m.sub2)\n",
    "\n",
    "\n",
    "# #ATE estimate (combining subclass-specific estimate)\n",
    "# # define N = total number of people \n",
    "# N <- dim(data.sub)[1]\n",
    "# N\n",
    "# Nt <- sum(data.sub$TREAT==1)\n",
    "# #Neyman within each subclass\n",
    "\n",
    "\n",
    "# # Initialize vectors for subclass-specific effects \n",
    "# sub.effect <- rep(NA, max(as.numeric(data.sub$subclass)))\n",
    "# sub.var <- rep(NA, max(as.numeric(data.sub$subclass)))\n",
    "# sub.N <- sub.Nt<-rep(NA, max(as.numeric(data.sub$subclass)))\n",
    "\n",
    "# for(s in 1:max(as.numeric(data.sub$subclass))){\n",
    "#   sub.effect[s] <- mean(data.sub$Outcome[data.sub$TREAT==1 & data.sub$subclass==s])-\n",
    "#     mean(data.sub$Outcome[data.sub$TREAT==0 & data.sub$subclass==s])\n",
    "#   sub.var[s] <-  \n",
    "#     var(data.sub$Outcome[data.sub$TREAT==1 & data.sub$subclass==s])/sum(data.sub$TREAT==1 & data.sub$subclass==s)+\n",
    "#     var(data.sub$Outcome[data.sub$TREAT==0 & data.sub$subclass==s])/sum(data.sub$TREAT==0 & data.sub$subclass==s)\n",
    "#   sub.N[s] <- sum(data.sub$subclass==s) \n",
    "#   sub.Nt[s] <- sum(data.sub$TREAT==1 & data.sub$subclass==s) \n",
    "# }\n",
    "# # Calculate overall ATE and ATT effects\n",
    "# ATE.effect <- sum((sub.N/N)*sub.effect)\n",
    "# ATE.effect \n",
    "# ATE.stderror <- sqrt(sum((sub.N/N)^2*sub.var))\n",
    "# ATE.stderror \n",
    "\n",
    "# # Calculate overall ATE and ATT effects\n",
    "# ATT.effect <- sum((sub.Nt/Nt)*sub.effect)\n",
    "# ATT.effect \n",
    "# ATT.stderror <- sqrt(sum((sub.Nt/Nt)^2*sub.var))\n",
    "# ATT.stderror \n"
   ]
  },
  {
   "cell_type": "code",
   "execution_count": 77,
   "id": "round-royal",
   "metadata": {},
   "outputs": [
    {
     "data": {
      "text/html": [
       "<style>\n",
       ".list-inline {list-style: none; margin:0; padding: 0}\n",
       ".list-inline>li {display: inline-block}\n",
       ".list-inline>li:not(:last-child)::after {content: \"\\00b7\"; padding: 0 .5ex}\n",
       "</style>\n",
       "<ol class=list-inline><li>181</li><li>181</li><li>180</li><li>181</li><li>181</li><li>181</li></ol>\n"
      ],
      "text/latex": [
       "\\begin{enumerate*}\n",
       "\\item 181\n",
       "\\item 181\n",
       "\\item 180\n",
       "\\item 181\n",
       "\\item 181\n",
       "\\item 181\n",
       "\\end{enumerate*}\n"
      ],
      "text/markdown": [
       "1. 181\n",
       "2. 181\n",
       "3. 180\n",
       "4. 181\n",
       "5. 181\n",
       "6. 181\n",
       "\n",
       "\n"
      ],
      "text/plain": [
       "[1] 181 181 180 181 181 181"
      ]
     },
     "metadata": {},
     "output_type": "display_data"
    }
   ],
   "source": [
    "# sub.Nt"
   ]
  },
  {
   "cell_type": "code",
   "execution_count": 84,
   "id": "textile-overview",
   "metadata": {},
   "outputs": [
    {
     "data": {
      "text/plain": [
       "[1] 623 194 104  65  42  40"
      ]
     },
     "metadata": {},
     "output_type": "display_data"
    }
   ],
   "source": [
    "# CATE$N/sum(CATE$N)"
   ]
  },
  {
   "cell_type": "code",
   "execution_count": 85,
   "id": "expected-mother",
   "metadata": {},
   "outputs": [
    {
     "data": {
      "text/html": [
       "181"
      ],
      "text/latex": [
       "181"
      ],
      "text/markdown": [
       "181"
      ],
      "text/plain": [
       "[1] 181"
      ]
     },
     "metadata": {},
     "output_type": "display_data"
    }
   ],
   "source": [
    "# sum(data_sub$TREAT==1 & data_sub$subclass==1)"
   ]
  },
  {
   "cell_type": "code",
   "execution_count": null,
   "id": "employed-aside",
   "metadata": {},
   "outputs": [],
   "source": [
    "# sum(data.sub$subclass==s) "
   ]
  }
 ],
 "metadata": {
  "kernelspec": {
   "display_name": "R",
   "language": "R",
   "name": "ir"
  },
  "language_info": {
   "codemirror_mode": "r",
   "file_extension": ".r",
   "mimetype": "text/x-r-source",
   "name": "R",
   "pygments_lexer": "r",
   "version": "4.0.4"
  }
 },
 "nbformat": 4,
 "nbformat_minor": 5
}
